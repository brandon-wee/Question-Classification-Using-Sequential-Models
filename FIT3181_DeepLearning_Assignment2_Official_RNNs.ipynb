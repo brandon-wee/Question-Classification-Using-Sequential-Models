{
 "cells": [
  {
   "cell_type": "markdown",
   "metadata": {
    "id": "qEHyseHxA8q4"
   },
   "source": [
    "# <font color=\"#0b486b\">  FIT3181: Deep Learning (2024) - Assignment 2 (RNNs)</font>\n",
    "***\n",
    "*CE/Lecturer (Clayton):*  **Dr Trung Le** | trunglm@monash.edu <br/>\n",
    "*Lecturer (Clayton):* **Prof Dinh Phung** | dinh.phung@monash.edu <br/>\n",
    "*Lecturer (Malaysia):*  **Dr Arghya Pal** | arghya.pal@monash.edu <br/>\n",
    "*Lecturer (Malaysia):*  **Dr Lim Chern Hong** | lim.chernhong@monash.edu <br/>  <br/>\n",
    "*Head Tutor 3181:*  **Miss Vy Vo** |  \\[v.vo@monash.edu \\] <br/>\n",
    "*Head Tutor 5215:*  **Dr Van Nguyen** |  \\[van.nguyen1@monash.edu \\]\n",
    "\n",
    "<br/>\n",
    "Faculty of Information Technology, Monash University, Australia"
   ]
  },
  {
   "cell_type": "markdown",
   "metadata": {
    "id": "QqMi8gdDBD1L"
   },
   "source": [
    "# <font color=\"#0b486b\">  Student Information</font>\n",
    "***\n",
    "Surname: **Wee**  <br/>\n",
    "Firstname: **Brandon**    <br/>\n",
    "Student ID: **33561826**    <br/>\n",
    "Email: **bwee0004@student.monash.edu**    <br/>\n",
    "Your tutorial time: **Friday 2pm-4pm**    <br/>\n",
    "***"
   ]
  },
  {
   "cell_type": "markdown",
   "metadata": {
    "id": "BLGpdQp2BPOU"
   },
   "source": [
    "# <font color=\"0b486b\">Assignment 2 – Deep Learning for Sequential Data</font>\n",
    "### Due: <font color=\"red\">11:55pm Sunday, 27 October 2024</font> (FIT3181)\n",
    "\n",
    "#### <font color=\"red\">Important note:</font> This is an **individual** assignment. It contributes **15%** to your final mark. Read the assignment instructions carefully."
   ]
  },
  {
   "cell_type": "markdown",
   "metadata": {
    "id": "PF8vqRzTCEsm"
   },
   "source": [
    "## <font color=\"#0b486b\">Assignment 2's Organization</font>\n",
    "This assignment 2 has two (2) sections:\n",
    "- Section 1: Fundamentals of RNNs (10 marks).\n",
    "- Section 2: Deep Learning for Sequential Data (90 marks). This section is further divided into 4 parts.\n",
    "\n",
    "The assignment 2 is organized in three (3) notebooks:\n",
    "- Notebook 1 ([link](https://colab.research.google.com/drive/1Rm2wWOJCjilpVf4T6RJZFtkjRULuTo0g?usp=sharing)) [Total: 30 marks] includes Section 1 as well as Part 1 and Part 2 of Section 2.\n",
    "- Notebook 2 (this notebook) [Total: 40 marks] includes Part 3 of Section 2.\n",
    "- Notebook 3 ([link](https://colab.research.google.com/drive/1kZnS4MhgMkovuS2rij76tYrcBqr9xmE0?usp=sharing)) [Total: 30 marks] includes Part 4 of Section 2.\n"
   ]
  },
  {
   "cell_type": "markdown",
   "metadata": {
    "id": "WnlGo-hGBvlO"
   },
   "source": [
    "## <font color=\"#0b486b\">What to submit</font>\n",
    "\n",
    "This assignment is to be completed individually and submitted to Moodle unit site. **By the due date, you are required to submit one  <font color=\"red; font-weight:bold\">single zip file, named xxx_assignment02_solution.zip</font> where `xxx` is your student ID, to the corresponding Assignment (Dropbox) in Moodle**. You can use Google Colab to do Assignment 2 but you need to save it to an `*.ipynb` file to submit to the unit Moodle.\n",
    "\n",
    "**More importantly, if you use Google Colab to do this assignment, you need to first make a copy of this notebook on your Google drive**."
   ]
  },
  {
   "cell_type": "markdown",
   "metadata": {
    "id": "FDeYZ3vK3dDK"
   },
   "source": [
    "***For example, if your student ID is <font color=\"red; font-weight:bold\">12356</font>, then gather all of your assignment solutions to a folder, create a zip file named <font color=\"red; font-weight:bold\">123456_assignment02_solution.zip</font> and submit this file.***"
   ]
  },
  {
   "cell_type": "markdown",
   "metadata": {
    "id": "Mpmftjto3dDK"
   },
   "source": [
    "Within this zip folder, you **must** submit the following files <u>for each part</u>:\n",
    "1.\t**`FIT3181_DeepLearning_Assignment2_Official[Main].ipynb`**:  this is your Python notebook solution source file.\n",
    "1.\t**`FIT3181_DeepLearning_Assignment2_Official[Main].html`**: this is the output of your Python notebook solution *exported* in HTML format.\n",
    "1. **`FIT3181_DeepLearning_Assignment2_Official[RNNs].ipynb`**\n",
    "1. **`FIT3181_DeepLearning_Assignment2_Official[RNNs].html`**\n",
    "1. **`FIT3181_DeepLearning_Assignment2_Official[Transformers].ipynb`**\n",
    "1. **`FIT3181_DeepLearning_Assignment2_Official[Transformers].html`**\n",
    "1.\tAny **extra files or folder** needed to complete your assignment (e.g., images used in your answers).\n",
    "\n"
   ]
  },
  {
   "cell_type": "markdown",
   "metadata": {
    "id": "rAVPM0BnTdd4"
   },
   "source": [
    "## Section 2: Deep Learning for Sequential Data"
   ]
  },
  {
   "cell_type": "markdown",
   "metadata": {
    "id": "FAgUSME4TsCP"
   },
   "source": [
    "### <font color=\"#0b486b\">Set random seeds</font>"
   ]
  },
  {
   "cell_type": "markdown",
   "metadata": {
    "id": "00nhh4IRUcGX"
   },
   "source": [
    "We start with importing PyTorch and NumPy and setting random seeds for PyTorch and NumPy. You can use any seeds you prefer."
   ]
  },
  {
   "cell_type": "code",
   "execution_count": 2,
   "metadata": {
    "id": "O7XWUry0JXCc"
   },
   "outputs": [],
   "source": [
    "import os\n",
    "import torch\n",
    "import random\n",
    "import requests\n",
    "import pandas as pd\n",
    "import numpy as np\n",
    "import torch.nn as nn\n",
    "from torch.utils.data import DataLoader\n",
    "from torch.nn.utils.rnn import pad_sequence\n",
    "from transformers import BertTokenizer\n",
    "import os\n",
    "from six.moves.urllib.request import urlretrieve\n",
    "from sklearn import preprocessing\n",
    "import matplotlib.pyplot as plt\n",
    "plt.style.use('ggplot')"
   ]
  },
  {
   "cell_type": "code",
   "execution_count": 3,
   "metadata": {
    "id": "6ZoWqunmUY7L"
   },
   "outputs": [],
   "source": [
    "def seed_all(seed=1029):\n",
    "    random.seed(seed)\n",
    "    os.environ['PYTHONHASHSEED'] = str(seed)\n",
    "    np.random.seed(seed)\n",
    "    torch.manual_seed(seed)\n",
    "    torch.cuda.manual_seed(seed)\n",
    "    torch.cuda.manual_seed_all(seed)  # if you are using multi-GPU.\n",
    "    torch.backends.cudnn.benchmark = False\n",
    "    torch.backends.cudnn.deterministic = True\n",
    "seed_all(seed=1234)\n",
    "\n",
    "device = torch.device(\"cuda\" if torch.cuda.is_available() else \"cpu\")"
   ]
  },
  {
   "cell_type": "markdown",
   "metadata": {
    "id": "6VU1jS6SUl8q"
   },
   "source": [
    "## <font color=\"#0b486b\">Download and preprocess the data</font>\n",
    "\n",
    "<div style=\"text-align: right\"><font color=\"red; font-weight:bold\"><span></div>"
   ]
  },
  {
   "cell_type": "markdown",
   "metadata": {
    "id": "wQEzWmZjUulL"
   },
   "source": [
    "The dataset we use for this assignment is a question classification dataset for which the training set consists of $5,500$ questions belonging to 6 coarse question categories including:\n",
    "- abbreviation (ABBR),\n",
    "- entity (ENTY),\n",
    "- description (DESC),\n",
    "- human (HUM),\n",
    "- location (LOC) and\n",
    "- numeric (NUM).\n",
    "\n",
    "In this assignment, we will utilize a subset of this dataset, containing $2,000$ questions for training and validation. We will use 80% of those 2000 questions for trainning and the rest for validation.\n"
   ]
  },
  {
   "cell_type": "markdown",
   "metadata": {
    "id": "zOd49RTpUxxj"
   },
   "source": [
    "Preprocessing data is a crucial initial step in any machine learning or deep learning project. The *TextDataManager* class simplifies the process by providing functionalities to download and preprocess data specifically designed for the subsequent questions in this assignment. It is highly recommended to gain a comprehensive understanding of the class's functionality by **carefully reading** the content provided in the *TextDataManager* class before proceeding to answer the questions."
   ]
  },
  {
   "cell_type": "code",
   "execution_count": 5,
   "metadata": {
    "id": "_C2fuJNzUhha"
   },
   "outputs": [],
   "source": [
    "class DataManager:\n",
    "    \"\"\"\n",
    "    This class manages and preprocesses a simple text dataset for a sentence classification task.\n",
    "\n",
    "    Attributes:\n",
    "        verbose (bool): Controls verbosity for printing information during data processing.\n",
    "        max_sentence_len (int): The maximum length of a sentence in the dataset.\n",
    "        str_questions (list): A list to store the string representations of the questions in the dataset.\n",
    "        str_labels (list): A list to store the string representations of the labels in the dataset.\n",
    "        numeral_labels (list): A list to store the numerical representations of the labels in the dataset.\n",
    "        numeral_data (list): A list to store the numerical representations of the questions in the dataset.\n",
    "        random_state (int): Seed value for random number generation to ensure reproducibility.\n",
    "            Set this value to a specific integer to reproduce the same random sequence every time. Defaults to 6789.\n",
    "        random (np.random.RandomState): Random number generator object initialized with the given random_state.\n",
    "            It is used for various random operations in the class.\n",
    "\n",
    "    Methods:\n",
    "        maybe_download(dir_name, file_name, url, verbose=True):\n",
    "            Downloads a file from a given URL if it does not exist in the specified directory.\n",
    "            The directory and file are created if they do not exist.\n",
    "\n",
    "        read_data(dir_name, file_names):\n",
    "            Reads data from files in a directory, preprocesses it, and computes the maximum sentence length.\n",
    "            Each file is expected to contain rows in the format \"<label>:<question>\".\n",
    "            The labels and questions are stored as string representations.\n",
    "\n",
    "        manipulate_data():\n",
    "            Performs data manipulation by tokenizing, numericalizing, and padding the text data.\n",
    "            The questions are tokenized and converted into numerical sequences using a tokenizer.\n",
    "            The sequences are padded or truncated to the maximum sequence length.\n",
    "\n",
    "        train_valid_test_split(train_ratio=0.9):\n",
    "            Splits the data into training, validation, and test sets based on a given ratio.\n",
    "            The data is randomly shuffled, and the specified ratio is used to determine the size of the training set.\n",
    "            The string questions, numerical data, and numerical labels are split accordingly.\n",
    "            TensorFlow `Dataset` objects are created for the training and validation sets.\n",
    "\n",
    "\n",
    "    \"\"\"\n",
    "\n",
    "    def __init__(self, verbose=True, random_state=6789):\n",
    "        self.verbose = verbose\n",
    "        self.max_sentence_len = 0\n",
    "        self.str_questions = list()\n",
    "        self.str_labels = list()\n",
    "        self.numeral_labels = list()\n",
    "        self.maxlen = None\n",
    "        self.numeral_data = list()\n",
    "        self.random_state = random_state\n",
    "        self.random = np.random.RandomState(random_state)\n",
    "\n",
    "    @staticmethod\n",
    "    def maybe_download(dir_name, file_name, url, verbose=True):\n",
    "        if not os.path.exists(dir_name):\n",
    "            os.mkdir(dir_name)\n",
    "        if not os.path.exists(os.path.join(dir_name, file_name)):\n",
    "            urlretrieve(url + file_name, os.path.join(dir_name, file_name))\n",
    "        if verbose:\n",
    "            print(\"Downloaded successfully {}\".format(file_name))\n",
    "\n",
    "    def read_data(self, dir_name, file_names):\n",
    "        self.str_questions = list()\n",
    "        self.str_labels = list()\n",
    "        for file_name in file_names:\n",
    "            file_path= os.path.join(dir_name, file_name)\n",
    "            with open(file_path, \"r\", encoding=\"latin-1\") as f:\n",
    "                for row in f:\n",
    "                    row_str = row.split(\":\")\n",
    "                    label, question = row_str[0], row_str[1]\n",
    "                    question = question.lower()\n",
    "                    self.str_labels.append(label)\n",
    "                    self.str_questions.append(question[0:-1])\n",
    "                    if self.max_sentence_len < len(self.str_questions[-1]):\n",
    "                        self.max_sentence_len = len(self.str_questions[-1])\n",
    "\n",
    "        # turns labels into numbers\n",
    "        le = preprocessing.LabelEncoder()\n",
    "        le.fit(self.str_labels)\n",
    "        self.numeral_labels = np.array(le.transform(self.str_labels))\n",
    "        self.str_classes = le.classes_\n",
    "        self.num_classes = len(self.str_classes)\n",
    "        if self.verbose:\n",
    "            print(\"\\nSample questions and corresponding labels... \\n\")\n",
    "            print(self.str_questions[0:5])\n",
    "            print(self.str_labels[0:5])\n",
    "\n",
    "    def manipulate_data(self):\n",
    "        self.tokenizer = BertTokenizer.from_pretrained('bert-base-uncased')\n",
    "        vocab = self.tokenizer.get_vocab()\n",
    "        self.word2idx = {w: i for i, w in enumerate(vocab)}\n",
    "        self.idx2word = {i:w for w,i in self.word2idx.items()}\n",
    "        self.vocab_size = len(self.word2idx)\n",
    "\n",
    "        token_ids = []\n",
    "        num_seqs = []\n",
    "        for text in self.str_questions:  # iterate over the list of text\n",
    "          text_seqs = self.tokenizer.tokenize(str(text))  # tokenize each text individually\n",
    "          # Convert tokens to IDs\n",
    "          token_ids = self.tokenizer.convert_tokens_to_ids(text_seqs)\n",
    "          # Convert token IDs to a tensor of indices using your word2idx mapping\n",
    "          seq_tensor = torch.LongTensor(token_ids)\n",
    "          num_seqs.append(seq_tensor)  # append the tensor for each sequence\n",
    "\n",
    "        # Pad the sequences and create a tensor\n",
    "        if num_seqs:\n",
    "          self.numeral_data = pad_sequence(num_seqs, batch_first=True)  # Pads to max length of the sequences\n",
    "          self.num_sentences, self.maxlen = self.numeral_data.shape\n",
    "\n",
    "    def train_valid_test_split(self, train_ratio=0.8, test_ratio = 0.1):\n",
    "        train_size = int(self.num_sentences*train_ratio) +1\n",
    "        test_size = int(self.num_sentences*test_ratio) +1\n",
    "        valid_size = self.num_sentences - (train_size + test_size)\n",
    "        data_indices = list(range(self.num_sentences))\n",
    "        random.shuffle(data_indices)\n",
    "        self.train_str_questions = [self.str_questions[i] for i in data_indices[:train_size]]\n",
    "        self.train_numeral_labels = self.numeral_labels[data_indices[:train_size]]\n",
    "        train_set_data = self.numeral_data[data_indices[:train_size]]\n",
    "        train_set_labels = self.numeral_labels[data_indices[:train_size]]\n",
    "        train_set_labels = torch.from_numpy(train_set_labels)\n",
    "        train_set = torch.utils.data.TensorDataset(train_set_data, train_set_labels)\n",
    "        self.test_str_questions = [self.str_questions[i] for i in data_indices[-test_size:]]\n",
    "        self.test_numeral_labels = self.numeral_labels[data_indices[-test_size:]]\n",
    "        test_set_data = self.numeral_data[data_indices[-test_size:]]\n",
    "        test_set_labels = self.numeral_labels[data_indices[-test_size:]]\n",
    "        test_set_labels = torch.from_numpy(test_set_labels)\n",
    "        test_set = torch.utils.data.TensorDataset(test_set_data, test_set_labels)\n",
    "        self.valid_str_questions = [self.str_questions[i] for i in data_indices[train_size:-test_size]]\n",
    "        self.valid_numeral_labels = self.numeral_labels[data_indices[train_size:-test_size]]\n",
    "        valid_set_data = self.numeral_data[data_indices[train_size:-test_size]]\n",
    "        valid_set_labels = self.numeral_labels[data_indices[train_size:-test_size]]\n",
    "        valid_set_labels = torch.from_numpy(valid_set_labels)\n",
    "        valid_set = torch.utils.data.TensorDataset(valid_set_data, valid_set_labels)\n",
    "        self.train_loader = DataLoader(train_set, batch_size=64, shuffle=True) # you can change the batch size if needed\n",
    "        self.test_loader = DataLoader(test_set, batch_size=64, shuffle=False) # you can change the batch size if needed\n",
    "        self.valid_loader = DataLoader(valid_set, batch_size=64, shuffle=False) # you can change the batch size if needed"
   ]
  },
  {
   "cell_type": "code",
   "execution_count": 6,
   "metadata": {
    "colab": {
     "base_uri": "https://localhost:8080/"
    },
    "id": "3npdESj6Vb_t",
    "outputId": "42ab2ae1-d7b8-476f-bf9c-6697d247c3a9"
   },
   "outputs": [
    {
     "name": "stdout",
     "output_type": "stream",
     "text": [
      "Loading data...\n",
      "Downloaded successfully train_2000.label\n",
      "\n",
      "Sample questions and corresponding labels... \n",
      "\n",
      "['manner how did serfdom develop in and then leave russia ?', 'cremat what films featured the character popeye doyle ?', \"manner how can i find a list of celebrities ' real names ?\", 'animal what fowl grabs the spotlight after the chinese year of the monkey ?', 'exp what is the full form of .com ?']\n",
      "['DESC', 'ENTY', 'DESC', 'ENTY', 'ABBR']\n"
     ]
    }
   ],
   "source": [
    "print('Loading data...')\n",
    "DataManager.maybe_download(\"data\", \"train_2000.label\", \"http://cogcomp.org/Data/QA/QC/\")\n",
    "\n",
    "dm = DataManager()\n",
    "dm.read_data(\"data/\", [\"train_2000.label\"])"
   ]
  },
  {
   "cell_type": "code",
   "execution_count": 7,
   "metadata": {
    "colab": {
     "base_uri": "https://localhost:8080/"
    },
    "id": "EgrYZPmyVj60",
    "outputId": "fb59578b-a160-4442-cdb0-90bf1e268bef"
   },
   "outputs": [],
   "source": [
    "dm.manipulate_data()\n",
    "dm.train_valid_test_split(train_ratio=0.8, test_ratio = 0.1)"
   ]
  },
  {
   "cell_type": "code",
   "execution_count": 8,
   "metadata": {
    "colab": {
     "base_uri": "https://localhost:8080/"
    },
    "id": "bH-U0sUMVnW-",
    "outputId": "42b4a92d-fe91-4c40-b42c-9771e9e4842e"
   },
   "outputs": [
    {
     "name": "stdout",
     "output_type": "stream",
     "text": [
      "torch.Size([64, 36]) torch.Size([64])\n"
     ]
    }
   ],
   "source": [
    "for x, y in dm.train_loader:\n",
    "    print(x.shape, y.shape)\n",
    "    break"
   ]
  },
  {
   "cell_type": "markdown",
   "metadata": {
    "id": "lPPrm2_FHj-j"
   },
   "source": [
    "We now declare the `BaseTrainer` class, which will be used later to train the subsequent deep learning models for text data."
   ]
  },
  {
   "cell_type": "code",
   "execution_count": 9,
   "metadata": {
    "id": "yXlNQvGn7OEb"
   },
   "outputs": [],
   "source": [
    "device = torch.device(\"cuda\" if torch.cuda.is_available() else \"cpu\")\n",
    "\n",
    "class BaseTrainer:\n",
    "    def __init__(self, model, criterion, optimizer, train_loader, val_loader):\n",
    "        self.model = model\n",
    "        self.criterion = criterion  #the loss function\n",
    "        self.optimizer = optimizer  #the optimizer\n",
    "        self.train_loader = train_loader  #the train loader\n",
    "        self.val_loader = val_loader  #the valid loader\n",
    "\n",
    "    #the function to train the model in many epochs\n",
    "    def fit(self, num_epochs):\n",
    "        self.num_batches = len(self.train_loader)\n",
    "\n",
    "        for epoch in range(num_epochs):\n",
    "            print(f'Epoch {epoch + 1}/{num_epochs}')\n",
    "            train_loss, train_accuracy = self.train_one_epoch()\n",
    "            val_loss, val_accuracy = self.validate_one_epoch()\n",
    "            print(\n",
    "                f'{self.num_batches}/{self.num_batches} - train_loss: {train_loss:.4f} - train_accuracy: {train_accuracy*100:.4f}% \\\n",
    "                - val_loss: {val_loss:.4f} - val_accuracy: {val_accuracy*100:.4f}%')\n",
    "\n",
    "    #train in one epoch, return the train_acc, train_loss\n",
    "    def train_one_epoch(self):\n",
    "        self.model.train()\n",
    "        running_loss, correct, total = 0.0, 0, 0\n",
    "        for i, data in enumerate(self.train_loader):\n",
    "            inputs, labels = data\n",
    "            inputs, labels = inputs.to(device), labels.to(device).long()\n",
    "            self.optimizer.zero_grad()\n",
    "            outputs = self.model(inputs)\n",
    "            loss = self.criterion(outputs, labels)\n",
    "            loss.backward()\n",
    "            self.optimizer.step()\n",
    "\n",
    "            running_loss += loss.item()\n",
    "            _, predicted = torch.max(outputs.data, 1)\n",
    "            total += labels.size(0)\n",
    "            correct += (predicted == labels).sum().item()\n",
    "        train_accuracy = correct / total\n",
    "        train_loss = running_loss / self.num_batches\n",
    "        return train_loss, train_accuracy\n",
    "\n",
    "    #evaluate on a loader and return the loss and accuracy\n",
    "    def evaluate(self, loader):\n",
    "        self.model.eval()\n",
    "        loss, correct, total = 0.0, 0, 0\n",
    "        with torch.no_grad():\n",
    "            for data in loader:\n",
    "                inputs, labels = data\n",
    "                inputs, labels = inputs.to(device), labels.to(device).long()\n",
    "                outputs = self.model(inputs)\n",
    "                loss = self.criterion(outputs, labels)\n",
    "                loss += loss.item()\n",
    "                _, predicted = torch.max(outputs.data, 1)\n",
    "                total += labels.size(0)\n",
    "                correct += (predicted == labels).sum().item()\n",
    "\n",
    "        accuracy = correct / total\n",
    "        loss = loss / len(self.val_loader)\n",
    "        return loss, accuracy\n",
    "\n",
    "    #return the val_acc, val_loss, be called at the end of each epoch\n",
    "    def validate_one_epoch(self):\n",
    "      val_loss, val_accuracy = self.evaluate(self.val_loader)\n",
    "      return val_loss, val_accuracy"
   ]
  },
  {
   "cell_type": "markdown",
   "metadata": {
    "id": "DRx_OJ1yH3Fq"
   },
   "source": [
    "## <font color=\"#0b486b\">Part 3: RNN-based models for sequence modeling and neural embedding</font>\n",
    "\n",
    "<div style=\"text-align: right\"><font color=\"red; font-weight:bold\">[Total marks for this part: 40 marks]<span></div>"
   ]
  },
  {
   "cell_type": "markdown",
   "metadata": {
    "id": "UuWlbmriH7uN"
   },
   "source": [
    "### <font color=\"#0b486b\">3.1. RNNs with different cell types</font> ###\n",
    "\n",
    "<div style=\"text-align: right\"><font color=\"red; font-weight:bold\">[Total marks for this part: 16 marks]<span></div>"
   ]
  },
  {
   "cell_type": "markdown",
   "metadata": {
    "id": "UGexJydTH9Dl"
   },
   "source": [
    "#### <font color=\"red\">**Question 3.1.1**</font>\n",
    "**In this part, you need to construct a vanilla RNN using PyTorch to learn from the dataset of interest. Basically, you are required to construct the class `BaseRNN` with the following requirements:**\n",
    "- Attribute `data_manager (self.data_manager)`: specifies the data manager used to store data for the model.\n",
    "- Attribute `cell_type (self.cell_type)`: can take one of the three values, i.e., `simple_rnn`, `gru`, or `lstm` which specifies the memory cells formed a hidden layer.\n",
    "- `state_sizes (self.state_sizes)` indicates the list of the hidden sizes  of memory cells. For example, $state\\_sizes = [64, 128]$ means that you have two hidden layers in your network with hidden sizes of $64$ and $128$ respectively.\n",
    "- The `build` method/function aims to build the architecture of our RNNs.\n",
    "- Attribute `output_type (self.output_type)` has three values which are `\"last_state\"`, `\"mean\"`, or `\"max\"`, indicating we use the last hidden state, the mean of all hidden states, or the max of all hidden states on the last RNN hidden layer for gaining the 2D tensor $\\left[batch\\_size, state\\_sizes[-1] \\right]$ on which we conduct one linear layer for making prediction.   \n",
    "\n",
    "<div style=\"text-align: right\"><font color=\"red\">[10 marks]</font></div>"
   ]
  },
  {
   "cell_type": "code",
   "execution_count": 10,
   "metadata": {
    "id": "XpT8J9gEfnDI"
   },
   "outputs": [],
   "source": [
    "class BaseRNN(nn.Module):\n",
    "    def __init__(self, cell_type='gru', embed_size=128, state_sizes=[128, 128], output_type = \"mean\", data_manager=None):\n",
    "        super().__init__()\n",
    "        self.cell_type = cell_type\n",
    "        self.state_sizes = state_sizes\n",
    "        self.embed_size = embed_size\n",
    "        self.output_type = output_type\n",
    "        self.data_manager = data_manager\n",
    "        self.vocab_size = self.data_manager.vocab_size\n",
    "\n",
    "    # return the corresponding memory cell\n",
    "    @staticmethod\n",
    "    def get_layer(cell_type='gru', input_size=128, state_size=128):\n",
    "        if cell_type == 'gru':\n",
    "            return nn.GRU(input_size, state_size, batch_first=True)\n",
    "        elif cell_type == 'lstm':\n",
    "            return nn.LSTM(input_size, state_size, batch_first=True)\n",
    "        else:\n",
    "            return nn.RNN(input_size, state_size, batch_first=True)\n",
    "\n",
    "    def build(self):\n",
    "        # Insert your code here\n",
    "        self.embedding = nn.Embedding(self.vocab_size, self.embed_size)\n",
    "        \n",
    "        self.rnn_layers = nn.ModuleList()\n",
    "        input_size = self.embed_size\n",
    "        for state_size in self.state_sizes:\n",
    "            self.rnn_layers.append(self.get_layer(self.cell_type, input_size, state_size))\n",
    "            input_size = state_size \n",
    "\n",
    "        self.output_layer = nn.Linear(self.state_sizes[-1], self.data_manager.num_classes)\n",
    "\n",
    "    def forward(self, x):\n",
    "        # Insert your code here\n",
    "        x = self.embedding(x)\n",
    "        \n",
    "        for rnn_layer in self.rnn_layers:\n",
    "            if self.cell_type == 'lstm':\n",
    "                x, (h_n, c_n) = rnn_layer(x)\n",
    "            else:\n",
    "                x, h_n = rnn_layer(x)\n",
    "\n",
    "        if self.output_type == \"last_state\":\n",
    "            out = h_n[-1]\n",
    "        elif self.output_type == \"mean\":\n",
    "            out = torch.mean(x, dim=1)\n",
    "        elif self.output_type == \"max\":\n",
    "            out, _ = torch.max(x, dim=1)\n",
    "        else:\n",
    "            raise ValueError(\"Invalid output_type. Choose from 'last_state', 'mean', or 'max'.\")\n",
    "\n",
    "        out = self.output_layer(out)\n",
    "\n",
    "        return out\n"
   ]
  },
  {
   "cell_type": "markdown",
   "metadata": {
    "id": "fwfMg812LHfC"
   },
   "source": [
    "#### <font color=\"red\">**Question 3.1.2**</font>\n",
    "**Train the models with simple RNN ('simple_rnn') cell with $embed\\_size= 128, state\\_sizes= [64, 128], data\\_manager= dm$ and with three ouput types.**\n",
    "\n",
    "<div style=\"text-align: right\"><font color=\"red\">[2 marks]</font></div>"
   ]
  },
  {
   "cell_type": "markdown",
   "metadata": {
    "id": "1X2j0k0XnkqI"
   },
   "source": [
    "a) For `output_type = \"mean\"`"
   ]
  },
  {
   "cell_type": "code",
   "execution_count": 49,
   "metadata": {
    "colab": {
     "base_uri": "https://localhost:8080/"
    },
    "id": "Eu9GbWnPKI_z",
    "outputId": "144cb20c-c8a2-49c2-98dc-65a9f375f4f8"
   },
   "outputs": [],
   "source": [
    "#Insert your code here\n",
    "base_rnn = BaseRNN(\n",
    "    cell_type='simple_rnn',\n",
    "    embed_size=128,\n",
    "    state_sizes=[64, 128],\n",
    "    output_type=\"mean\",\n",
    "    data_manager=dm\n",
    ")\n",
    "base_rnn.build()\n",
    "base_rnn = base_rnn.to(device)\n",
    "criterion = nn.CrossEntropyLoss()\n",
    "optimizer = torch.optim.Adam(base_rnn.parameters(), lr=0.001)"
   ]
  },
  {
   "cell_type": "code",
   "execution_count": 50,
   "metadata": {
    "id": "VIsWugygLWc7"
   },
   "outputs": [
    {
     "name": "stdout",
     "output_type": "stream",
     "text": [
      "Epoch 1/30\n",
      "26/26 - train_loss: 1.6781 - train_accuracy: 23.6727%                 - val_loss: 0.8322 - val_accuracy: 26.2626%\n",
      "Epoch 2/30\n",
      "26/26 - train_loss: 1.5730 - train_accuracy: 34.8532%                 - val_loss: 0.6116 - val_accuracy: 48.9899%\n",
      "Epoch 3/30\n",
      "26/26 - train_loss: 1.1276 - train_accuracy: 50.8432%                 - val_loss: 0.3307 - val_accuracy: 59.0909%\n",
      "Epoch 4/30\n",
      "26/26 - train_loss: 0.9130 - train_accuracy: 62.3985%                 - val_loss: 0.2862 - val_accuracy: 68.1818%\n",
      "Epoch 5/30\n",
      "26/26 - train_loss: 0.9033 - train_accuracy: 59.0881%                 - val_loss: 0.3708 - val_accuracy: 68.1818%\n",
      "Epoch 6/30\n",
      "26/26 - train_loss: 0.6884 - train_accuracy: 70.3310%                 - val_loss: 0.1537 - val_accuracy: 78.7879%\n",
      "Epoch 7/30\n",
      "26/26 - train_loss: 0.6472 - train_accuracy: 74.6408%                 - val_loss: 0.1426 - val_accuracy: 84.8485%\n",
      "Epoch 8/30\n",
      "26/26 - train_loss: 0.5600 - train_accuracy: 80.0125%                 - val_loss: 0.1291 - val_accuracy: 84.3434%\n",
      "Epoch 9/30\n",
      "26/26 - train_loss: 0.4942 - train_accuracy: 80.5122%                 - val_loss: 0.1221 - val_accuracy: 84.3434%\n",
      "Epoch 10/30\n",
      "26/26 - train_loss: 0.4592 - train_accuracy: 82.2611%                 - val_loss: 0.1648 - val_accuracy: 81.8182%\n",
      "Epoch 11/30\n",
      "26/26 - train_loss: 0.4435 - train_accuracy: 83.6977%                 - val_loss: 0.1540 - val_accuracy: 80.3030%\n",
      "Epoch 12/30\n",
      "26/26 - train_loss: 0.5829 - train_accuracy: 74.7033%                 - val_loss: 0.1737 - val_accuracy: 61.1111%\n",
      "Epoch 13/30\n",
      "26/26 - train_loss: 0.5102 - train_accuracy: 79.2630%                 - val_loss: 0.2017 - val_accuracy: 79.2929%\n",
      "Epoch 14/30\n",
      "26/26 - train_loss: 0.4503 - train_accuracy: 82.3860%                 - val_loss: 0.2017 - val_accuracy: 80.3030%\n",
      "Epoch 15/30\n",
      "26/26 - train_loss: 0.4152 - train_accuracy: 84.3848%                 - val_loss: 0.2109 - val_accuracy: 89.3939%\n",
      "Epoch 16/30\n",
      "26/26 - train_loss: 0.3749 - train_accuracy: 84.8844%                 - val_loss: 0.1793 - val_accuracy: 90.4040%\n",
      "Epoch 17/30\n",
      "26/26 - train_loss: 0.3065 - train_accuracy: 88.8195%                 - val_loss: 0.0514 - val_accuracy: 88.8889%\n",
      "Epoch 18/30\n",
      "26/26 - train_loss: 0.2679 - train_accuracy: 90.8807%                 - val_loss: 0.0415 - val_accuracy: 91.9192%\n",
      "Epoch 19/30\n",
      "26/26 - train_loss: 0.1870 - train_accuracy: 94.1287%                 - val_loss: 0.0371 - val_accuracy: 90.9091%\n",
      "Epoch 20/30\n",
      "26/26 - train_loss: 0.1547 - train_accuracy: 95.9400%                 - val_loss: 0.1289 - val_accuracy: 91.9192%\n",
      "Epoch 21/30\n",
      "26/26 - train_loss: 0.1331 - train_accuracy: 96.5022%                 - val_loss: 0.1195 - val_accuracy: 93.4343%\n",
      "Epoch 22/30\n",
      "26/26 - train_loss: 0.1331 - train_accuracy: 96.3773%                 - val_loss: 0.0964 - val_accuracy: 92.9293%\n",
      "Epoch 23/30\n",
      "26/26 - train_loss: 0.1325 - train_accuracy: 96.5646%                 - val_loss: 0.1786 - val_accuracy: 92.9293%\n",
      "Epoch 24/30\n",
      "26/26 - train_loss: 0.1426 - train_accuracy: 96.0650%                 - val_loss: 0.0156 - val_accuracy: 93.4343%\n",
      "Epoch 25/30\n",
      "26/26 - train_loss: 0.1259 - train_accuracy: 96.4397%                 - val_loss: 0.0142 - val_accuracy: 91.9192%\n",
      "Epoch 26/30\n",
      "26/26 - train_loss: 0.1216 - train_accuracy: 96.8770%                 - val_loss: 0.0121 - val_accuracy: 92.9293%\n",
      "Epoch 27/30\n",
      "26/26 - train_loss: 0.1034 - train_accuracy: 97.3766%                 - val_loss: 0.0103 - val_accuracy: 91.4141%\n",
      "Epoch 28/30\n",
      "26/26 - train_loss: 0.1035 - train_accuracy: 97.3766%                 - val_loss: 0.0091 - val_accuracy: 91.9192%\n",
      "Epoch 29/30\n",
      "26/26 - train_loss: 0.1167 - train_accuracy: 96.6271%                 - val_loss: 0.0085 - val_accuracy: 87.3737%\n",
      "Epoch 30/30\n",
      "26/26 - train_loss: 0.1108 - train_accuracy: 96.5022%                 - val_loss: 0.0105 - val_accuracy: 93.4343%\n"
     ]
    }
   ],
   "source": [
    "trainer = BaseTrainer(model= base_rnn, criterion=criterion, optimizer=optimizer, train_loader=dm.train_loader, val_loader=dm.valid_loader)\n",
    "trainer.fit(num_epochs=30)"
   ]
  },
  {
   "cell_type": "markdown",
   "metadata": {
    "id": "LZaxBRlrnvoL"
   },
   "source": [
    "b) For `output_type = \"max\"`"
   ]
  },
  {
   "cell_type": "code",
   "execution_count": 51,
   "metadata": {
    "colab": {
     "base_uri": "https://localhost:8080/"
    },
    "id": "bWIUJCY_Li72",
    "outputId": "c37fe790-1bc3-4169-9ea1-5bf6b4cb8692"
   },
   "outputs": [],
   "source": [
    "#Insert your code here\n",
    "base_rnn = BaseRNN(\n",
    "    cell_type='simple_rnn',\n",
    "    embed_size=128,\n",
    "    state_sizes=[64, 128],\n",
    "    output_type=\"max\",\n",
    "    data_manager=dm\n",
    ")\n",
    "base_rnn.build()\n",
    "base_rnn = base_rnn.to(device)\n",
    "criterion = nn.CrossEntropyLoss()\n",
    "optimizer = torch.optim.Adam(base_rnn.parameters(), lr=0.001)"
   ]
  },
  {
   "cell_type": "code",
   "execution_count": 52,
   "metadata": {
    "id": "7BaSbeaKN-Zs"
   },
   "outputs": [
    {
     "name": "stdout",
     "output_type": "stream",
     "text": [
      "Epoch 1/30\n",
      "26/26 - train_loss: 1.5003 - train_accuracy: 50.2186%                 - val_loss: 0.5736 - val_accuracy: 74.7475%\n",
      "Epoch 2/30\n",
      "26/26 - train_loss: 0.9292 - train_accuracy: 78.9507%                 - val_loss: 0.2872 - val_accuracy: 88.8889%\n",
      "Epoch 3/30\n",
      "26/26 - train_loss: 0.5589 - train_accuracy: 90.2561%                 - val_loss: 0.1031 - val_accuracy: 93.9394%\n",
      "Epoch 4/30\n",
      "26/26 - train_loss: 0.2564 - train_accuracy: 92.6296%                 - val_loss: 0.0695 - val_accuracy: 94.4444%\n",
      "Epoch 5/30\n",
      "26/26 - train_loss: 0.1685 - train_accuracy: 94.7533%                 - val_loss: 0.0364 - val_accuracy: 93.9394%\n",
      "Epoch 6/30\n",
      "26/26 - train_loss: 0.1292 - train_accuracy: 95.5653%                 - val_loss: 0.0321 - val_accuracy: 93.9394%\n",
      "Epoch 7/30\n",
      "26/26 - train_loss: 0.1049 - train_accuracy: 96.0650%                 - val_loss: 0.0449 - val_accuracy: 93.9394%\n",
      "Epoch 8/30\n",
      "26/26 - train_loss: 0.0940 - train_accuracy: 96.3148%                 - val_loss: 0.0137 - val_accuracy: 94.9495%\n",
      "Epoch 9/30\n",
      "26/26 - train_loss: 0.0816 - train_accuracy: 96.5646%                 - val_loss: 0.0081 - val_accuracy: 95.9596%\n",
      "Epoch 10/30\n",
      "26/26 - train_loss: 0.0773 - train_accuracy: 96.9394%                 - val_loss: 0.0060 - val_accuracy: 95.4545%\n",
      "Epoch 11/30\n",
      "26/26 - train_loss: 0.0694 - train_accuracy: 97.5016%                 - val_loss: 0.0073 - val_accuracy: 95.9596%\n",
      "Epoch 12/30\n",
      "26/26 - train_loss: 0.0569 - train_accuracy: 97.9388%                 - val_loss: 0.0034 - val_accuracy: 95.4545%\n",
      "Epoch 13/30\n",
      "26/26 - train_loss: 0.0480 - train_accuracy: 98.6259%                 - val_loss: 0.0029 - val_accuracy: 96.4646%\n",
      "Epoch 14/30\n",
      "26/26 - train_loss: 0.0435 - train_accuracy: 98.7508%                 - val_loss: 0.0025 - val_accuracy: 95.9596%\n",
      "Epoch 15/30\n",
      "26/26 - train_loss: 0.0340 - train_accuracy: 99.1255%                 - val_loss: 0.0024 - val_accuracy: 96.4646%\n",
      "Epoch 16/30\n",
      "26/26 - train_loss: 0.0288 - train_accuracy: 99.5628%                 - val_loss: 0.0022 - val_accuracy: 95.9596%\n",
      "Epoch 17/30\n",
      "26/26 - train_loss: 0.0367 - train_accuracy: 99.0631%                 - val_loss: 0.0019 - val_accuracy: 96.4646%\n",
      "Epoch 18/30\n",
      "26/26 - train_loss: 0.0194 - train_accuracy: 99.7502%                 - val_loss: 0.0021 - val_accuracy: 95.9596%\n",
      "Epoch 19/30\n",
      "26/26 - train_loss: 0.0161 - train_accuracy: 99.8126%                 - val_loss: 0.0014 - val_accuracy: 96.9697%\n",
      "Epoch 20/30\n",
      "26/26 - train_loss: 0.0124 - train_accuracy: 99.9375%                 - val_loss: 0.0013 - val_accuracy: 96.9697%\n",
      "Epoch 21/30\n",
      "26/26 - train_loss: 0.0477 - train_accuracy: 99.3129%                 - val_loss: 0.0064 - val_accuracy: 92.4242%\n",
      "Epoch 22/30\n",
      "26/26 - train_loss: 0.0786 - train_accuracy: 98.3760%                 - val_loss: 0.0074 - val_accuracy: 94.4444%\n",
      "Epoch 23/30\n",
      "26/26 - train_loss: 0.0248 - train_accuracy: 99.6252%                 - val_loss: 0.0019 - val_accuracy: 94.4444%\n",
      "Epoch 24/30\n",
      "26/26 - train_loss: 0.0142 - train_accuracy: 99.7502%                 - val_loss: 0.0016 - val_accuracy: 95.4545%\n",
      "Epoch 25/30\n",
      "26/26 - train_loss: 0.0101 - train_accuracy: 99.8126%                 - val_loss: 0.0014 - val_accuracy: 95.9596%\n",
      "Epoch 26/30\n",
      "26/26 - train_loss: 0.0068 - train_accuracy: 99.9375%                 - val_loss: 0.0013 - val_accuracy: 96.9697%\n",
      "Epoch 27/30\n",
      "26/26 - train_loss: 0.0051 - train_accuracy: 100.0000%                 - val_loss: 0.0010 - val_accuracy: 96.9697%\n",
      "Epoch 28/30\n",
      "26/26 - train_loss: 0.0047 - train_accuracy: 100.0000%                 - val_loss: 0.0008 - val_accuracy: 96.9697%\n",
      "Epoch 29/30\n",
      "26/26 - train_loss: 0.0035 - train_accuracy: 100.0000%                 - val_loss: 0.0007 - val_accuracy: 97.4747%\n",
      "Epoch 30/30\n",
      "26/26 - train_loss: 0.0028 - train_accuracy: 100.0000%                 - val_loss: 0.0006 - val_accuracy: 97.4747%\n"
     ]
    }
   ],
   "source": [
    "trainer = BaseTrainer(model= base_rnn, criterion=criterion, optimizer=optimizer, train_loader=dm.train_loader, val_loader=dm.valid_loader)\n",
    "trainer.fit(num_epochs=30)"
   ]
  },
  {
   "cell_type": "markdown",
   "metadata": {
    "id": "2DXftwYmoT31"
   },
   "source": [
    "c) For `output_type = \"last_state\"`"
   ]
  },
  {
   "cell_type": "code",
   "execution_count": 65,
   "metadata": {
    "colab": {
     "base_uri": "https://localhost:8080/"
    },
    "id": "JAa-79ZNOCO1",
    "outputId": "a04cdce2-2d0e-48b7-e978-e0c029fdf8e5"
   },
   "outputs": [
    {
     "name": "stdout",
     "output_type": "stream",
     "text": [
      "BaseRNN(\n",
      "  (embedding): Embedding(30522, 128)\n",
      "  (rnn_layers): ModuleList(\n",
      "    (0): RNN(128, 64, batch_first=True)\n",
      "    (1): RNN(64, 128, batch_first=True)\n",
      "  )\n",
      "  (output_layer): Linear(in_features=128, out_features=6, bias=True)\n",
      ")\n"
     ]
    }
   ],
   "source": [
    "#Insert your code here\n",
    "base_rnn = BaseRNN(\n",
    "    cell_type='simple_rnn',\n",
    "    embed_size=128,\n",
    "    state_sizes=[64, 128],\n",
    "    output_type=\"last_state\",\n",
    "    data_manager=dm\n",
    ")\n",
    "base_rnn.build()\n",
    "base_rnn = base_rnn.to(device)\n",
    "criterion = nn.CrossEntropyLoss()\n",
    "optimizer = torch.optim.Adam(base_rnn.parameters(), lr=0.001)"
   ]
  },
  {
   "cell_type": "code",
   "execution_count": 54,
   "metadata": {
    "id": "f96bV3kNOKiH"
   },
   "outputs": [
    {
     "name": "stdout",
     "output_type": "stream",
     "text": [
      "Epoch 1/30\n",
      "26/26 - train_loss: 1.6734 - train_accuracy: 22.6733%                 - val_loss: 0.7116 - val_accuracy: 27.2727%\n",
      "Epoch 2/30\n",
      "26/26 - train_loss: 1.6591 - train_accuracy: 21.9238%                 - val_loss: 0.7534 - val_accuracy: 18.1818%\n",
      "Epoch 3/30\n",
      "26/26 - train_loss: 1.6683 - train_accuracy: 22.0487%                 - val_loss: 0.8015 - val_accuracy: 27.2727%\n",
      "Epoch 4/30\n",
      "26/26 - train_loss: 1.6697 - train_accuracy: 22.2361%                 - val_loss: 0.7094 - val_accuracy: 27.2727%\n",
      "Epoch 5/30\n",
      "26/26 - train_loss: 1.6623 - train_accuracy: 21.8613%                 - val_loss: 0.7702 - val_accuracy: 26.2626%\n",
      "Epoch 6/30\n",
      "26/26 - train_loss: 1.6538 - train_accuracy: 21.6740%                 - val_loss: 0.7524 - val_accuracy: 27.2727%\n",
      "Epoch 7/30\n",
      "26/26 - train_loss: 1.6532 - train_accuracy: 23.0481%                 - val_loss: 0.8372 - val_accuracy: 26.2626%\n",
      "Epoch 8/30\n",
      "26/26 - train_loss: 1.6617 - train_accuracy: 20.5497%                 - val_loss: 0.7943 - val_accuracy: 26.2626%\n",
      "Epoch 9/30\n",
      "26/26 - train_loss: 1.6589 - train_accuracy: 22.4859%                 - val_loss: 0.7777 - val_accuracy: 27.2727%\n",
      "Epoch 10/30\n",
      "26/26 - train_loss: 1.6524 - train_accuracy: 22.4235%                 - val_loss: 0.7508 - val_accuracy: 18.1818%\n",
      "Epoch 11/30\n",
      "26/26 - train_loss: 1.6692 - train_accuracy: 21.8613%                 - val_loss: 0.7717 - val_accuracy: 27.2727%\n",
      "Epoch 12/30\n",
      "26/26 - train_loss: 1.6658 - train_accuracy: 23.6102%                 - val_loss: 0.7916 - val_accuracy: 25.2525%\n",
      "Epoch 13/30\n",
      "26/26 - train_loss: 1.6520 - train_accuracy: 21.8613%                 - val_loss: 0.8929 - val_accuracy: 44.9495%\n",
      "Epoch 14/30\n",
      "26/26 - train_loss: 1.3880 - train_accuracy: 36.4772%                 - val_loss: 0.6736 - val_accuracy: 37.8788%\n",
      "Epoch 15/30\n",
      "26/26 - train_loss: 1.3904 - train_accuracy: 36.2898%                 - val_loss: 0.7689 - val_accuracy: 44.4444%\n",
      "Epoch 16/30\n",
      "26/26 - train_loss: 1.3611 - train_accuracy: 30.6683%                 - val_loss: 0.7259 - val_accuracy: 43.9394%\n",
      "Epoch 17/30\n",
      "26/26 - train_loss: 1.3777 - train_accuracy: 38.1012%                 - val_loss: 0.8077 - val_accuracy: 29.7980%\n",
      "Epoch 18/30\n",
      "26/26 - train_loss: 1.3923 - train_accuracy: 31.6677%                 - val_loss: 0.7061 - val_accuracy: 43.4343%\n",
      "Epoch 19/30\n",
      "26/26 - train_loss: 1.3904 - train_accuracy: 33.7914%                 - val_loss: 0.8453 - val_accuracy: 42.9293%\n",
      "Epoch 20/30\n",
      "26/26 - train_loss: 1.3595 - train_accuracy: 31.7302%                 - val_loss: 0.8008 - val_accuracy: 42.9293%\n",
      "Epoch 21/30\n",
      "26/26 - train_loss: 1.3451 - train_accuracy: 36.7270%                 - val_loss: 0.7849 - val_accuracy: 42.9293%\n",
      "Epoch 22/30\n",
      "26/26 - train_loss: 1.3420 - train_accuracy: 35.3529%                 - val_loss: 0.7913 - val_accuracy: 42.9293%\n",
      "Epoch 23/30\n",
      "26/26 - train_loss: 1.3434 - train_accuracy: 37.4766%                 - val_loss: 0.7510 - val_accuracy: 34.3434%\n",
      "Epoch 24/30\n",
      "26/26 - train_loss: 1.3761 - train_accuracy: 37.2892%                 - val_loss: 0.7421 - val_accuracy: 34.3434%\n",
      "Epoch 25/30\n",
      "26/26 - train_loss: 1.3383 - train_accuracy: 36.2898%                 - val_loss: 0.7777 - val_accuracy: 37.8788%\n",
      "Epoch 26/30\n",
      "26/26 - train_loss: 1.3912 - train_accuracy: 33.7914%                 - val_loss: 0.7875 - val_accuracy: 42.4242%\n",
      "Epoch 27/30\n",
      "26/26 - train_loss: 1.3507 - train_accuracy: 36.2898%                 - val_loss: 0.7539 - val_accuracy: 34.3434%\n",
      "Epoch 28/30\n",
      "26/26 - train_loss: 1.3758 - train_accuracy: 36.4147%                 - val_loss: 0.8143 - val_accuracy: 42.4242%\n",
      "Epoch 29/30\n",
      "26/26 - train_loss: 1.3483 - train_accuracy: 36.4772%                 - val_loss: 0.7831 - val_accuracy: 42.4242%\n",
      "Epoch 30/30\n",
      "26/26 - train_loss: 1.3360 - train_accuracy: 35.9151%                 - val_loss: 0.8240 - val_accuracy: 41.9192%\n"
     ]
    }
   ],
   "source": [
    "trainer = BaseTrainer(model= base_rnn, criterion=criterion, optimizer=optimizer, train_loader=dm.train_loader, val_loader=dm.valid_loader)\n",
    "trainer.fit(num_epochs=30)"
   ]
  },
  {
   "cell_type": "markdown",
   "metadata": {
    "id": "jdl4rr-BOaNO"
   },
   "source": [
    "#### <font color=\"red\">**Question 3.1.3**</font>\n",
    "**Train the models with LSTM ('lstm') cell with $embed\\_size= 128, state\\_sizes= [64, 128], data\\_manager= dm$ and with three ouput types.** You should follow the structure of Question 3.1.2.\n",
    "\n",
    "<div style=\"text-align: right\"><font color=\"red\">[2 marks]</font></div>"
   ]
  },
  {
   "cell_type": "code",
   "execution_count": 58,
   "metadata": {
    "id": "qMmxgouROMAI"
   },
   "outputs": [
    {
     "name": "stdout",
     "output_type": "stream",
     "text": [
      "Epoch 1/30\n",
      "26/26 - train_loss: 1.6938 - train_accuracy: 21.6115%                 - val_loss: 0.7839 - val_accuracy: 27.7778%\n",
      "Epoch 2/30\n",
      "26/26 - train_loss: 1.6431 - train_accuracy: 27.1081%                 - val_loss: 0.7753 - val_accuracy: 27.2727%\n",
      "Epoch 3/30\n",
      "26/26 - train_loss: 1.3529 - train_accuracy: 44.7845%                 - val_loss: 0.6167 - val_accuracy: 65.6566%\n",
      "Epoch 4/30\n",
      "26/26 - train_loss: 0.9227 - train_accuracy: 72.3923%                 - val_loss: 0.3713 - val_accuracy: 80.8081%\n",
      "Epoch 5/30\n",
      "26/26 - train_loss: 0.3489 - train_accuracy: 88.0075%                 - val_loss: 0.0927 - val_accuracy: 92.9293%\n",
      "Epoch 6/30\n",
      "26/26 - train_loss: 0.2060 - train_accuracy: 93.4416%                 - val_loss: 0.1103 - val_accuracy: 91.4141%\n",
      "Epoch 7/30\n",
      "26/26 - train_loss: 0.1821 - train_accuracy: 93.9413%                 - val_loss: 0.0171 - val_accuracy: 93.9394%\n",
      "Epoch 8/30\n",
      "26/26 - train_loss: 0.1589 - train_accuracy: 94.6908%                 - val_loss: 0.0252 - val_accuracy: 93.9394%\n",
      "Epoch 9/30\n",
      "26/26 - train_loss: 0.1115 - train_accuracy: 96.9394%                 - val_loss: 0.0166 - val_accuracy: 95.4545%\n",
      "Epoch 10/30\n",
      "26/26 - train_loss: 0.0783 - train_accuracy: 97.6889%                 - val_loss: 0.0086 - val_accuracy: 95.9596%\n",
      "Epoch 11/30\n",
      "26/26 - train_loss: 0.0648 - train_accuracy: 98.1886%                 - val_loss: 0.0058 - val_accuracy: 95.9596%\n",
      "Epoch 12/30\n",
      "26/26 - train_loss: 0.0796 - train_accuracy: 97.3766%                 - val_loss: 0.0043 - val_accuracy: 95.4545%\n",
      "Epoch 13/30\n",
      "26/26 - train_loss: 0.0446 - train_accuracy: 98.8132%                 - val_loss: 0.0036 - val_accuracy: 95.4545%\n",
      "Epoch 14/30\n",
      "26/26 - train_loss: 0.0404 - train_accuracy: 98.6259%                 - val_loss: 0.0039 - val_accuracy: 94.4444%\n",
      "Epoch 15/30\n",
      "26/26 - train_loss: 0.0348 - train_accuracy: 98.7508%                 - val_loss: 0.0022 - val_accuracy: 93.9394%\n",
      "Epoch 16/30\n",
      "26/26 - train_loss: 0.0335 - train_accuracy: 99.3754%                 - val_loss: 0.0017 - val_accuracy: 94.9495%\n",
      "Epoch 17/30\n",
      "26/26 - train_loss: 0.0246 - train_accuracy: 99.5003%                 - val_loss: 0.0014 - val_accuracy: 93.9394%\n",
      "Epoch 18/30\n",
      "26/26 - train_loss: 0.0201 - train_accuracy: 99.6877%                 - val_loss: 0.0012 - val_accuracy: 94.9495%\n",
      "Epoch 19/30\n",
      "26/26 - train_loss: 0.0138 - train_accuracy: 99.7502%                 - val_loss: 0.0010 - val_accuracy: 95.4545%\n",
      "Epoch 20/30\n",
      "26/26 - train_loss: 0.0093 - train_accuracy: 99.7502%                 - val_loss: 0.0009 - val_accuracy: 94.9495%\n",
      "Epoch 21/30\n",
      "26/26 - train_loss: 0.0064 - train_accuracy: 99.9375%                 - val_loss: 0.0008 - val_accuracy: 94.9495%\n",
      "Epoch 22/30\n",
      "26/26 - train_loss: 0.0042 - train_accuracy: 99.9375%                 - val_loss: 0.0007 - val_accuracy: 95.9596%\n",
      "Epoch 23/30\n",
      "26/26 - train_loss: 0.0027 - train_accuracy: 100.0000%                 - val_loss: 0.0007 - val_accuracy: 95.4545%\n",
      "Epoch 24/30\n",
      "26/26 - train_loss: 0.0021 - train_accuracy: 100.0000%                 - val_loss: 0.0006 - val_accuracy: 95.9596%\n",
      "Epoch 25/30\n",
      "26/26 - train_loss: 0.0018 - train_accuracy: 100.0000%                 - val_loss: 0.0006 - val_accuracy: 95.9596%\n",
      "Epoch 26/30\n",
      "26/26 - train_loss: 0.0015 - train_accuracy: 100.0000%                 - val_loss: 0.0005 - val_accuracy: 95.9596%\n",
      "Epoch 27/30\n",
      "26/26 - train_loss: 0.0014 - train_accuracy: 100.0000%                 - val_loss: 0.0005 - val_accuracy: 95.9596%\n",
      "Epoch 28/30\n",
      "26/26 - train_loss: 0.0013 - train_accuracy: 100.0000%                 - val_loss: 0.0004 - val_accuracy: 95.9596%\n",
      "Epoch 29/30\n",
      "26/26 - train_loss: 0.0012 - train_accuracy: 100.0000%                 - val_loss: 0.0004 - val_accuracy: 95.9596%\n",
      "Epoch 30/30\n",
      "26/26 - train_loss: 0.0011 - train_accuracy: 100.0000%                 - val_loss: 0.0004 - val_accuracy: 95.9596%\n"
     ]
    }
   ],
   "source": [
    "#Insert your code here\n",
    "lstm_rnn = BaseRNN(\n",
    "    cell_type='lstm',\n",
    "    embed_size=128,\n",
    "    state_sizes=[64, 128],\n",
    "    output_type=\"mean\",\n",
    "    data_manager=dm\n",
    ")\n",
    "lstm_rnn.build()\n",
    "lstm_rnn = lstm_rnn.to(device)\n",
    "criterion = nn.CrossEntropyLoss()\n",
    "optimizer = torch.optim.Adam(lstm_rnn.parameters(), lr=0.001)\n",
    "\n",
    "trainer = BaseTrainer(model= lstm_rnn, criterion=criterion, optimizer=optimizer, train_loader=dm.train_loader, val_loader=dm.valid_loader)\n",
    "trainer.fit(num_epochs=30)"
   ]
  },
  {
   "cell_type": "code",
   "execution_count": 59,
   "metadata": {
    "id": "elQmtEzZPB10"
   },
   "outputs": [
    {
     "name": "stdout",
     "output_type": "stream",
     "text": [
      "Epoch 1/30\n",
      "26/26 - train_loss: 1.6561 - train_accuracy: 37.8513%                 - val_loss: 0.7155 - val_accuracy: 54.5455%\n",
      "Epoch 2/30\n",
      "26/26 - train_loss: 1.1857 - train_accuracy: 56.6521%                 - val_loss: 0.3425 - val_accuracy: 80.3030%\n",
      "Epoch 3/30\n",
      "26/26 - train_loss: 0.4947 - train_accuracy: 83.4478%                 - val_loss: 0.0815 - val_accuracy: 91.9192%\n",
      "Epoch 4/30\n",
      "26/26 - train_loss: 0.2224 - train_accuracy: 93.6290%                 - val_loss: 0.0360 - val_accuracy: 94.9495%\n",
      "Epoch 5/30\n",
      "26/26 - train_loss: 0.1566 - train_accuracy: 94.8157%                 - val_loss: 0.0147 - val_accuracy: 95.4545%\n",
      "Epoch 6/30\n",
      "26/26 - train_loss: 0.1195 - train_accuracy: 95.0031%                 - val_loss: 0.0098 - val_accuracy: 94.4444%\n",
      "Epoch 7/30\n",
      "26/26 - train_loss: 0.1164 - train_accuracy: 95.3779%                 - val_loss: 0.0090 - val_accuracy: 94.4444%\n",
      "Epoch 8/30\n",
      "26/26 - train_loss: 0.0899 - train_accuracy: 97.1268%                 - val_loss: 0.0080 - val_accuracy: 95.4545%\n",
      "Epoch 9/30\n",
      "26/26 - train_loss: 0.0824 - train_accuracy: 97.2517%                 - val_loss: 0.0046 - val_accuracy: 95.9596%\n",
      "Epoch 10/30\n",
      "26/26 - train_loss: 0.0524 - train_accuracy: 98.3136%                 - val_loss: 0.0037 - val_accuracy: 94.9495%\n",
      "Epoch 11/30\n",
      "26/26 - train_loss: 0.0352 - train_accuracy: 99.1880%                 - val_loss: 0.0029 - val_accuracy: 96.4646%\n",
      "Epoch 12/30\n",
      "26/26 - train_loss: 0.0261 - train_accuracy: 99.5003%                 - val_loss: 0.0025 - val_accuracy: 96.4646%\n",
      "Epoch 13/30\n",
      "26/26 - train_loss: 0.0415 - train_accuracy: 99.1255%                 - val_loss: 0.0021 - val_accuracy: 94.9495%\n",
      "Epoch 14/30\n",
      "26/26 - train_loss: 0.0412 - train_accuracy: 98.8132%                 - val_loss: 0.0030 - val_accuracy: 95.9596%\n",
      "Epoch 15/30\n",
      "26/26 - train_loss: 0.0236 - train_accuracy: 99.5628%                 - val_loss: 0.0024 - val_accuracy: 95.9596%\n",
      "Epoch 16/30\n",
      "26/26 - train_loss: 0.0261 - train_accuracy: 99.3754%                 - val_loss: 0.0016 - val_accuracy: 95.9596%\n",
      "Epoch 17/30\n",
      "26/26 - train_loss: 0.0119 - train_accuracy: 99.8126%                 - val_loss: 0.0014 - val_accuracy: 96.9697%\n",
      "Epoch 18/30\n",
      "26/26 - train_loss: 0.0056 - train_accuracy: 100.0000%                 - val_loss: 0.0011 - val_accuracy: 96.9697%\n",
      "Epoch 19/30\n",
      "26/26 - train_loss: 0.0036 - train_accuracy: 100.0000%                 - val_loss: 0.0010 - val_accuracy: 96.9697%\n",
      "Epoch 20/30\n",
      "26/26 - train_loss: 0.0033 - train_accuracy: 100.0000%                 - val_loss: 0.0009 - val_accuracy: 97.4747%\n",
      "Epoch 21/30\n",
      "26/26 - train_loss: 0.0024 - train_accuracy: 100.0000%                 - val_loss: 0.0008 - val_accuracy: 97.4747%\n",
      "Epoch 22/30\n",
      "26/26 - train_loss: 0.0021 - train_accuracy: 100.0000%                 - val_loss: 0.0007 - val_accuracy: 97.4747%\n",
      "Epoch 23/30\n",
      "26/26 - train_loss: 0.0019 - train_accuracy: 100.0000%                 - val_loss: 0.0006 - val_accuracy: 97.4747%\n",
      "Epoch 24/30\n",
      "26/26 - train_loss: 0.0017 - train_accuracy: 100.0000%                 - val_loss: 0.0006 - val_accuracy: 97.4747%\n",
      "Epoch 25/30\n",
      "26/26 - train_loss: 0.0016 - train_accuracy: 100.0000%                 - val_loss: 0.0005 - val_accuracy: 97.4747%\n",
      "Epoch 26/30\n",
      "26/26 - train_loss: 0.0015 - train_accuracy: 100.0000%                 - val_loss: 0.0005 - val_accuracy: 97.4747%\n",
      "Epoch 27/30\n",
      "26/26 - train_loss: 0.0014 - train_accuracy: 100.0000%                 - val_loss: 0.0005 - val_accuracy: 97.4747%\n",
      "Epoch 28/30\n",
      "26/26 - train_loss: 0.0012 - train_accuracy: 100.0000%                 - val_loss: 0.0004 - val_accuracy: 97.4747%\n",
      "Epoch 29/30\n",
      "26/26 - train_loss: 0.0012 - train_accuracy: 100.0000%                 - val_loss: 0.0004 - val_accuracy: 97.4747%\n",
      "Epoch 30/30\n",
      "26/26 - train_loss: 0.0011 - train_accuracy: 100.0000%                 - val_loss: 0.0004 - val_accuracy: 97.4747%\n"
     ]
    }
   ],
   "source": [
    "#Insert your code here\n",
    "#Insert your code here\n",
    "lstm_rnn = BaseRNN(\n",
    "    cell_type='lstm',\n",
    "    embed_size=128,\n",
    "    state_sizes=[64, 128],\n",
    "    output_type=\"max\",\n",
    "    data_manager=dm\n",
    ")\n",
    "lstm_rnn.build()\n",
    "lstm_rnn = lstm_rnn.to(device)\n",
    "criterion = nn.CrossEntropyLoss()\n",
    "optimizer = torch.optim.Adam(lstm_rnn.parameters(), lr=0.001)\n",
    "\n",
    "trainer = BaseTrainer(model= lstm_rnn, criterion=criterion, optimizer=optimizer, train_loader=dm.train_loader, val_loader=dm.valid_loader)\n",
    "trainer.fit(num_epochs=30)"
   ]
  },
  {
   "cell_type": "code",
   "execution_count": 60,
   "metadata": {
    "id": "ChdKppSuPSdV"
   },
   "outputs": [
    {
     "name": "stdout",
     "output_type": "stream",
     "text": [
      "Epoch 1/30\n",
      "26/26 - train_loss: 1.6802 - train_accuracy: 21.8613%                 - val_loss: 0.8167 - val_accuracy: 27.2727%\n",
      "Epoch 2/30\n",
      "26/26 - train_loss: 1.6551 - train_accuracy: 19.6127%                 - val_loss: 0.7659 - val_accuracy: 18.1818%\n",
      "Epoch 3/30\n",
      "26/26 - train_loss: 1.6719 - train_accuracy: 21.9863%                 - val_loss: 0.7745 - val_accuracy: 27.2727%\n",
      "Epoch 4/30\n",
      "26/26 - train_loss: 1.6513 - train_accuracy: 22.3610%                 - val_loss: 0.7969 - val_accuracy: 27.2727%\n",
      "Epoch 5/30\n",
      "26/26 - train_loss: 1.6658 - train_accuracy: 23.7976%                 - val_loss: 0.7596 - val_accuracy: 27.2727%\n",
      "Epoch 6/30\n",
      "26/26 - train_loss: 1.6593 - train_accuracy: 21.6115%                 - val_loss: 0.7889 - val_accuracy: 27.2727%\n",
      "Epoch 7/30\n",
      "26/26 - train_loss: 1.6648 - train_accuracy: 23.7976%                 - val_loss: 0.7748 - val_accuracy: 27.2727%\n",
      "Epoch 8/30\n",
      "26/26 - train_loss: 1.6460 - train_accuracy: 23.7976%                 - val_loss: 0.7790 - val_accuracy: 27.2727%\n",
      "Epoch 9/30\n",
      "26/26 - train_loss: 1.6501 - train_accuracy: 23.7976%                 - val_loss: 0.7635 - val_accuracy: 27.2727%\n",
      "Epoch 10/30\n",
      "26/26 - train_loss: 1.6464 - train_accuracy: 21.2992%                 - val_loss: 0.7631 - val_accuracy: 27.2727%\n",
      "Epoch 11/30\n",
      "26/26 - train_loss: 1.6604 - train_accuracy: 21.1118%                 - val_loss: 0.7688 - val_accuracy: 27.2727%\n",
      "Epoch 12/30\n",
      "26/26 - train_loss: 1.6555 - train_accuracy: 22.4235%                 - val_loss: 0.7719 - val_accuracy: 27.2727%\n",
      "Epoch 13/30\n",
      "26/26 - train_loss: 1.6571 - train_accuracy: 23.8601%                 - val_loss: 0.7720 - val_accuracy: 27.2727%\n",
      "Epoch 14/30\n",
      "26/26 - train_loss: 1.6467 - train_accuracy: 23.8601%                 - val_loss: 0.7829 - val_accuracy: 26.2626%\n",
      "Epoch 15/30\n",
      "26/26 - train_loss: 1.6479 - train_accuracy: 22.2361%                 - val_loss: 0.7814 - val_accuracy: 27.2727%\n",
      "Epoch 16/30\n",
      "26/26 - train_loss: 1.6592 - train_accuracy: 23.8601%                 - val_loss: 0.7586 - val_accuracy: 27.2727%\n",
      "Epoch 17/30\n",
      "26/26 - train_loss: 1.6601 - train_accuracy: 23.8601%                 - val_loss: 0.7844 - val_accuracy: 27.2727%\n",
      "Epoch 18/30\n",
      "26/26 - train_loss: 1.6496 - train_accuracy: 23.8601%                 - val_loss: 0.7779 - val_accuracy: 27.2727%\n",
      "Epoch 19/30\n",
      "26/26 - train_loss: 1.6617 - train_accuracy: 22.1736%                 - val_loss: 0.7682 - val_accuracy: 18.1818%\n",
      "Epoch 20/30\n",
      "26/26 - train_loss: 1.6620 - train_accuracy: 23.7352%                 - val_loss: 0.7864 - val_accuracy: 27.2727%\n",
      "Epoch 21/30\n",
      "26/26 - train_loss: 1.6587 - train_accuracy: 23.8601%                 - val_loss: 0.7737 - val_accuracy: 27.2727%\n",
      "Epoch 22/30\n",
      "26/26 - train_loss: 1.6333 - train_accuracy: 26.3585%                 - val_loss: 0.7947 - val_accuracy: 34.8485%\n",
      "Epoch 23/30\n",
      "26/26 - train_loss: 1.3259 - train_accuracy: 40.9744%                 - val_loss: 0.6252 - val_accuracy: 42.9293%\n",
      "Epoch 24/30\n",
      "26/26 - train_loss: 1.1365 - train_accuracy: 43.6602%                 - val_loss: 0.6344 - val_accuracy: 53.5354%\n",
      "Epoch 25/30\n",
      "26/26 - train_loss: 1.1346 - train_accuracy: 44.5347%                 - val_loss: 0.6161 - val_accuracy: 53.5354%\n",
      "Epoch 26/30\n",
      "26/26 - train_loss: 1.1500 - train_accuracy: 45.9088%                 - val_loss: 0.6887 - val_accuracy: 44.4444%\n",
      "Epoch 27/30\n",
      "26/26 - train_loss: 1.1464 - train_accuracy: 41.5365%                 - val_loss: 0.6399 - val_accuracy: 53.5354%\n",
      "Epoch 28/30\n",
      "26/26 - train_loss: 1.1484 - train_accuracy: 43.7851%                 - val_loss: 0.6485 - val_accuracy: 53.5354%\n",
      "Epoch 29/30\n",
      "26/26 - train_loss: 1.1368 - train_accuracy: 46.0337%                 - val_loss: 0.6479 - val_accuracy: 53.5354%\n",
      "Epoch 30/30\n",
      "26/26 - train_loss: 1.1289 - train_accuracy: 43.4728%                 - val_loss: 0.6377 - val_accuracy: 53.5354%\n"
     ]
    }
   ],
   "source": [
    "#Insert your code here\n",
    "#Insert your code here\n",
    "lstm_rnn = BaseRNN(\n",
    "    cell_type='lstm',\n",
    "    embed_size=128,\n",
    "    state_sizes=[64, 128],\n",
    "    output_type=\"last_state\",\n",
    "    data_manager=dm\n",
    ")\n",
    "lstm_rnn.build()\n",
    "lstm_rnn = lstm_rnn.to(device)\n",
    "criterion = nn.CrossEntropyLoss()\n",
    "optimizer = torch.optim.Adam(lstm_rnn.parameters(), lr=0.001)\n",
    "\n",
    "trainer = BaseTrainer(model= lstm_rnn, criterion=criterion, optimizer=optimizer, train_loader=dm.train_loader, val_loader=dm.valid_loader)\n",
    "trainer.fit(num_epochs=30)"
   ]
  },
  {
   "cell_type": "markdown",
   "metadata": {
    "id": "ZnctyhVLPgVN"
   },
   "source": [
    "#### <font color=\"red\">**Question 3.1.4**</font>\n",
    "**Train the models with GRU ('gru') cell with $embed\\_size= 128, state\\_sizes= [64, 128], data\\_manager= dm$ and with three ouput types.** You should follow the structure of Question 3.1.2.\n",
    "\n",
    "<div style=\"text-align: right\"><font color=\"red\">[2 marks]</font></div>"
   ]
  },
  {
   "cell_type": "code",
   "execution_count": 61,
   "metadata": {
    "id": "UpdbqGnTPbZY"
   },
   "outputs": [
    {
     "name": "stdout",
     "output_type": "stream",
     "text": [
      "Epoch 1/30\n",
      "26/26 - train_loss: 1.6768 - train_accuracy: 22.9856%                 - val_loss: 0.7854 - val_accuracy: 19.6970%\n",
      "Epoch 2/30\n",
      "26/26 - train_loss: 1.5541 - train_accuracy: 34.4160%                 - val_loss: 0.6771 - val_accuracy: 55.5556%\n",
      "Epoch 3/30\n",
      "26/26 - train_loss: 0.9751 - train_accuracy: 66.7083%                 - val_loss: 0.2580 - val_accuracy: 88.3838%\n",
      "Epoch 4/30\n",
      "26/26 - train_loss: 0.3600 - train_accuracy: 90.2561%                 - val_loss: 0.0503 - val_accuracy: 93.4343%\n",
      "Epoch 5/30\n",
      "26/26 - train_loss: 0.1659 - train_accuracy: 94.8157%                 - val_loss: 0.0274 - val_accuracy: 93.4343%\n",
      "Epoch 6/30\n",
      "26/26 - train_loss: 0.1236 - train_accuracy: 95.3154%                 - val_loss: 0.0265 - val_accuracy: 93.4343%\n",
      "Epoch 7/30\n",
      "26/26 - train_loss: 0.0833 - train_accuracy: 97.6889%                 - val_loss: 0.0121 - val_accuracy: 94.4444%\n",
      "Epoch 8/30\n",
      "26/26 - train_loss: 0.0503 - train_accuracy: 98.6259%                 - val_loss: 0.0067 - val_accuracy: 95.4545%\n",
      "Epoch 9/30\n",
      "26/26 - train_loss: 0.0321 - train_accuracy: 99.1880%                 - val_loss: 0.0040 - val_accuracy: 94.4444%\n",
      "Epoch 10/30\n",
      "26/26 - train_loss: 0.0215 - train_accuracy: 99.5003%                 - val_loss: 0.0029 - val_accuracy: 95.9596%\n",
      "Epoch 11/30\n",
      "26/26 - train_loss: 0.0113 - train_accuracy: 99.8751%                 - val_loss: 0.0028 - val_accuracy: 96.4646%\n",
      "Epoch 12/30\n",
      "26/26 - train_loss: 0.0063 - train_accuracy: 99.9375%                 - val_loss: 0.0021 - val_accuracy: 96.9697%\n",
      "Epoch 13/30\n",
      "26/26 - train_loss: 0.0045 - train_accuracy: 100.0000%                 - val_loss: 0.0017 - val_accuracy: 95.9596%\n",
      "Epoch 14/30\n",
      "26/26 - train_loss: 0.0036 - train_accuracy: 100.0000%                 - val_loss: 0.0014 - val_accuracy: 95.9596%\n",
      "Epoch 15/30\n",
      "26/26 - train_loss: 0.0032 - train_accuracy: 100.0000%                 - val_loss: 0.0012 - val_accuracy: 95.4545%\n",
      "Epoch 16/30\n",
      "26/26 - train_loss: 0.0028 - train_accuracy: 100.0000%                 - val_loss: 0.0011 - val_accuracy: 95.9596%\n",
      "Epoch 17/30\n",
      "26/26 - train_loss: 0.0024 - train_accuracy: 100.0000%                 - val_loss: 0.0010 - val_accuracy: 95.9596%\n",
      "Epoch 18/30\n",
      "26/26 - train_loss: 0.0022 - train_accuracy: 100.0000%                 - val_loss: 0.0009 - val_accuracy: 95.9596%\n",
      "Epoch 19/30\n",
      "26/26 - train_loss: 0.0020 - train_accuracy: 100.0000%                 - val_loss: 0.0008 - val_accuracy: 95.9596%\n",
      "Epoch 20/30\n",
      "26/26 - train_loss: 0.0018 - train_accuracy: 100.0000%                 - val_loss: 0.0007 - val_accuracy: 95.9596%\n",
      "Epoch 21/30\n",
      "26/26 - train_loss: 0.0017 - train_accuracy: 100.0000%                 - val_loss: 0.0007 - val_accuracy: 95.9596%\n",
      "Epoch 22/30\n",
      "26/26 - train_loss: 0.0016 - train_accuracy: 100.0000%                 - val_loss: 0.0006 - val_accuracy: 95.9596%\n",
      "Epoch 23/30\n",
      "26/26 - train_loss: 0.0014 - train_accuracy: 100.0000%                 - val_loss: 0.0006 - val_accuracy: 95.9596%\n",
      "Epoch 24/30\n",
      "26/26 - train_loss: 0.0013 - train_accuracy: 100.0000%                 - val_loss: 0.0005 - val_accuracy: 95.9596%\n",
      "Epoch 25/30\n",
      "26/26 - train_loss: 0.0012 - train_accuracy: 100.0000%                 - val_loss: 0.0005 - val_accuracy: 95.9596%\n",
      "Epoch 26/30\n",
      "26/26 - train_loss: 0.0012 - train_accuracy: 100.0000%                 - val_loss: 0.0005 - val_accuracy: 95.9596%\n",
      "Epoch 27/30\n",
      "26/26 - train_loss: 0.0011 - train_accuracy: 100.0000%                 - val_loss: 0.0004 - val_accuracy: 95.9596%\n",
      "Epoch 28/30\n",
      "26/26 - train_loss: 0.0010 - train_accuracy: 100.0000%                 - val_loss: 0.0004 - val_accuracy: 95.9596%\n",
      "Epoch 29/30\n",
      "26/26 - train_loss: 0.0011 - train_accuracy: 100.0000%                 - val_loss: 0.0004 - val_accuracy: 95.9596%\n",
      "Epoch 30/30\n",
      "26/26 - train_loss: 0.0009 - train_accuracy: 100.0000%                 - val_loss: 0.0004 - val_accuracy: 95.9596%\n"
     ]
    }
   ],
   "source": [
    "#Insert your code here\n",
    "gru_rnn = BaseRNN(\n",
    "    cell_type='gru',\n",
    "    embed_size=128,\n",
    "    state_sizes=[64, 128],\n",
    "    output_type=\"mean\",\n",
    "    data_manager=dm\n",
    ")\n",
    "gru_rnn.build()\n",
    "gru_rnn = gru_rnn.to(device)\n",
    "criterion = nn.CrossEntropyLoss()\n",
    "optimizer = torch.optim.Adam(gru_rnn.parameters(), lr=0.001)\n",
    "\n",
    "trainer = BaseTrainer(model= gru_rnn, criterion=criterion, optimizer=optimizer, train_loader=dm.train_loader, val_loader=dm.valid_loader)\n",
    "trainer.fit(num_epochs=30)"
   ]
  },
  {
   "cell_type": "code",
   "execution_count": 10,
   "metadata": {
    "id": "mkda7TkXP5w6"
   },
   "outputs": [
    {
     "name": "stdout",
     "output_type": "stream",
     "text": [
      "Epoch 1/30\n",
      "26/26 - train_loss: 1.5816 - train_accuracy: 34.2286%                 - val_loss: 0.6424 - val_accuracy: 71.2121%\n",
      "Epoch 2/30\n",
      "26/26 - train_loss: 0.9722 - train_accuracy: 80.8245%                 - val_loss: 0.1916 - val_accuracy: 84.8485%\n",
      "Epoch 3/30\n",
      "26/26 - train_loss: 0.3531 - train_accuracy: 90.3810%                 - val_loss: 0.0437 - val_accuracy: 92.9293%\n",
      "Epoch 4/30\n",
      "26/26 - train_loss: 0.1724 - train_accuracy: 94.6908%                 - val_loss: 0.0189 - val_accuracy: 93.9394%\n",
      "Epoch 5/30\n",
      "26/26 - train_loss: 0.1071 - train_accuracy: 96.5022%                 - val_loss: 0.0117 - val_accuracy: 93.9394%\n",
      "Epoch 6/30\n",
      "26/26 - train_loss: 0.0885 - train_accuracy: 97.6265%                 - val_loss: 0.0105 - val_accuracy: 94.9495%\n",
      "Epoch 7/30\n",
      "26/26 - train_loss: 0.0577 - train_accuracy: 98.5634%                 - val_loss: 0.0074 - val_accuracy: 95.9596%\n",
      "Epoch 8/30\n",
      "26/26 - train_loss: 0.0375 - train_accuracy: 99.1255%                 - val_loss: 0.0049 - val_accuracy: 94.9495%\n",
      "Epoch 9/30\n",
      "26/26 - train_loss: 0.0268 - train_accuracy: 99.5003%                 - val_loss: 0.0043 - val_accuracy: 94.4444%\n",
      "Epoch 10/30\n",
      "26/26 - train_loss: 0.0252 - train_accuracy: 99.8126%                 - val_loss: 0.0033 - val_accuracy: 94.9495%\n",
      "Epoch 11/30\n",
      "26/26 - train_loss: 0.0152 - train_accuracy: 99.7502%                 - val_loss: 0.0036 - val_accuracy: 95.4545%\n",
      "Epoch 12/30\n",
      "26/26 - train_loss: 0.0101 - train_accuracy: 99.9375%                 - val_loss: 0.0026 - val_accuracy: 96.9697%\n",
      "Epoch 13/30\n",
      "26/26 - train_loss: 0.0065 - train_accuracy: 99.9375%                 - val_loss: 0.0020 - val_accuracy: 95.9596%\n",
      "Epoch 14/30\n",
      "26/26 - train_loss: 0.0051 - train_accuracy: 99.9375%                 - val_loss: 0.0017 - val_accuracy: 95.4545%\n",
      "Epoch 15/30\n",
      "26/26 - train_loss: 0.0048 - train_accuracy: 99.9375%                 - val_loss: 0.0015 - val_accuracy: 96.9697%\n",
      "Epoch 16/30\n",
      "26/26 - train_loss: 0.0049 - train_accuracy: 99.9375%                 - val_loss: 0.0013 - val_accuracy: 96.9697%\n",
      "Epoch 17/30\n",
      "26/26 - train_loss: 0.0039 - train_accuracy: 99.9375%                 - val_loss: 0.0011 - val_accuracy: 96.4646%\n",
      "Epoch 18/30\n",
      "26/26 - train_loss: 0.0031 - train_accuracy: 100.0000%                 - val_loss: 0.0010 - val_accuracy: 96.4646%\n",
      "Epoch 19/30\n",
      "26/26 - train_loss: 0.0029 - train_accuracy: 100.0000%                 - val_loss: 0.0009 - val_accuracy: 96.9697%\n",
      "Epoch 20/30\n",
      "26/26 - train_loss: 0.0023 - train_accuracy: 100.0000%                 - val_loss: 0.0008 - val_accuracy: 95.9596%\n",
      "Epoch 21/30\n",
      "26/26 - train_loss: 0.0019 - train_accuracy: 100.0000%                 - val_loss: 0.0007 - val_accuracy: 97.4747%\n",
      "Epoch 22/30\n",
      "26/26 - train_loss: 0.0016 - train_accuracy: 100.0000%                 - val_loss: 0.0007 - val_accuracy: 97.9798%\n",
      "Epoch 23/30\n",
      "26/26 - train_loss: 0.0015 - train_accuracy: 100.0000%                 - val_loss: 0.0006 - val_accuracy: 97.9798%\n",
      "Epoch 24/30\n",
      "26/26 - train_loss: 0.0014 - train_accuracy: 100.0000%                 - val_loss: 0.0006 - val_accuracy: 97.9798%\n",
      "Epoch 25/30\n",
      "26/26 - train_loss: 0.0013 - train_accuracy: 100.0000%                 - val_loss: 0.0005 - val_accuracy: 97.9798%\n",
      "Epoch 26/30\n",
      "26/26 - train_loss: 0.0012 - train_accuracy: 100.0000%                 - val_loss: 0.0005 - val_accuracy: 97.9798%\n",
      "Epoch 27/30\n",
      "26/26 - train_loss: 0.0012 - train_accuracy: 100.0000%                 - val_loss: 0.0005 - val_accuracy: 97.9798%\n",
      "Epoch 28/30\n",
      "26/26 - train_loss: 0.0010 - train_accuracy: 100.0000%                 - val_loss: 0.0004 - val_accuracy: 97.9798%\n",
      "Epoch 29/30\n",
      "26/26 - train_loss: 0.0010 - train_accuracy: 100.0000%                 - val_loss: 0.0004 - val_accuracy: 97.9798%\n",
      "Epoch 30/30\n",
      "26/26 - train_loss: 0.0009 - train_accuracy: 100.0000%                 - val_loss: 0.0004 - val_accuracy: 97.9798%\n"
     ]
    }
   ],
   "source": [
    "#Insert your code here\n",
    "gru_rnn = BaseRNN(\n",
    "    cell_type='gru',\n",
    "    embed_size=128,\n",
    "    state_sizes=[64, 128],\n",
    "    output_type=\"max\",\n",
    "    data_manager=dm\n",
    ")\n",
    "gru_rnn.build()\n",
    "gru_rnn = gru_rnn.to(device)\n",
    "criterion = nn.CrossEntropyLoss()\n",
    "optimizer = torch.optim.Adam(gru_rnn.parameters(), lr=0.001)\n",
    "\n",
    "trainer = BaseTrainer(model= gru_rnn, criterion=criterion, optimizer=optimizer, train_loader=dm.train_loader, val_loader=dm.valid_loader)\n",
    "trainer.fit(num_epochs=30)"
   ]
  },
  {
   "cell_type": "code",
   "execution_count": 63,
   "metadata": {
    "id": "dtLlq1EBQAQC"
   },
   "outputs": [
    {
     "name": "stdout",
     "output_type": "stream",
     "text": [
      "Epoch 1/30\n",
      "26/26 - train_loss: 1.6663 - train_accuracy: 21.2992%                 - val_loss: 0.8100 - val_accuracy: 26.2626%\n",
      "Epoch 2/30\n",
      "26/26 - train_loss: 1.6776 - train_accuracy: 20.7995%                 - val_loss: 0.7787 - val_accuracy: 27.2727%\n",
      "Epoch 3/30\n",
      "26/26 - train_loss: 1.6605 - train_accuracy: 20.5497%                 - val_loss: 0.7299 - val_accuracy: 27.2727%\n",
      "Epoch 4/30\n",
      "26/26 - train_loss: 1.6412 - train_accuracy: 27.1081%                 - val_loss: 0.7666 - val_accuracy: 30.8081%\n",
      "Epoch 5/30\n",
      "26/26 - train_loss: 1.5694 - train_accuracy: 31.4179%                 - val_loss: 0.6713 - val_accuracy: 32.8283%\n",
      "Epoch 6/30\n",
      "26/26 - train_loss: 1.1872 - train_accuracy: 47.7202%                 - val_loss: 0.3721 - val_accuracy: 57.0707%\n",
      "Epoch 7/30\n",
      "26/26 - train_loss: 0.7519 - train_accuracy: 72.1424%                 - val_loss: 0.2973 - val_accuracy: 77.2727%\n",
      "Epoch 8/30\n",
      "26/26 - train_loss: 0.3343 - train_accuracy: 90.2561%                 - val_loss: 0.1207 - val_accuracy: 90.4040%\n",
      "Epoch 9/30\n",
      "26/26 - train_loss: 0.1457 - train_accuracy: 96.5646%                 - val_loss: 0.0253 - val_accuracy: 91.4141%\n",
      "Epoch 10/30\n",
      "26/26 - train_loss: 0.1205 - train_accuracy: 96.1274%                 - val_loss: 0.0392 - val_accuracy: 91.9192%\n",
      "Epoch 11/30\n",
      "26/26 - train_loss: 0.0837 - train_accuracy: 97.5640%                 - val_loss: 0.0235 - val_accuracy: 91.9192%\n",
      "Epoch 12/30\n",
      "26/26 - train_loss: 0.0594 - train_accuracy: 98.4385%                 - val_loss: 0.0138 - val_accuracy: 92.4242%\n",
      "Epoch 13/30\n",
      "26/26 - train_loss: 0.0316 - train_accuracy: 99.5003%                 - val_loss: 0.0143 - val_accuracy: 93.4343%\n",
      "Epoch 14/30\n",
      "26/26 - train_loss: 0.0195 - train_accuracy: 99.7502%                 - val_loss: 0.0055 - val_accuracy: 93.9394%\n",
      "Epoch 15/30\n",
      "26/26 - train_loss: 0.0142 - train_accuracy: 99.7502%                 - val_loss: 0.0084 - val_accuracy: 90.4040%\n",
      "Epoch 16/30\n",
      "26/26 - train_loss: 0.0146 - train_accuracy: 99.8126%                 - val_loss: 0.0036 - val_accuracy: 94.4444%\n",
      "Epoch 17/30\n",
      "26/26 - train_loss: 0.0066 - train_accuracy: 99.9375%                 - val_loss: 0.0028 - val_accuracy: 93.9394%\n",
      "Epoch 18/30\n",
      "26/26 - train_loss: 0.0047 - train_accuracy: 100.0000%                 - val_loss: 0.0023 - val_accuracy: 94.4444%\n",
      "Epoch 19/30\n",
      "26/26 - train_loss: 0.0040 - train_accuracy: 100.0000%                 - val_loss: 0.0020 - val_accuracy: 94.4444%\n",
      "Epoch 20/30\n",
      "26/26 - train_loss: 0.0035 - train_accuracy: 100.0000%                 - val_loss: 0.0018 - val_accuracy: 94.4444%\n",
      "Epoch 21/30\n",
      "26/26 - train_loss: 0.0030 - train_accuracy: 100.0000%                 - val_loss: 0.0016 - val_accuracy: 94.4444%\n",
      "Epoch 22/30\n",
      "26/26 - train_loss: 0.0028 - train_accuracy: 100.0000%                 - val_loss: 0.0014 - val_accuracy: 94.4444%\n",
      "Epoch 23/30\n",
      "26/26 - train_loss: 0.0025 - train_accuracy: 100.0000%                 - val_loss: 0.0013 - val_accuracy: 94.4444%\n",
      "Epoch 24/30\n",
      "26/26 - train_loss: 0.0022 - train_accuracy: 100.0000%                 - val_loss: 0.0011 - val_accuracy: 94.4444%\n",
      "Epoch 25/30\n",
      "26/26 - train_loss: 0.0021 - train_accuracy: 100.0000%                 - val_loss: 0.0010 - val_accuracy: 94.4444%\n",
      "Epoch 26/30\n",
      "26/26 - train_loss: 0.0019 - train_accuracy: 100.0000%                 - val_loss: 0.0009 - val_accuracy: 94.4444%\n",
      "Epoch 27/30\n",
      "26/26 - train_loss: 0.0018 - train_accuracy: 100.0000%                 - val_loss: 0.0009 - val_accuracy: 94.4444%\n",
      "Epoch 28/30\n",
      "26/26 - train_loss: 0.0016 - train_accuracy: 100.0000%                 - val_loss: 0.0008 - val_accuracy: 94.4444%\n",
      "Epoch 29/30\n",
      "26/26 - train_loss: 0.0015 - train_accuracy: 100.0000%                 - val_loss: 0.0008 - val_accuracy: 94.4444%\n",
      "Epoch 30/30\n",
      "26/26 - train_loss: 0.0014 - train_accuracy: 100.0000%                 - val_loss: 0.0007 - val_accuracy: 94.4444%\n"
     ]
    }
   ],
   "source": [
    "#Insert your code here\n",
    "gru_rnn = BaseRNN(\n",
    "    cell_type='gru',\n",
    "    embed_size=128,\n",
    "    state_sizes=[64, 128],\n",
    "    output_type=\"last_state\",\n",
    "    data_manager=dm\n",
    ")\n",
    "gru_rnn.build()\n",
    "gru_rnn = gru_rnn.to(device)\n",
    "criterion = nn.CrossEntropyLoss()\n",
    "optimizer = torch.optim.Adam(gru_rnn.parameters(), lr=0.001)\n",
    "\n",
    "trainer = BaseTrainer(model= gru_rnn, criterion=criterion, optimizer=optimizer, train_loader=dm.train_loader, val_loader=dm.valid_loader)\n",
    "trainer.fit(num_epochs=30)"
   ]
  },
  {
   "cell_type": "markdown",
   "metadata": {
    "id": "hdmM2QaHQQaC"
   },
   "source": [
    "### <font color=\"#0b486b\">3.2. RNNs with fine-tuning embedding matrix</font> ###\n",
    "\n",
    "<div style=\"text-align: right\"><font color=\"red; font-weight:bold\">[Total marks for this part: 12 marks]<span></div>"
   ]
  },
  {
   "cell_type": "markdown",
   "metadata": {
    "id": "MgYKrOctQWmd"
   },
   "source": [
    "#### <font color=\"red\">**Question 3.2.1**</font>\n",
    "\n",
    "**In what follows, you are required to extend the class BaseRNN in Part 3.1 to achieve a class RNN in which the embedding matrix can be initialized using a pretrained Word2Vect.**\n",
    "\n",
    "**Below are the descriptions of the attributes of the class *RNN*:**\n",
    "- `run_mode (self.run_mode)` has three values (scratch, init-only, and init-fine-tune).\n",
    "  - `scratch` means training the embedding matrix from scratch.\n",
    "  - `init-only` means only initializing the embedding matrix with a pretrained Word2Vect but **not further doing** fine-tuning that matrix.\n",
    "  - `init-fine-tune` means both initializing the embedding matrix with a pretrained Word2Vect and **further doing** fine-tuning that matrix.\n",
    "- `cell_type (self.cell_type)` has three values (simple-rnn, gru, and lstm) which specify the memory cell used in the network.\n",
    "- `embed_model (self.embed_model)` specifes the pretrained Word2Vect model used.\n",
    "-  `embed_size (self.embed_size)` specifes the embedding size. Note that when run_mode is either 'init-only' or 'init-fine-tune', this embedding size is extracted from embed_model for dimension compatability.\n",
    "- `state_sizes (self.state_sizes)` indicates the list of the hidden sizes  of memory cells. For example, $state\\_sizes = [64, 128]$ means that you have two hidden layers in your network with hidden sizes of $64$ and $128$ respectively.\n",
    "\n",
    "**Complete the code of the class *RNN*.**\n",
    "\n",
    "<div style=\"text-align: right\"><font color=\"red\">[8 marks]</font></div>"
   ]
  },
  {
   "cell_type": "code",
   "execution_count": 11,
   "metadata": {
    "id": "p8WaDo0KQzzL"
   },
   "outputs": [],
   "source": [
    "import gensim.downloader as api\n",
    "from gensim.models import Word2Vec\n",
    "from sklearn.preprocessing import MinMaxScaler\n",
    "from sklearn.metrics import accuracy_score\n",
    "import numpy as np"
   ]
  },
  {
   "cell_type": "code",
   "execution_count": 12,
   "metadata": {
    "id": "k9C_NPIeQHxD"
   },
   "outputs": [],
   "source": [
    "class RNN(BaseRNN):\n",
    "    def __init__(self, cell_type='gru', embed_size=128, state_sizes=[128, 128], output_type = 'mean', data_manager=None,\n",
    "                 run_mode='scratch', embed_model='glove-wiki-gigaword-100'):\n",
    "        super().__init__(cell_type, embed_size, state_sizes, output_type, data_manager)\n",
    "        self.run_mode = run_mode\n",
    "        self.embed_model = embed_model\n",
    "        # Create a folder to save the embedding matrix\n",
    "        if not os.path.exists(\"embeddings\"):\n",
    "          os.makedirs(\"embeddings\")\n",
    "        self.embed_path = \"embeddings/E.npy\"\n",
    "        if self.run_mode != 'scratch':\n",
    "            self.embed_size = int(self.embed_model.split(\"-\")[-1])\n",
    "        self.word2idx = data_manager.word2idx\n",
    "        self.word2vect = None\n",
    "        self.embed_matrix = np.zeros(shape=[self.vocab_size, self.embed_size])\n",
    "\n",
    "    def build_embedding_matrix(self):\n",
    "        # Insert your code here. Your code should allow for saving the embedding matrix in ``self.embed_path'' (as numpy array) for future retrieval.\n",
    "        \n",
    "        if self.run_mode == 'scratch':\n",
    "            self.embed_matrix = np.random.uniform(\n",
    "                -0.25, 0.25, (self.vocab_size, self.embed_size)\n",
    "            )\n",
    "        else:\n",
    "            print(\"Downloading the embedding model...\")\n",
    "            wv = api.load(self.embed_model)\n",
    "            print(\"Building the embedding matrix...\")\n",
    "            for word, idx in self.word2idx.items():\n",
    "                if word in wv:\n",
    "                    self.embed_matrix[idx] = wv[word]\n",
    "                else:\n",
    "                    self.embed_matrix[idx] = np.random.uniform(\n",
    "                        -0.25, 0.25, self.embed_size\n",
    "                    )\n",
    "\n",
    "        np.save(self.embed_path, self.embed_matrix)\n",
    "        print(f\"Saved embedding matrix to {self.embed_path}\")\n",
    "\n",
    "    def build(self):\n",
    "        # Insert your code here to override the 'build' method of BaseRNN\n",
    "        self.embedding = nn.Embedding(self.vocab_size, self.embed_size)\n",
    "        self.embedding.weight.data.copy_(torch.from_numpy(self.embed_matrix))\n",
    "        if self.run_mode == 'init-only':\n",
    "            self.embedding.weight.requires_grad = False\n",
    "\n",
    "        self.rnn_layers = nn.ModuleList()\n",
    "        input_size = self.embed_size\n",
    "        for state_size in self.state_sizes:\n",
    "            if self.cell_type == 'simple_rnn':\n",
    "                rnn_layer = nn.RNN(input_size, state_size, batch_first=True)\n",
    "            elif self.cell_type == 'gru':\n",
    "                rnn_layer = nn.GRU(input_size, state_size, batch_first=True)\n",
    "            elif self.cell_type == 'lstm':\n",
    "                rnn_layer = nn.LSTM(input_size, state_size, batch_first=True)\n",
    "            else:\n",
    "                raise ValueError(f\"Unknown cell_type {self.cell_type}\")\n",
    "            self.rnn_layers.append(rnn_layer)\n",
    "            input_size = state_size\n",
    "\n",
    "        self.output_layer = nn.Linear(self.state_sizes[-1], self.data_manager.num_classes)\n"
   ]
  },
  {
   "cell_type": "markdown",
   "metadata": {
    "id": "B9y2Q3b_RI84"
   },
   "source": [
    "#### <font color=\"red\">**Question 3.2.2**</font>\n",
    "\n",
    "**Write code to conduct experiments to compare three running modes for the embedding matrix. Note that you should set fixed values for other attributes and only vary *run_mode*. Give your comments on the results.**\n",
    "\n",
    "<div style=\"text-align: right\"><font color=\"red\">[4 marks]</font></div>"
   ]
  },
  {
   "cell_type": "code",
   "execution_count": 81,
   "metadata": {
    "id": "wWpOhPgWQ3SO"
   },
   "outputs": [
    {
     "name": "stdout",
     "output_type": "stream",
     "text": [
      "Saved embedding matrix to embeddings/E.npy\n",
      "Epoch 1/30\n",
      "26/26 - train_loss: 1.6780 - train_accuracy: 23.4853%                 - val_loss: 0.7386 - val_accuracy: 18.1818%\n",
      "Epoch 2/30\n",
      "26/26 - train_loss: 1.6554 - train_accuracy: 24.1724%                 - val_loss: 0.7488 - val_accuracy: 27.2727%\n",
      "Epoch 3/30\n",
      "26/26 - train_loss: 1.4210 - train_accuracy: 37.4141%                 - val_loss: 0.6002 - val_accuracy: 52.5253%\n",
      "Epoch 4/30\n",
      "26/26 - train_loss: 0.9525 - train_accuracy: 61.7739%                 - val_loss: 0.4551 - val_accuracy: 79.2929%\n",
      "Epoch 5/30\n",
      "26/26 - train_loss: 0.4935 - train_accuracy: 78.3260%                 - val_loss: 0.2062 - val_accuracy: 81.8182%\n",
      "Epoch 6/30\n",
      "26/26 - train_loss: 0.2744 - train_accuracy: 94.1911%                 - val_loss: 0.0781 - val_accuracy: 94.9495%\n",
      "Epoch 7/30\n",
      "26/26 - train_loss: 0.1102 - train_accuracy: 96.9394%                 - val_loss: 0.0425 - val_accuracy: 95.4545%\n",
      "Epoch 8/30\n",
      "26/26 - train_loss: 0.0522 - train_accuracy: 99.0006%                 - val_loss: 0.0159 - val_accuracy: 97.4747%\n",
      "Epoch 9/30\n",
      "26/26 - train_loss: 0.0216 - train_accuracy: 99.8126%                 - val_loss: 0.0063 - val_accuracy: 97.4747%\n",
      "Epoch 10/30\n",
      "26/26 - train_loss: 0.0146 - train_accuracy: 99.9375%                 - val_loss: 0.0064 - val_accuracy: 96.9697%\n",
      "Epoch 11/30\n",
      "26/26 - train_loss: 0.0089 - train_accuracy: 100.0000%                 - val_loss: 0.0040 - val_accuracy: 96.9697%\n",
      "Epoch 12/30\n",
      "26/26 - train_loss: 0.0068 - train_accuracy: 100.0000%                 - val_loss: 0.0031 - val_accuracy: 96.9697%\n",
      "Epoch 13/30\n",
      "26/26 - train_loss: 0.0057 - train_accuracy: 100.0000%                 - val_loss: 0.0026 - val_accuracy: 96.9697%\n",
      "Epoch 14/30\n",
      "26/26 - train_loss: 0.0048 - train_accuracy: 100.0000%                 - val_loss: 0.0022 - val_accuracy: 96.9697%\n",
      "Epoch 15/30\n",
      "26/26 - train_loss: 0.0041 - train_accuracy: 100.0000%                 - val_loss: 0.0019 - val_accuracy: 96.9697%\n",
      "Epoch 16/30\n",
      "26/26 - train_loss: 0.0036 - train_accuracy: 100.0000%                 - val_loss: 0.0016 - val_accuracy: 96.9697%\n",
      "Epoch 17/30\n",
      "26/26 - train_loss: 0.0032 - train_accuracy: 100.0000%                 - val_loss: 0.0015 - val_accuracy: 96.9697%\n",
      "Epoch 18/30\n",
      "26/26 - train_loss: 0.0028 - train_accuracy: 100.0000%                 - val_loss: 0.0013 - val_accuracy: 96.9697%\n",
      "Epoch 19/30\n",
      "26/26 - train_loss: 0.0030 - train_accuracy: 100.0000%                 - val_loss: 0.0012 - val_accuracy: 96.9697%\n",
      "Epoch 20/30\n",
      "26/26 - train_loss: 0.0023 - train_accuracy: 100.0000%                 - val_loss: 0.0011 - val_accuracy: 96.9697%\n",
      "Epoch 21/30\n",
      "26/26 - train_loss: 0.0022 - train_accuracy: 100.0000%                 - val_loss: 0.0010 - val_accuracy: 96.9697%\n",
      "Epoch 22/30\n",
      "26/26 - train_loss: 0.0019 - train_accuracy: 100.0000%                 - val_loss: 0.0009 - val_accuracy: 96.9697%\n",
      "Epoch 23/30\n",
      "26/26 - train_loss: 0.0018 - train_accuracy: 100.0000%                 - val_loss: 0.0008 - val_accuracy: 96.9697%\n",
      "Epoch 24/30\n",
      "26/26 - train_loss: 0.0017 - train_accuracy: 100.0000%                 - val_loss: 0.0008 - val_accuracy: 96.9697%\n",
      "Epoch 25/30\n",
      "26/26 - train_loss: 0.0016 - train_accuracy: 100.0000%                 - val_loss: 0.0007 - val_accuracy: 97.4747%\n",
      "Epoch 26/30\n",
      "26/26 - train_loss: 0.0015 - train_accuracy: 100.0000%                 - val_loss: 0.0007 - val_accuracy: 97.4747%\n",
      "Epoch 27/30\n",
      "26/26 - train_loss: 0.0013 - train_accuracy: 100.0000%                 - val_loss: 0.0006 - val_accuracy: 97.4747%\n",
      "Epoch 28/30\n",
      "26/26 - train_loss: 0.0013 - train_accuracy: 100.0000%                 - val_loss: 0.0006 - val_accuracy: 97.4747%\n",
      "Epoch 29/30\n",
      "26/26 - train_loss: 0.0012 - train_accuracy: 100.0000%                 - val_loss: 0.0005 - val_accuracy: 97.4747%\n",
      "Epoch 30/30\n",
      "26/26 - train_loss: 0.0011 - train_accuracy: 100.0000%                 - val_loss: 0.0005 - val_accuracy: 97.4747%\n"
     ]
    }
   ],
   "source": [
    "# Insert your code here\n",
    "q3_2_rnn = RNN(\n",
    "    cell_type='gru',\n",
    "    embed_size=128,\n",
    "    state_sizes=[64, 128],\n",
    "    output_type=\"mean\",\n",
    "    run_mode='scratch',\n",
    "    data_manager=dm\n",
    ")\n",
    "q3_2_rnn.build_embedding_matrix()\n",
    "q3_2_rnn.build()\n",
    "q3_2_rnn = q3_2_rnn.to(device)\n",
    "criterion = nn.CrossEntropyLoss()\n",
    "optimizer = torch.optim.Adam(q3_2_rnn.parameters(), lr=0.001)\n",
    "\n",
    "trainer = BaseTrainer(model= q3_2_rnn, criterion=criterion, optimizer=optimizer, train_loader=dm.train_loader, val_loader=dm.valid_loader)\n",
    "trainer.fit(num_epochs=30)"
   ]
  },
  {
   "cell_type": "code",
   "execution_count": 82,
   "metadata": {
    "id": "tD8i9cs6RSuF"
   },
   "outputs": [
    {
     "name": "stdout",
     "output_type": "stream",
     "text": [
      "Downloading the embedding model...\n",
      "Building the embedding matrix...\n",
      "Saved embedding matrix to embeddings/E.npy\n",
      "Epoch 1/30\n",
      "26/26 - train_loss: 1.6864 - train_accuracy: 23.9850%                 - val_loss: 0.7616 - val_accuracy: 46.4646%\n",
      "Epoch 2/30\n",
      "26/26 - train_loss: 1.5072 - train_accuracy: 38.9132%                 - val_loss: 0.6375 - val_accuracy: 50.0000%\n",
      "Epoch 3/30\n",
      "26/26 - train_loss: 0.9675 - train_accuracy: 60.2124%                 - val_loss: 0.3420 - val_accuracy: 69.1919%\n",
      "Epoch 4/30\n",
      "26/26 - train_loss: 0.5743 - train_accuracy: 83.3229%                 - val_loss: 0.1929 - val_accuracy: 89.8990%\n",
      "Epoch 5/30\n",
      "26/26 - train_loss: 0.3114 - train_accuracy: 91.5678%                 - val_loss: 0.0341 - val_accuracy: 92.9293%\n",
      "Epoch 6/30\n",
      "26/26 - train_loss: 0.1998 - train_accuracy: 93.9413%                 - val_loss: 0.0156 - val_accuracy: 94.9495%\n",
      "Epoch 7/30\n",
      "26/26 - train_loss: 0.2429 - train_accuracy: 91.8801%                 - val_loss: 0.0716 - val_accuracy: 94.9495%\n",
      "Epoch 8/30\n",
      "26/26 - train_loss: 0.1362 - train_accuracy: 95.6277%                 - val_loss: 0.0203 - val_accuracy: 94.4444%\n",
      "Epoch 9/30\n",
      "26/26 - train_loss: 0.1216 - train_accuracy: 96.1274%                 - val_loss: 0.0141 - val_accuracy: 94.9495%\n",
      "Epoch 10/30\n",
      "26/26 - train_loss: 0.1169 - train_accuracy: 96.1274%                 - val_loss: 0.0110 - val_accuracy: 95.4545%\n",
      "Epoch 11/30\n",
      "26/26 - train_loss: 0.0830 - train_accuracy: 96.7520%                 - val_loss: 0.0072 - val_accuracy: 95.4545%\n",
      "Epoch 12/30\n",
      "26/26 - train_loss: 0.0863 - train_accuracy: 97.0019%                 - val_loss: 0.0056 - val_accuracy: 94.9495%\n",
      "Epoch 13/30\n",
      "26/26 - train_loss: 0.0742 - train_accuracy: 97.3142%                 - val_loss: 0.0044 - val_accuracy: 95.9596%\n",
      "Epoch 14/30\n",
      "26/26 - train_loss: 0.0739 - train_accuracy: 97.1268%                 - val_loss: 0.0040 - val_accuracy: 95.4545%\n",
      "Epoch 15/30\n",
      "26/26 - train_loss: 0.0650 - train_accuracy: 97.5640%                 - val_loss: 0.0035 - val_accuracy: 94.4444%\n",
      "Epoch 16/30\n",
      "26/26 - train_loss: 0.0633 - train_accuracy: 97.5640%                 - val_loss: 0.0026 - val_accuracy: 95.9596%\n",
      "Epoch 17/30\n",
      "26/26 - train_loss: 0.0651 - train_accuracy: 97.5016%                 - val_loss: 0.0026 - val_accuracy: 95.9596%\n",
      "Epoch 18/30\n",
      "26/26 - train_loss: 0.0578 - train_accuracy: 97.8139%                 - val_loss: 0.0025 - val_accuracy: 96.4646%\n",
      "Epoch 19/30\n",
      "26/26 - train_loss: 0.1110 - train_accuracy: 97.6265%                 - val_loss: 0.0029 - val_accuracy: 93.4343%\n",
      "Epoch 20/30\n",
      "26/26 - train_loss: 0.3648 - train_accuracy: 90.1312%                 - val_loss: 0.0280 - val_accuracy: 93.9394%\n",
      "Epoch 21/30\n",
      "26/26 - train_loss: 0.1054 - train_accuracy: 95.3154%                 - val_loss: 0.0185 - val_accuracy: 95.4545%\n",
      "Epoch 22/30\n",
      "26/26 - train_loss: 0.0866 - train_accuracy: 97.1268%                 - val_loss: 0.0113 - val_accuracy: 95.9596%\n",
      "Epoch 23/30\n",
      "26/26 - train_loss: 0.0732 - train_accuracy: 97.7514%                 - val_loss: 0.0072 - val_accuracy: 95.9596%\n",
      "Epoch 24/30\n",
      "26/26 - train_loss: 0.0656 - train_accuracy: 97.8763%                 - val_loss: 0.0045 - val_accuracy: 95.9596%\n",
      "Epoch 25/30\n",
      "26/26 - train_loss: 0.0602 - train_accuracy: 98.0012%                 - val_loss: 0.0028 - val_accuracy: 95.9596%\n",
      "Epoch 26/30\n",
      "26/26 - train_loss: 0.0555 - train_accuracy: 98.0637%                 - val_loss: 0.0021 - val_accuracy: 95.9596%\n",
      "Epoch 27/30\n",
      "26/26 - train_loss: 0.0519 - train_accuracy: 97.8763%                 - val_loss: 0.0021 - val_accuracy: 96.9697%\n",
      "Epoch 28/30\n",
      "26/26 - train_loss: 0.0503 - train_accuracy: 98.0637%                 - val_loss: 0.0018 - val_accuracy: 96.4646%\n",
      "Epoch 29/30\n",
      "26/26 - train_loss: 0.0523 - train_accuracy: 97.9388%                 - val_loss: 0.0013 - val_accuracy: 95.4545%\n",
      "Epoch 30/30\n",
      "26/26 - train_loss: 0.0491 - train_accuracy: 98.2511%                 - val_loss: 0.0014 - val_accuracy: 95.9596%\n"
     ]
    }
   ],
   "source": [
    "# Insert your code here\n",
    "q3_2_rnn = RNN(\n",
    "    cell_type='gru',\n",
    "    embed_size=128,\n",
    "    state_sizes=[64, 128],\n",
    "    output_type=\"mean\",\n",
    "    run_mode='init-only',\n",
    "    data_manager=dm\n",
    ")\n",
    "q3_2_rnn.build_embedding_matrix()\n",
    "q3_2_rnn.build()\n",
    "q3_2_rnn = q3_2_rnn.to(device)\n",
    "criterion = nn.CrossEntropyLoss()\n",
    "optimizer = torch.optim.Adam(q3_2_rnn.parameters(), lr=0.001)\n",
    "\n",
    "trainer = BaseTrainer(model= q3_2_rnn, criterion=criterion, optimizer=optimizer, train_loader=dm.train_loader, val_loader=dm.valid_loader)\n",
    "trainer.fit(num_epochs=30)"
   ]
  },
  {
   "cell_type": "code",
   "execution_count": 13,
   "metadata": {
    "id": "3GZ5MaDgVSx2"
   },
   "outputs": [
    {
     "name": "stdout",
     "output_type": "stream",
     "text": [
      "Downloading the embedding model...\n",
      "Building the embedding matrix...\n",
      "Saved embedding matrix to embeddings/E.npy\n",
      "Epoch 1/30\n",
      "26/26 - train_loss: 1.6545 - train_accuracy: 25.9213%                 - val_loss: 0.7919 - val_accuracy: 26.2626%\n",
      "Epoch 2/30\n",
      "26/26 - train_loss: 1.5126 - train_accuracy: 37.8513%                 - val_loss: 0.5007 - val_accuracy: 70.7071%\n",
      "Epoch 3/30\n",
      "26/26 - train_loss: 0.7856 - train_accuracy: 76.5771%                 - val_loss: 0.1451 - val_accuracy: 90.4040%\n",
      "Epoch 4/30\n",
      "26/26 - train_loss: 0.3239 - train_accuracy: 91.6927%                 - val_loss: 0.0287 - val_accuracy: 92.9293%\n",
      "Epoch 5/30\n",
      "26/26 - train_loss: 0.2178 - train_accuracy: 93.8164%                 - val_loss: 0.0196 - val_accuracy: 92.4242%\n",
      "Epoch 6/30\n",
      "26/26 - train_loss: 0.1297 - train_accuracy: 95.6902%                 - val_loss: 0.0133 - val_accuracy: 95.4545%\n",
      "Epoch 7/30\n",
      "26/26 - train_loss: 0.0856 - train_accuracy: 97.1268%                 - val_loss: 0.0061 - val_accuracy: 94.4444%\n",
      "Epoch 8/30\n",
      "26/26 - train_loss: 0.0741 - train_accuracy: 97.3766%                 - val_loss: 0.0064 - val_accuracy: 95.9596%\n",
      "Epoch 9/30\n",
      "26/26 - train_loss: 0.0475 - train_accuracy: 98.5634%                 - val_loss: 0.0039 - val_accuracy: 96.4646%\n",
      "Epoch 10/30\n",
      "26/26 - train_loss: 0.0413 - train_accuracy: 98.7508%                 - val_loss: 0.0035 - val_accuracy: 95.9596%\n",
      "Epoch 11/30\n",
      "26/26 - train_loss: 0.0340 - train_accuracy: 99.1880%                 - val_loss: 0.0029 - val_accuracy: 96.9697%\n",
      "Epoch 12/30\n",
      "26/26 - train_loss: 0.0236 - train_accuracy: 99.5003%                 - val_loss: 0.0035 - val_accuracy: 97.4747%\n",
      "Epoch 13/30\n",
      "26/26 - train_loss: 0.0124 - train_accuracy: 99.8751%                 - val_loss: 0.0020 - val_accuracy: 97.4747%\n",
      "Epoch 14/30\n",
      "26/26 - train_loss: 0.0093 - train_accuracy: 99.9375%                 - val_loss: 0.0019 - val_accuracy: 96.9697%\n",
      "Epoch 15/30\n",
      "26/26 - train_loss: 0.0113 - train_accuracy: 99.8126%                 - val_loss: 0.0777 - val_accuracy: 96.9697%\n",
      "Epoch 16/30\n",
      "26/26 - train_loss: 0.0083 - train_accuracy: 99.8751%                 - val_loss: 0.0017 - val_accuracy: 97.9798%\n",
      "Epoch 17/30\n",
      "26/26 - train_loss: 0.0049 - train_accuracy: 100.0000%                 - val_loss: 0.0014 - val_accuracy: 97.9798%\n",
      "Epoch 18/30\n",
      "26/26 - train_loss: 0.0037 - train_accuracy: 100.0000%                 - val_loss: 0.0013 - val_accuracy: 97.9798%\n",
      "Epoch 19/30\n",
      "26/26 - train_loss: 0.0034 - train_accuracy: 100.0000%                 - val_loss: 0.0012 - val_accuracy: 97.9798%\n",
      "Epoch 20/30\n",
      "26/26 - train_loss: 0.0027 - train_accuracy: 100.0000%                 - val_loss: 0.0011 - val_accuracy: 98.4848%\n",
      "Epoch 21/30\n",
      "26/26 - train_loss: 0.0024 - train_accuracy: 100.0000%                 - val_loss: 0.0009 - val_accuracy: 98.4848%\n",
      "Epoch 22/30\n",
      "26/26 - train_loss: 0.0022 - train_accuracy: 100.0000%                 - val_loss: 0.0008 - val_accuracy: 97.9798%\n",
      "Epoch 23/30\n",
      "26/26 - train_loss: 0.0019 - train_accuracy: 100.0000%                 - val_loss: 0.0008 - val_accuracy: 97.9798%\n",
      "Epoch 24/30\n",
      "26/26 - train_loss: 0.0018 - train_accuracy: 100.0000%                 - val_loss: 0.0007 - val_accuracy: 98.4848%\n",
      "Epoch 25/30\n",
      "26/26 - train_loss: 0.0017 - train_accuracy: 100.0000%                 - val_loss: 0.0007 - val_accuracy: 98.4848%\n",
      "Epoch 26/30\n",
      "26/26 - train_loss: 0.0015 - train_accuracy: 100.0000%                 - val_loss: 0.0006 - val_accuracy: 98.4848%\n",
      "Epoch 27/30\n",
      "26/26 - train_loss: 0.0014 - train_accuracy: 100.0000%                 - val_loss: 0.0006 - val_accuracy: 98.4848%\n",
      "Epoch 28/30\n",
      "26/26 - train_loss: 0.0013 - train_accuracy: 100.0000%                 - val_loss: 0.0005 - val_accuracy: 98.4848%\n",
      "Epoch 29/30\n",
      "26/26 - train_loss: 0.0012 - train_accuracy: 100.0000%                 - val_loss: 0.0005 - val_accuracy: 97.9798%\n",
      "Epoch 30/30\n",
      "26/26 - train_loss: 0.0012 - train_accuracy: 100.0000%                 - val_loss: 0.0005 - val_accuracy: 97.9798%\n"
     ]
    }
   ],
   "source": [
    "# Insert your code here\n",
    "q3_2_rnn = RNN(\n",
    "    cell_type='gru',\n",
    "    embed_size=128,\n",
    "    state_sizes=[64, 128],\n",
    "    output_type=\"mean\",\n",
    "    run_mode='init-fine-tune',\n",
    "    data_manager=dm\n",
    ")\n",
    "q3_2_rnn.build_embedding_matrix()\n",
    "q3_2_rnn.build()\n",
    "q3_2_rnn = q3_2_rnn.to(device)\n",
    "criterion = nn.CrossEntropyLoss()\n",
    "optimizer = torch.optim.Adam(q3_2_rnn.parameters(), lr=0.001)\n",
    "\n",
    "trainer = BaseTrainer(model= q3_2_rnn, criterion=criterion, optimizer=optimizer, train_loader=dm.train_loader, val_loader=dm.valid_loader)\n",
    "trainer.fit(num_epochs=30)"
   ]
  },
  {
   "cell_type": "code",
   "execution_count": 16,
   "metadata": {},
   "outputs": [
    {
     "data": {
      "text/plain": [
       "(tensor(0.4584, device='cuda:0'), 0.9751243781094527)"
      ]
     },
     "execution_count": 16,
     "metadata": {},
     "output_type": "execute_result"
    }
   ],
   "source": [
    "# Save the model\n",
    "torch.save(q3_2_rnn.state_dict(), 'best_model.pth')\n",
    "tester = BaseTrainer(model= q3_2_rnn, criterion=criterion, optimizer=optimizer, train_loader=dm.train_loader, val_loader=dm.test_loader)\n",
    "tester.validate_one_epoch()"
   ]
  },
  {
   "cell_type": "markdown",
   "metadata": {
    "id": "N4aP_jFXXA30"
   },
   "source": [
    "Write your comments on the results here (maximum 150 words)\n",
    "\n",
    "\n"
   ]
  },
  {
   "cell_type": "markdown",
   "metadata": {
    "id": "-3R6tl59XHFr"
   },
   "source": [
    "### <font color=\"#0b486b\">3.3. RNNs with Attention for Text and Sequence Classification</font> ###\n",
    "\n",
    "**In what follows, you are required to implement a RNN with the attention mechanism for text and sequence classification. This attention mechanism is applied at the last hidden layer of our RNN. Specifically, let $\\textbf{h}_1^L, \\textbf{h}_2^L,...,\\textbf{h}_{T-1}^L, \\textbf{h}_T^L$ be the hidden states at the last hidden layer $L$ where $T$ is the sequence length. We compute the context vector $\\textbf{c}$ as $\\textbf{c}=\\sum_{i=1}^{T}\\textbf{a}_{i}\\textbf{h}_{i}^L$ where $\\textbf{a}_1,...,\\textbf{a}_T$ are the alignment weights (i.e., $\\textbf{a}_i\\geq 0$ and $\\sum_{i=1}^{T}\\textbf{a}_{i}=1$).**\n",
    "\n",
    "**The alignment weights are computed as follows:**\n",
    "- $\\textbf{a}=[\\textbf{a}_{i}]_{i=1}^{T}=\\text{softmax}(\\textbf{s})$ where $\\textbf{s}= [\\textbf{s}_{i}]_{i=1}^{T}$ consists of the alignment scores.\n",
    "- The alignment scores are computed as $\\textbf{s}=\\text{tanh}(\\textbf{h}^LU)V$ where $\\textbf{h}^L=\\left[\\begin{array}{c}\n",
    "\\textbf{h}_{1}^L\\\\\n",
    "\\textbf{h}_{2}^L\\\\\n",
    "...\\\\\n",
    "\\textbf{h}_{T-1}^L\\\\\n",
    "\\textbf{h}_{T}^L\n",
    "\\end{array}\\right]\\in\\mathbb{R}^{T\\times state\\_size_{L}}$, $U\\in\\mathbb{R}^{state\\_size_{L}\\times output\\_length}$, $V\\in\\mathbb{R}^{output\\_length\\times1}$, and $output\\_length$ is a hyperparameter. Note that if we consider a mini-batch, the shape of $\\textbf{h}^L$ is $(batch\\_size, T, state\\_size_L)$ where $state\\_size_L$ is the hidden size of the last hidden layer. The figure on the right below illustrates the process of calculating a score $\\textbf{s}_i$ for an individual hidden state $\\textbf{h}_i^L$. Weight matrices $U$ and $V$ are shared across the hidden states $\\textbf{h}_1^L,\\textbf{h}_2^L,\\dots,\\textbf{h}_T^L$.\n",
    "\n",
    "**After having the context vector $\\textbf{c}$, we concatenate with the output hidden state which is computed by aggregating $\\textbf{h}^{1:T}_L$ following $3$ different `output_type` as above. On top of this concatenation, we conduct the output layer with the softmax activation.**\n",
    "\n",
    "<div style=\"text-align: right\"><font color=\"red; font-weight:bold\">[Total marks for this part: 12 marks]<span></div>"
   ]
  },
  {
   "cell_type": "markdown",
   "metadata": {
    "id": "I257srozYll3"
   },
   "source": [
    "![image.png size=150](data:image/png;base64,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)"
   ]
  },
  {
   "cell_type": "markdown",
   "metadata": {
    "id": "rypIhnV-Y9In"
   },
   "source": [
    "#### <font color=\"red\">**Question 3.3.1**</font>\n",
    "\n",
    "**We declare the  layer `MyAttention` to realize our attention mechanism. You are required to provide the code for this class. Note that in the `def forward(self, all_states, last_state)` method, `all_states` is the collection of all hidden states and `last_state` is the last hidden state.**\n",
    "\n",
    "<div style=\"text-align: right\"><font color=\"red\">[4 marks]</font></div>"
   ]
  },
  {
   "cell_type": "code",
   "execution_count": 13,
   "metadata": {
    "id": "k_P-GC-gWNNu"
   },
   "outputs": [],
   "source": [
    "import torch.nn.functional as F\n",
    "\n",
    "class MyAttention(nn.Module):\n",
    "    def __init__(self, output_length=50):\n",
    "        super().__init__()\n",
    "        # Insert your code here\n",
    "        self.output_length = output_length\n",
    "        self.U = None\n",
    "        self.V = None\n",
    "\n",
    "    # all_states is the collection of all hidden states and last_state is the last hidden state\n",
    "    def forward(self, all_states, last_state):\n",
    "        # Insert your code here\n",
    "        batch_size, seq_length, state_size = all_states.shape\n",
    "\n",
    "        if self.U is None:\n",
    "            self.U = nn.Linear(state_size, self.output_length).to(device)\n",
    "            self.V = nn.Linear(self.output_length, 1, bias=False).to(device)\n",
    "\n",
    "        scores = torch.tanh(self.U(all_states))\n",
    "        scores = self.V(scores).squeeze(-1)\n",
    "\n",
    "        attention_weights = F.softmax(scores, dim=1)\n",
    "\n",
    "        context_vector = torch.sum(attention_weights.unsqueeze(-1) * all_states, dim=1)\n",
    "\n",
    "        return context_vector"
   ]
  },
  {
   "cell_type": "markdown",
   "metadata": {
    "id": "rY8TyBU7ZPmJ"
   },
   "source": [
    "We now test `MyAttention`."
   ]
  },
  {
   "cell_type": "code",
   "execution_count": 14,
   "metadata": {
    "colab": {
     "base_uri": "https://localhost:8080/"
    },
    "id": "QP71473_ZBgE",
    "outputId": "d2f6b85a-59ba-4274-a0db-22e751fe8101"
   },
   "outputs": [
    {
     "name": "stdout",
     "output_type": "stream",
     "text": [
      "torch.Size([10, 20, 5])\n",
      "torch.Size([10, 5])\n",
      "torch.Size([10, 5])\n"
     ]
    }
   ],
   "source": [
    "batch_size = 10\n",
    "seq_length = 20\n",
    "state_size = 5\n",
    "all_states = torch.randn(batch_size, seq_length, state_size).to(device)\n",
    "last_state = all_states[:, -1, :].to(device)\n",
    "attention = MyAttention()\n",
    "context_vector = attention(all_states, last_state)\n",
    "print(all_states.shape)\n",
    "print(last_state.shape)\n",
    "print(context_vector.shape)"
   ]
  },
  {
   "cell_type": "markdown",
   "metadata": {
    "id": "qjsg4RpfZYU8"
   },
   "source": [
    "#### <font color=\"red\">**Question 3.3.2**</font>\n",
    "\n",
    "**You are required to extend the class `BaseRNN` in Question `3.2.1` to achieve the class `AttentionRNN` in which the attention mechanism mentioned above is applied at the last hidden layer.**\n",
    "\n",
    "<div style=\"text-align: right\"><font color=\"red\">[6 marks]</font></div>"
   ]
  },
  {
   "cell_type": "code",
   "execution_count": 18,
   "metadata": {
    "id": "rQQkINqUZTXL"
   },
   "outputs": [],
   "source": [
    "class AttentionRNN(BaseRNN):\n",
    "    def __init__(self, cell_type='gru', embed_size=128, state_sizes=[128, 128], output_type = \"mean\",data_manager=None):\n",
    "        super().__init__(cell_type, embed_size, state_sizes, output_type, data_manager)\n",
    "\n",
    "    def build(self):\n",
    "        # Insert your code here to override the method build() in BaseRNN class.\n",
    "        super().build()\n",
    "        self.attention = MyAttention()\n",
    "\n",
    "\n",
    "    def forward(self, x):\n",
    "        # Insert your code here to override the method forward() in BaseRNN class.\n",
    "        x = self.embedding(x)\n",
    "\n",
    "        all_states, _ = self.rnn_layers(x)\n",
    "\n",
    "        last_state = all_states[:, -1, :] \n",
    "        context_vector = self.attention(all_states, last_state)\n",
    "\n",
    "        combined = torch.cat([context_vector, last_state], dim=-1) \n",
    "\n",
    "        output = self.fc(combined)  \n",
    "\n",
    "        return output"
   ]
  },
  {
   "cell_type": "markdown",
   "metadata": {
    "id": "YXobIyzzjkv4"
   },
   "source": [
    "#### <font color=\"red\">**Question 3.3.3**</font>\n",
    "\n",
    "**Conduct the experiment to test the above Attention RNN.**\n",
    "\n",
    "<div style=\"text-align: right\"><font color=\"red\">[2 marks]</font></div>"
   ]
  },
  {
   "cell_type": "code",
   "execution_count": 22,
   "metadata": {
    "id": "FW9c9ud_Zdi5"
   },
   "outputs": [
    {
     "name": "stdout",
     "output_type": "stream",
     "text": [
      "Epoch 1/30\n",
      "26/26 - train_loss: 0.0012 - train_accuracy: 100.0000%                 - val_loss: 0.0004 - val_accuracy: 98.9899%\n",
      "Epoch 2/30\n",
      "26/26 - train_loss: 0.0012 - train_accuracy: 100.0000%                 - val_loss: 0.0004 - val_accuracy: 98.9899%\n",
      "Epoch 3/30\n",
      "26/26 - train_loss: 0.0012 - train_accuracy: 100.0000%                 - val_loss: 0.0004 - val_accuracy: 98.9899%\n",
      "Epoch 4/30\n",
      "26/26 - train_loss: 0.0012 - train_accuracy: 100.0000%                 - val_loss: 0.0004 - val_accuracy: 98.9899%\n",
      "Epoch 5/30\n",
      "26/26 - train_loss: 0.0012 - train_accuracy: 100.0000%                 - val_loss: 0.0004 - val_accuracy: 98.9899%\n",
      "Epoch 6/30\n",
      "26/26 - train_loss: 0.0012 - train_accuracy: 100.0000%                 - val_loss: 0.0004 - val_accuracy: 98.9899%\n",
      "Epoch 7/30\n",
      "26/26 - train_loss: 0.0012 - train_accuracy: 100.0000%                 - val_loss: 0.0004 - val_accuracy: 98.9899%\n",
      "Epoch 8/30\n",
      "26/26 - train_loss: 0.0016 - train_accuracy: 100.0000%                 - val_loss: 0.0004 - val_accuracy: 98.9899%\n",
      "Epoch 9/30\n",
      "26/26 - train_loss: 0.0014 - train_accuracy: 100.0000%                 - val_loss: 0.0004 - val_accuracy: 98.9899%\n",
      "Epoch 10/30\n",
      "26/26 - train_loss: 0.0012 - train_accuracy: 100.0000%                 - val_loss: 0.0004 - val_accuracy: 98.9899%\n",
      "Epoch 11/30\n",
      "26/26 - train_loss: 0.0012 - train_accuracy: 100.0000%                 - val_loss: 0.0004 - val_accuracy: 98.9899%\n",
      "Epoch 12/30\n",
      "26/26 - train_loss: 0.0012 - train_accuracy: 100.0000%                 - val_loss: 0.0004 - val_accuracy: 98.9899%\n",
      "Epoch 13/30\n",
      "26/26 - train_loss: 0.0012 - train_accuracy: 100.0000%                 - val_loss: 0.0004 - val_accuracy: 98.9899%\n",
      "Epoch 14/30\n",
      "26/26 - train_loss: 0.0012 - train_accuracy: 100.0000%                 - val_loss: 0.0004 - val_accuracy: 98.9899%\n",
      "Epoch 15/30\n",
      "26/26 - train_loss: 0.0012 - train_accuracy: 100.0000%                 - val_loss: 0.0004 - val_accuracy: 98.9899%\n",
      "Epoch 16/30\n",
      "26/26 - train_loss: 0.0012 - train_accuracy: 100.0000%                 - val_loss: 0.0004 - val_accuracy: 98.9899%\n",
      "Epoch 17/30\n",
      "26/26 - train_loss: 0.0012 - train_accuracy: 100.0000%                 - val_loss: 0.0004 - val_accuracy: 98.9899%\n",
      "Epoch 18/30\n",
      "26/26 - train_loss: 0.0012 - train_accuracy: 100.0000%                 - val_loss: 0.0004 - val_accuracy: 98.9899%\n",
      "Epoch 19/30\n",
      "26/26 - train_loss: 0.0012 - train_accuracy: 100.0000%                 - val_loss: 0.0004 - val_accuracy: 98.9899%\n",
      "Epoch 20/30\n",
      "26/26 - train_loss: 0.0012 - train_accuracy: 100.0000%                 - val_loss: 0.0004 - val_accuracy: 98.9899%\n",
      "Epoch 21/30\n",
      "26/26 - train_loss: 0.0012 - train_accuracy: 100.0000%                 - val_loss: 0.0004 - val_accuracy: 98.9899%\n",
      "Epoch 22/30\n",
      "26/26 - train_loss: 0.0012 - train_accuracy: 100.0000%                 - val_loss: 0.0004 - val_accuracy: 98.9899%\n",
      "Epoch 23/30\n",
      "26/26 - train_loss: 0.0012 - train_accuracy: 100.0000%                 - val_loss: 0.0004 - val_accuracy: 98.9899%\n",
      "Epoch 24/30\n",
      "26/26 - train_loss: 0.0012 - train_accuracy: 100.0000%                 - val_loss: 0.0004 - val_accuracy: 98.9899%\n",
      "Epoch 25/30\n",
      "26/26 - train_loss: 0.0012 - train_accuracy: 100.0000%                 - val_loss: 0.0004 - val_accuracy: 98.9899%\n",
      "Epoch 26/30\n",
      "26/26 - train_loss: 0.0012 - train_accuracy: 100.0000%                 - val_loss: 0.0004 - val_accuracy: 98.9899%\n",
      "Epoch 27/30\n",
      "26/26 - train_loss: 0.0012 - train_accuracy: 100.0000%                 - val_loss: 0.0004 - val_accuracy: 98.9899%\n",
      "Epoch 28/30\n",
      "26/26 - train_loss: 0.0012 - train_accuracy: 100.0000%                 - val_loss: 0.0004 - val_accuracy: 98.9899%\n",
      "Epoch 29/30\n",
      "26/26 - train_loss: 0.0012 - train_accuracy: 100.0000%                 - val_loss: 0.0004 - val_accuracy: 98.9899%\n",
      "Epoch 30/30\n",
      "26/26 - train_loss: 0.0012 - train_accuracy: 100.0000%                 - val_loss: 0.0004 - val_accuracy: 98.9899%\n"
     ]
    }
   ],
   "source": [
    "#Insert your code here\n",
    "attn_rnn = AttentionRNN(\n",
    "    cell_type='gru',\n",
    "    embed_size=128, \n",
    "    state_sizes=[128, 128],  # Hidden layers of size 128\n",
    "    output_type='mean',\n",
    "    data_manager=dm  # Assumed DataManager instance\n",
    ")\n",
    "attn_rnn.build()\n",
    "attn_rnn = attn_rnn.to(device)\n",
    "criterion = nn.CrossEntropyLoss()\n",
    "optimizer = torch.optim.Adam(attn_rnn.parameters(), lr=0.001)\n",
    "trainer = BaseTrainer(model= attn_rnn, criterion=criterion, optimizer=optimizer, train_loader=dm.train_loader, val_loader=dm.valid_loader)\n",
    "trainer.fit(num_epochs=30)"
   ]
  }
 ],
 "metadata": {
  "colab": {
   "provenance": []
  },
  "kernelspec": {
   "display_name": "Python 3",
   "name": "python3"
  },
  "language_info": {
   "codemirror_mode": {
    "name": "ipython",
    "version": 3
   },
   "file_extension": ".py",
   "mimetype": "text/x-python",
   "name": "python",
   "nbconvert_exporter": "python",
   "pygments_lexer": "ipython3",
   "version": "3.12.0"
  }
 },
 "nbformat": 4,
 "nbformat_minor": 0
}
