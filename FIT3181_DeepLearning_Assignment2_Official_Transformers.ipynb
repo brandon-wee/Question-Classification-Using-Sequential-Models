{
  "cells": [
    {
      "cell_type": "markdown",
      "metadata": {
        "id": "qEHyseHxA8q4"
      },
      "source": [
        "# <font color=\"#0b486b\">  FIT3181: Deep Learning (2024) - Assignment 2 (Transformers)</font>\n",
        "***\n",
        "*CE/Lecturer (Clayton):*  **Dr Trung Le** | trunglm@monash.edu <br/>\n",
        "*Lecturer (Clayton):* **Prof Dinh Phung** | dinh.phung@monash.edu <br/>\n",
        "*Lecturer (Malaysia):*  **Dr Arghya Pal** | arghya.pal@monash.edu <br/>\n",
        "*Lecturer (Malaysia):*  **Dr Lim Chern Hong** | lim.chernhong@monash.edu <br/>  <br/>\n",
        "*Head Tutor 3181:*  **Miss Vy Vo** |  \\[v.vo@monash.edu \\] <br/>\n",
        "*Head Tutor 5215:*  **Dr Van Nguyen** |  \\[van.nguyen1@monash.edu \\]\n",
        "\n",
        "<br/> <br/>\n",
        "Faculty of Information Technology, Monash University, Australia\n",
        "***"
      ]
    },
    {
      "cell_type": "markdown",
      "metadata": {
        "id": "QqMi8gdDBD1L"
      },
      "source": [
        "# <font color=\"#0b486b\">  Student Information</font>\n",
        "***\n",
        "Surname: **Wee**  <br/>\n",
        "Firstname: **Brandon**    <br/>\n",
        "Student ID: **33561826**    <br/>\n",
        "Email: **bwee0004@student.monash.edu**    <br/>\n",
        "Your tutorial time: **Friday 2pm-4pm**    <br/>\n",
        "***"
      ]
    },
    {
      "cell_type": "markdown",
      "metadata": {
        "id": "BLGpdQp2BPOU"
      },
      "source": [
        "# <font color=\"0b486b\">Assignment 2 – Deep Learning for Sequential Data</font>\n",
        "### Due: <font color=\"red\">11:55pm Sunday, 27 October 2024</font> (FIT3181)\n",
        "\n",
        "#### <font color=\"red\">Important note:</font> This is an **individual** assignment. It contributes **15%** to your final mark. Read the assignment instructions carefully."
      ]
    },
    {
      "cell_type": "markdown",
      "metadata": {
        "id": "PF8vqRzTCEsm"
      },
      "source": [
        "## <font color=\"#0b486b\">Assignment 2's Organization</font>\n",
        "This assignment 2 has two (2) sections:\n",
        "- Section 1: Fundamentals of RNNs (10 marks).\n",
        "- Section 2: Deep Learning for Sequential Data (90 marks). This section is further divided into 4 parts.\n",
        "\n",
        "The assignment 2 is organized in three (3) notebooks.\n",
        "- Notebook 1 ([link](https://colab.research.google.com/drive/1Rm2wWOJCjilpVf4T6RJZFtkjRULuTo0g?usp=sharing)) [Total: 30 marks] includes Section 1 as well as Part 1 and Part 2 of Section 2.\n",
        "- Notebook 2 ([link](https://colab.research.google.com/drive/19-WnvLH24yUZ_eih3_8P_Fjn8cM8X2Gz?usp=sharing)) [Total: 40 marks] includes Part 3 of Section 2.\n",
        "- Notebook 3 (this notebook) [Total: 30 marks] includes Part 4 of Section 2.\n"
      ]
    },
    {
      "cell_type": "markdown",
      "metadata": {
        "id": "UbY5tyqK37Iw"
      },
      "source": [
        "## <font color=\"#0b486b\">What to submit</font>\n",
        "\n",
        "This assignment is to be completed individually and submitted to Moodle unit site. **By the due date, you are required to submit one  <font color=\"red; font-weight:bold\">single zip file, named xxx_assignment02_solution.zip</font> where `xxx` is your student ID, to the corresponding Assignment (Dropbox) in Moodle**. You can use Google Colab to do Assignment 2 but you need to save it to an `*.ipynb` file to submit to the unit Moodle.\n",
        "\n",
        "**More importantly, if you use Google Colab to do this assignment, you need to first make a copy of this notebook on your Google drive**."
      ]
    },
    {
      "cell_type": "markdown",
      "metadata": {
        "id": "cg1MdTwq37I6"
      },
      "source": [
        "***For example, if your student ID is <font color=\"red; font-weight:bold\">12356</font>, then gather all of your assignment solutions to a folder, create a zip file named <font color=\"red; font-weight:bold\">123456_assignment02_solution.zip</font> and submit this file.***"
      ]
    },
    {
      "cell_type": "markdown",
      "metadata": {
        "id": "prEJdUhB37I6"
      },
      "source": [
        "Within this zip folder, you **must** submit the following files <u>for each part</u>:\n",
        "1.\t**`FIT3181_DeepLearning_Assignment2_Official[Main].ipynb`**:  this is your Python notebook solution source file.\n",
        "1.\t**`FIT3181_DeepLearning_Assignment2_Official[Main].html`**: this is the output of your Python notebook solution *exported* in HTML format.\n",
        "1. **`FIT3181_DeepLearning_Assignment2_Official[RNNs].ipynb`**\n",
        "1. **`FIT3181_DeepLearning_Assignment2_Official[RNNs].html`**\n",
        "1. **`FIT3181_DeepLearning_Assignment2_Official[Transformers].ipynb`**\n",
        "1. **`FIT3181_DeepLearning_Assignment2_Official[Transformers].html`**\n",
        "1.\tAny **extra files or folder** needed to complete your assignment (e.g., images used in your answers).\n",
        "\n"
      ]
    },
    {
      "cell_type": "markdown",
      "metadata": {
        "id": "rAVPM0BnTdd4"
      },
      "source": [
        "## Section 2: Deep Learning for Sequential Data"
      ]
    },
    {
      "cell_type": "markdown",
      "metadata": {
        "id": "FAgUSME4TsCP"
      },
      "source": [
        "### <font color=\"#0b486b\">Set random seeds</font>"
      ]
    },
    {
      "cell_type": "markdown",
      "metadata": {
        "id": "5DaYHAIv4poj"
      },
      "source": [
        "We need to install the package datasets for creating BERT datasets."
      ]
    },
    {
      "cell_type": "code",
      "execution_count": null,
      "metadata": {
        "colab": {
          "base_uri": "https://localhost:8080/"
        },
        "id": "o7ik_46Y4vDo",
        "outputId": "d11fcb9d-b96e-4aab-f960-41b3d165c922"
      },
      "outputs": [
        {
          "name": "stdout",
          "output_type": "stream",
          "text": [
            "Collecting datasets\n",
            "  Downloading datasets-3.0.0-py3-none-any.whl.metadata (19 kB)\n",
            "Requirement already satisfied: filelock in /usr/local/lib/python3.10/dist-packages (from datasets) (3.16.0)\n",
            "Requirement already satisfied: numpy>=1.17 in /usr/local/lib/python3.10/dist-packages (from datasets) (1.26.4)\n",
            "Collecting pyarrow>=15.0.0 (from datasets)\n",
            "  Downloading pyarrow-17.0.0-cp310-cp310-manylinux_2_28_x86_64.whl.metadata (3.3 kB)\n",
            "Collecting dill<0.3.9,>=0.3.0 (from datasets)\n",
            "  Downloading dill-0.3.8-py3-none-any.whl.metadata (10 kB)\n",
            "Requirement already satisfied: pandas in /usr/local/lib/python3.10/dist-packages (from datasets) (2.1.4)\n",
            "Requirement already satisfied: requests>=2.32.2 in /usr/local/lib/python3.10/dist-packages (from datasets) (2.32.3)\n",
            "Requirement already satisfied: tqdm>=4.66.3 in /usr/local/lib/python3.10/dist-packages (from datasets) (4.66.5)\n",
            "Collecting xxhash (from datasets)\n",
            "  Downloading xxhash-3.5.0-cp310-cp310-manylinux_2_17_x86_64.manylinux2014_x86_64.whl.metadata (12 kB)\n",
            "Collecting multiprocess (from datasets)\n",
            "  Downloading multiprocess-0.70.16-py310-none-any.whl.metadata (7.2 kB)\n",
            "Requirement already satisfied: fsspec<=2024.6.1,>=2023.1.0 in /usr/local/lib/python3.10/dist-packages (from fsspec[http]<=2024.6.1,>=2023.1.0->datasets) (2024.6.1)\n",
            "Requirement already satisfied: aiohttp in /usr/local/lib/python3.10/dist-packages (from datasets) (3.10.5)\n",
            "Requirement already satisfied: huggingface-hub>=0.22.0 in /usr/local/lib/python3.10/dist-packages (from datasets) (0.24.6)\n",
            "Requirement already satisfied: packaging in /usr/local/lib/python3.10/dist-packages (from datasets) (24.1)\n",
            "Requirement already satisfied: pyyaml>=5.1 in /usr/local/lib/python3.10/dist-packages (from datasets) (6.0.2)\n",
            "Requirement already satisfied: aiohappyeyeballs>=2.3.0 in /usr/local/lib/python3.10/dist-packages (from aiohttp->datasets) (2.4.0)\n",
            "Requirement already satisfied: aiosignal>=1.1.2 in /usr/local/lib/python3.10/dist-packages (from aiohttp->datasets) (1.3.1)\n",
            "Requirement already satisfied: attrs>=17.3.0 in /usr/local/lib/python3.10/dist-packages (from aiohttp->datasets) (24.2.0)\n",
            "Requirement already satisfied: frozenlist>=1.1.1 in /usr/local/lib/python3.10/dist-packages (from aiohttp->datasets) (1.4.1)\n",
            "Requirement already satisfied: multidict<7.0,>=4.5 in /usr/local/lib/python3.10/dist-packages (from aiohttp->datasets) (6.1.0)\n",
            "Requirement already satisfied: yarl<2.0,>=1.0 in /usr/local/lib/python3.10/dist-packages (from aiohttp->datasets) (1.11.1)\n",
            "Requirement already satisfied: async-timeout<5.0,>=4.0 in /usr/local/lib/python3.10/dist-packages (from aiohttp->datasets) (4.0.3)\n",
            "Requirement already satisfied: typing-extensions>=3.7.4.3 in /usr/local/lib/python3.10/dist-packages (from huggingface-hub>=0.22.0->datasets) (4.12.2)\n",
            "Requirement already satisfied: charset-normalizer<4,>=2 in /usr/local/lib/python3.10/dist-packages (from requests>=2.32.2->datasets) (3.3.2)\n",
            "Requirement already satisfied: idna<4,>=2.5 in /usr/local/lib/python3.10/dist-packages (from requests>=2.32.2->datasets) (3.8)\n",
            "Requirement already satisfied: urllib3<3,>=1.21.1 in /usr/local/lib/python3.10/dist-packages (from requests>=2.32.2->datasets) (2.0.7)\n",
            "Requirement already satisfied: certifi>=2017.4.17 in /usr/local/lib/python3.10/dist-packages (from requests>=2.32.2->datasets) (2024.8.30)\n",
            "Requirement already satisfied: python-dateutil>=2.8.2 in /usr/local/lib/python3.10/dist-packages (from pandas->datasets) (2.8.2)\n",
            "Requirement already satisfied: pytz>=2020.1 in /usr/local/lib/python3.10/dist-packages (from pandas->datasets) (2024.2)\n",
            "Requirement already satisfied: tzdata>=2022.1 in /usr/local/lib/python3.10/dist-packages (from pandas->datasets) (2024.1)\n",
            "Requirement already satisfied: six>=1.5 in /usr/local/lib/python3.10/dist-packages (from python-dateutil>=2.8.2->pandas->datasets) (1.16.0)\n",
            "Downloading datasets-3.0.0-py3-none-any.whl (474 kB)\n",
            "\u001b[2K   \u001b[90m━━━━━━━━━━━━━━━━━━━━━━━━━━━━━━━━━━━━━━━━\u001b[0m \u001b[32m474.3/474.3 kB\u001b[0m \u001b[31m13.1 MB/s\u001b[0m eta \u001b[36m0:00:00\u001b[0m\n",
            "\u001b[?25hDownloading dill-0.3.8-py3-none-any.whl (116 kB)\n",
            "\u001b[2K   \u001b[90m━━━━━━━━━━━━━━━━━━━━━━━━━━━━━━━━━━━━━━━━\u001b[0m \u001b[32m116.3/116.3 kB\u001b[0m \u001b[31m11.7 MB/s\u001b[0m eta \u001b[36m0:00:00\u001b[0m\n",
            "\u001b[?25hDownloading pyarrow-17.0.0-cp310-cp310-manylinux_2_28_x86_64.whl (39.9 MB)\n",
            "\u001b[2K   \u001b[90m━━━━━━━━━━━━━━━━━━━━━━━━━━━━━━━━━━━━━━━━\u001b[0m \u001b[32m39.9/39.9 MB\u001b[0m \u001b[31m18.7 MB/s\u001b[0m eta \u001b[36m0:00:00\u001b[0m\n",
            "\u001b[?25hDownloading multiprocess-0.70.16-py310-none-any.whl (134 kB)\n",
            "\u001b[2K   \u001b[90m━━━━━━━━━━━━━━━━━━━━━━━━━━━━━━━━━━━━━━━━\u001b[0m \u001b[32m134.8/134.8 kB\u001b[0m \u001b[31m13.3 MB/s\u001b[0m eta \u001b[36m0:00:00\u001b[0m\n",
            "\u001b[?25hDownloading xxhash-3.5.0-cp310-cp310-manylinux_2_17_x86_64.manylinux2014_x86_64.whl (194 kB)\n",
            "\u001b[2K   \u001b[90m━━━━━━━━━━━━━━━━━━━━━━━━━━━━━━━━━━━━━━━━\u001b[0m \u001b[32m194.1/194.1 kB\u001b[0m \u001b[31m17.9 MB/s\u001b[0m eta \u001b[36m0:00:00\u001b[0m\n",
            "\u001b[?25hInstalling collected packages: xxhash, pyarrow, dill, multiprocess, datasets\n",
            "  Attempting uninstall: pyarrow\n",
            "    Found existing installation: pyarrow 14.0.2\n",
            "    Uninstalling pyarrow-14.0.2:\n",
            "      Successfully uninstalled pyarrow-14.0.2\n",
            "\u001b[31mERROR: pip's dependency resolver does not currently take into account all the packages that are installed. This behaviour is the source of the following dependency conflicts.\n",
            "cudf-cu12 24.4.1 requires pyarrow<15.0.0a0,>=14.0.1, but you have pyarrow 17.0.0 which is incompatible.\n",
            "ibis-framework 8.0.0 requires pyarrow<16,>=2, but you have pyarrow 17.0.0 which is incompatible.\u001b[0m\u001b[31m\n",
            "\u001b[0mSuccessfully installed datasets-3.0.0 dill-0.3.8 multiprocess-0.70.16 pyarrow-17.0.0 xxhash-3.5.0\n"
          ]
        }
      ],
      "source": [
        "!pip install datasets"
      ]
    },
    {
      "cell_type": "markdown",
      "metadata": {
        "id": "g6b0SM034sf2"
      },
      "source": [
        "We start with importing PyTorch and NumPy and setting random seeds for PyTorch and NumPy. You can use any seeds you prefer."
      ]
    },
    {
      "cell_type": "code",
      "execution_count": null,
      "metadata": {
        "id": "O7XWUry0JXCc"
      },
      "outputs": [],
      "source": [
        "import os\n",
        "import torch\n",
        "import random\n",
        "import requests\n",
        "import pandas as pd\n",
        "import numpy as np\n",
        "import torch.nn as nn\n",
        "from torch.utils.data import DataLoader\n",
        "from torch.nn.utils.rnn import pad_sequence\n",
        "from transformers import BertTokenizer\n",
        "import os\n",
        "from six.moves.urllib.request import urlretrieve\n",
        "from sklearn import preprocessing\n",
        "import matplotlib.pyplot as plt\n",
        "plt.style.use('ggplot')"
      ]
    },
    {
      "cell_type": "code",
      "execution_count": 4,
      "metadata": {
        "id": "6ZoWqunmUY7L"
      },
      "outputs": [],
      "source": [
        "def seed_all(seed=1029):\n",
        "    random.seed(seed)\n",
        "    os.environ['PYTHONHASHSEED'] = str(seed)\n",
        "    np.random.seed(seed)\n",
        "    torch.manual_seed(seed)\n",
        "    torch.cuda.manual_seed(seed)\n",
        "    torch.cuda.manual_seed_all(seed)  # if you are using multi-GPU.\n",
        "    torch.backends.cudnn.benchmark = False\n",
        "    torch.backends.cudnn.deterministic = True\n",
        "seed_all(seed=1234)\n",
        "\n",
        "device = torch.device(\"cuda\" if torch.cuda.is_available() else \"cpu\")"
      ]
    },
    {
      "cell_type": "markdown",
      "metadata": {
        "id": "6VU1jS6SUl8q"
      },
      "source": [
        "## <font color=\"#0b486b\">Download and preprocess the data</font>\n",
        "\n",
        "<div style=\"text-align: right\"><font color=\"red; font-weight:bold\"><span></div>"
      ]
    },
    {
      "cell_type": "markdown",
      "metadata": {
        "id": "wQEzWmZjUulL"
      },
      "source": [
        "The dataset we use for this assignment is a question classification dataset for which the training set consists of $5,500$ questions belonging to 6 coarse question categories including:\n",
        "- abbreviation (ABBR),\n",
        "- entity (ENTY),\n",
        "- description (DESC),\n",
        "- human (HUM),\n",
        "- location (LOC) and\n",
        "- numeric (NUM).\n",
        "\n",
        "In this assignment, we will utilize a subset of this dataset, containing $2,000$ questions for training and validation. We will use 80% of those 2000 questions for trainning and the rest for validation.\n"
      ]
    },
    {
      "cell_type": "markdown",
      "metadata": {
        "id": "zOd49RTpUxxj"
      },
      "source": [
        "Preprocessing data is a crucial initial step in any machine learning or deep learning project. The *TextDataManager* class simplifies the process by providing functionalities to download and preprocess data specifically designed for the subsequent questions in this assignment. It is highly recommended to gain a comprehensive understanding of the class's functionality by **carefully reading** the content provided in the *TextDataManager* class before proceeding to answer the questions."
      ]
    },
    {
      "cell_type": "code",
      "execution_count": 5,
      "metadata": {
        "id": "_C2fuJNzUhha"
      },
      "outputs": [],
      "source": [
        "class DataManager:\n",
        "    \"\"\"\n",
        "    This class manages and preprocesses a simple text dataset for a sentence classification task.\n",
        "\n",
        "    Attributes:\n",
        "        verbose (bool): Controls verbosity for printing information during data processing.\n",
        "        max_sentence_len (int): The maximum length of a sentence in the dataset.\n",
        "        str_questions (list): A list to store the string representations of the questions in the dataset.\n",
        "        str_labels (list): A list to store the string representations of the labels in the dataset.\n",
        "        numeral_labels (list): A list to store the numerical representations of the labels in the dataset.\n",
        "        maxlen (int): Maximum length for padding sequences. Sequences longer than this length will be truncated,\n",
        "            and sequences shorter than this length will be padded with zeros. Defaults to 50.\n",
        "        numeral_data (list): A list to store the numerical representations of the questions in the dataset.\n",
        "        random_state (int): Seed value for random number generation to ensure reproducibility.\n",
        "            Set this value to a specific integer to reproduce the same random sequence every time. Defaults to 6789.\n",
        "        random (np.random.RandomState): Random number generator object initialized with the given random_state.\n",
        "            It is used for various random operations in the class.\n",
        "\n",
        "    Methods:\n",
        "        maybe_download(dir_name, file_name, url, verbose=True):\n",
        "            Downloads a file from a given URL if it does not exist in the specified directory.\n",
        "            The directory and file are created if they do not exist.\n",
        "\n",
        "        read_data(dir_name, file_names):\n",
        "            Reads data from files in a directory, preprocesses it, and computes the maximum sentence length.\n",
        "            Each file is expected to contain rows in the format \"<label>:<question>\".\n",
        "            The labels and questions are stored as string representations.\n",
        "\n",
        "        manipulate_data():\n",
        "            Performs data manipulation by tokenizing, numericalizing, and padding the text data.\n",
        "            The questions are tokenized and converted into numerical sequences using a tokenizer.\n",
        "            The sequences are padded or truncated to the maximum sequence length.\n",
        "\n",
        "        train_valid_test_split(train_ratio=0.9):\n",
        "            Splits the data into training, validation, and test sets based on a given ratio.\n",
        "            The data is randomly shuffled, and the specified ratio is used to determine the size of the training set.\n",
        "            The string questions, numerical data, and numerical labels are split accordingly.\n",
        "            TensorFlow `Dataset` objects are created for the training and validation sets.\n",
        "\n",
        "\n",
        "    \"\"\"\n",
        "\n",
        "    def __init__(self, verbose=True, random_state=6789):\n",
        "        self.verbose = verbose\n",
        "        self.max_sentence_len = 0\n",
        "        self.str_questions = list()\n",
        "        self.str_labels = list()\n",
        "        self.numeral_labels = list()\n",
        "        self.numeral_data = list()\n",
        "        self.random_state = random_state\n",
        "        self.random = np.random.RandomState(random_state)\n",
        "\n",
        "    @staticmethod\n",
        "    def maybe_download(dir_name, file_name, url, verbose=True):\n",
        "        if not os.path.exists(dir_name):\n",
        "            os.mkdir(dir_name)\n",
        "        if not os.path.exists(os.path.join(dir_name, file_name)):\n",
        "            urlretrieve(url + file_name, os.path.join(dir_name, file_name))\n",
        "        if verbose:\n",
        "            print(\"Downloaded successfully {}\".format(file_name))\n",
        "\n",
        "    def read_data(self, dir_name, file_names):\n",
        "        self.str_questions = list()\n",
        "        self.str_labels = list()\n",
        "        for file_name in file_names:\n",
        "            file_path= os.path.join(dir_name, file_name)\n",
        "            with open(file_path, \"r\", encoding=\"latin-1\") as f:\n",
        "                for row in f:\n",
        "                    row_str = row.split(\":\")\n",
        "                    label, question = row_str[0], row_str[1]\n",
        "                    question = question.lower()\n",
        "                    self.str_labels.append(label)\n",
        "                    self.str_questions.append(question[0:-1])\n",
        "                    if self.max_sentence_len < len(self.str_questions[-1]):\n",
        "                        self.max_sentence_len = len(self.str_questions[-1])\n",
        "\n",
        "        # turns labels into numbers\n",
        "        le = preprocessing.LabelEncoder()\n",
        "        le.fit(self.str_labels)\n",
        "        self.numeral_labels = np.array(le.transform(self.str_labels))\n",
        "        self.str_classes = le.classes_\n",
        "        self.num_classes = len(self.str_classes)\n",
        "        if self.verbose:\n",
        "            print(\"\\nSample questions and corresponding labels... \\n\")\n",
        "            print(self.str_questions[0:5])\n",
        "            print(self.str_labels[0:5])\n",
        "\n",
        "    def manipulate_data(self):\n",
        "        self.tokenizer = BertTokenizer.from_pretrained('bert-base-uncased')\n",
        "        vocab = self.tokenizer.get_vocab()\n",
        "        self.word2idx = {w: i for i, w in enumerate(vocab)}\n",
        "        self.idx2word = {i:w for w,i in self.word2idx.items()}\n",
        "        self.vocab_size = len(self.word2idx)\n",
        "\n",
        "        token_ids = []\n",
        "        num_seqs = []\n",
        "        for text in self.str_questions:  # iterate over the list of text\n",
        "          text_seqs = self.tokenizer.tokenize(str(text))  # tokenize each text individually\n",
        "          # Convert tokens to IDs\n",
        "          token_ids = self.tokenizer.convert_tokens_to_ids(text_seqs)\n",
        "          # Convert token IDs to a tensor of indices using your word2idx mapping\n",
        "          seq_tensor = torch.LongTensor(token_ids)\n",
        "          num_seqs.append(seq_tensor)  # append the tensor for each sequence\n",
        "\n",
        "        # Pad the sequences and create a tensor\n",
        "        if num_seqs:\n",
        "          self.numeral_data = pad_sequence(num_seqs, batch_first=True)  # Pads to max length of the sequences\n",
        "          self.num_sentences, self.max_seq_len = self.numeral_data.shape\n",
        "\n",
        "    def train_valid_test_split(self, train_ratio=0.8, test_ratio = 0.1):\n",
        "        train_size = int(self.num_sentences*train_ratio) +1\n",
        "        test_size = int(self.num_sentences*test_ratio) +1\n",
        "        valid_size = self.num_sentences - (train_size + test_size)\n",
        "        data_indices = list(range(self.num_sentences))\n",
        "        random.shuffle(data_indices)\n",
        "        self.train_str_questions = [self.str_questions[i] for i in data_indices[:train_size]]\n",
        "        self.train_numeral_labels = self.numeral_labels[data_indices[:train_size]]\n",
        "        train_set_data = self.numeral_data[data_indices[:train_size]]\n",
        "        train_set_labels = self.numeral_labels[data_indices[:train_size]]\n",
        "        train_set_labels = torch.from_numpy(train_set_labels)\n",
        "        train_set = torch.utils.data.TensorDataset(train_set_data, train_set_labels)\n",
        "        self.test_str_questions = [self.str_questions[i] for i in data_indices[-test_size:]]\n",
        "        self.test_numeral_labels = self.numeral_labels[data_indices[-test_size:]]\n",
        "        test_set_data = self.numeral_data[data_indices[-test_size:]]\n",
        "        test_set_labels = self.numeral_labels[data_indices[-test_size:]]\n",
        "        test_set_labels = torch.from_numpy(test_set_labels)\n",
        "        test_set = torch.utils.data.TensorDataset(test_set_data, test_set_labels)\n",
        "        self.valid_str_questions = [self.str_questions[i] for i in data_indices[train_size:-test_size]]\n",
        "        self.valid_numeral_labels = self.numeral_labels[data_indices[train_size:-test_size]]\n",
        "        valid_set_data = self.numeral_data[data_indices[train_size:-test_size]]\n",
        "        valid_set_labels = self.numeral_labels[data_indices[train_size:-test_size]]\n",
        "        valid_set_labels = torch.from_numpy(valid_set_labels)\n",
        "        valid_set = torch.utils.data.TensorDataset(valid_set_data, valid_set_labels)\n",
        "        self.train_loader = DataLoader(train_set, batch_size=64, shuffle=True)\n",
        "        self.test_loader = DataLoader(test_set, batch_size=64, shuffle=False)\n",
        "        self.valid_loader = DataLoader(valid_set, batch_size=64, shuffle=False)"
      ]
    },
    {
      "cell_type": "code",
      "execution_count": 6,
      "metadata": {
        "colab": {
          "base_uri": "https://localhost:8080/"
        },
        "id": "3npdESj6Vb_t",
        "outputId": "0cacd88c-4650-46e4-aae6-eb204c7e0a74"
      },
      "outputs": [
        {
          "name": "stdout",
          "output_type": "stream",
          "text": [
            "Loading data...\n",
            "Downloaded successfully train_2000.label\n",
            "\n",
            "Sample questions and corresponding labels... \n",
            "\n",
            "['manner how did serfdom develop in and then leave russia ?', 'cremat what films featured the character popeye doyle ?', \"manner how can i find a list of celebrities ' real names ?\", 'animal what fowl grabs the spotlight after the chinese year of the monkey ?', 'exp what is the full form of .com ?']\n",
            "['DESC', 'ENTY', 'DESC', 'ENTY', 'ABBR']\n"
          ]
        }
      ],
      "source": [
        "print('Loading data...')\n",
        "DataManager.maybe_download(\"data\", \"train_2000.label\", \"http://cogcomp.org/Data/QA/QC/\")\n",
        "\n",
        "dm = DataManager()\n",
        "dm.read_data(\"data/\", [\"train_2000.label\"])"
      ]
    },
    {
      "cell_type": "code",
      "execution_count": 7,
      "metadata": {
        "colab": {
          "base_uri": "https://localhost:8080/"
        },
        "id": "EgrYZPmyVj60",
        "outputId": "59734118-14d5-4443-a295-6119dc08b758"
      },
      "outputs": [],
      "source": [
        "dm.manipulate_data()\n",
        "dm.train_valid_test_split(train_ratio=0.8, test_ratio = 0.1)"
      ]
    },
    {
      "cell_type": "code",
      "execution_count": 8,
      "metadata": {
        "colab": {
          "base_uri": "https://localhost:8080/"
        },
        "id": "bH-U0sUMVnW-",
        "outputId": "4d6555de-43bf-480e-a538-99a9ad721f47"
      },
      "outputs": [
        {
          "name": "stdout",
          "output_type": "stream",
          "text": [
            "torch.Size([64, 36]) torch.Size([64])\n"
          ]
        }
      ],
      "source": [
        "for x, y in dm.train_loader:\n",
        "    print(x.shape, y.shape)\n",
        "    break"
      ]
    },
    {
      "cell_type": "markdown",
      "metadata": {
        "id": "lPPrm2_FHj-j"
      },
      "source": [
        "We now declare the `BaseTrainer` class, which will be used later to train the subsequent deep learning models for text data."
      ]
    },
    {
      "cell_type": "code",
      "execution_count": 9,
      "metadata": {
        "id": "yXlNQvGn7OEb"
      },
      "outputs": [],
      "source": [
        "device = torch.device(\"cuda\" if torch.cuda.is_available() else \"cpu\")\n",
        "\n",
        "class BaseTrainer:\n",
        "    def __init__(self, model, criterion, optimizer, train_loader, val_loader):\n",
        "        self.model = model\n",
        "        self.criterion = criterion  #the loss function\n",
        "        self.optimizer = optimizer  #the optimizer\n",
        "        self.train_loader = train_loader  #the train loader\n",
        "        self.val_loader = val_loader  #the valid loader\n",
        "\n",
        "    #the function to train the model in many epochs\n",
        "    def fit(self, num_epochs):\n",
        "        self.num_batches = len(self.train_loader)\n",
        "\n",
        "        for epoch in range(num_epochs):\n",
        "            print(f'Epoch {epoch + 1}/{num_epochs}')\n",
        "            train_loss, train_accuracy = self.train_one_epoch()\n",
        "            val_loss, val_accuracy = self.validate_one_epoch()\n",
        "            print(\n",
        "                f'{self.num_batches}/{self.num_batches} - train_loss: {train_loss:.4f} - train_accuracy: {train_accuracy*100:.4f}% \\\n",
        "                - val_loss: {val_loss:.4f} - val_accuracy: {val_accuracy*100:.4f}%')\n",
        "\n",
        "    #train in one epoch, return the train_acc, train_loss\n",
        "    def train_one_epoch(self):\n",
        "        self.model.train()\n",
        "        running_loss, correct, total = 0.0, 0, 0\n",
        "        for i, data in enumerate(self.train_loader):\n",
        "            inputs, labels = data\n",
        "            inputs, labels = inputs.to(device), labels.to(device).long()\n",
        "            self.optimizer.zero_grad()\n",
        "            outputs = self.model(inputs)\n",
        "            loss = self.criterion(outputs, labels)\n",
        "            loss.backward()\n",
        "            self.optimizer.step()\n",
        "\n",
        "            running_loss += loss.item()\n",
        "            _, predicted = torch.max(outputs.data, 1)\n",
        "            total += labels.size(0)\n",
        "            correct += (predicted == labels).sum().item()\n",
        "        train_accuracy = correct / total\n",
        "        train_loss = running_loss / self.num_batches\n",
        "        return train_loss, train_accuracy\n",
        "\n",
        "    #evaluate on a loader and return the loss and accuracy\n",
        "    def evaluate(self, loader):\n",
        "        self.model.eval()\n",
        "        loss, correct, total = 0.0, 0, 0\n",
        "        with torch.no_grad():\n",
        "            for data in loader:\n",
        "                inputs, labels = data\n",
        "                inputs, labels = inputs.to(device), labels.to(device).long()\n",
        "                outputs = self.model(inputs)\n",
        "                loss = self.criterion(outputs, labels)\n",
        "                loss += loss.item()\n",
        "                _, predicted = torch.max(outputs.data, 1)\n",
        "                total += labels.size(0)\n",
        "                correct += (predicted == labels).sum().item()\n",
        "\n",
        "        accuracy = correct / total\n",
        "        loss = loss / len(self.val_loader)\n",
        "        return loss, accuracy\n",
        "\n",
        "    #return the val_acc, val_loss, be called at the end of each epoch\n",
        "    def validate_one_epoch(self):\n",
        "      val_loss, val_accuracy = self.evaluate(self.val_loader)\n",
        "      return val_loss, val_accuracy"
      ]
    },
    {
      "cell_type": "markdown",
      "metadata": {
        "id": "sPvLRNDfoSq-"
      },
      "source": [
        "## <font color=\"#0b486b\">Part 4: Transformer-based models for sequence modeling and neural embedding</font>\n",
        "\n",
        "<div style=\"text-align: right\"><font color=\"red; font-weight:bold\">[Total marks for this part: 30 marks]<span></div>"
      ]
    },
    {
      "cell_type": "markdown",
      "metadata": {
        "id": "QOoskR7Ko6Iv"
      },
      "source": [
        "#### <font color=\"red\">**Question 4.1**</font>\n",
        "\n",
        "**Implement the multi-head attention module of the Transformer for the text classification problem. The provided code is from our tutorial. In this part, we only use the output of the Transformer encoder for the classification task. For further information on the Transformer model, refer to [this paper](https://proceedings.neurips.cc/paper_files/paper/2017/file/3f5ee243547dee91fbd053c1c4a845aa-Paper.pdf).**\n",
        "\n",
        "<div style=\"text-align: right\"><font color=\"red; font-weight:bold\">[Total marks for this part: 10 marks]<span></div>\n"
      ]
    },
    {
      "cell_type": "markdown",
      "metadata": {
        "id": "LUnK0WBspLDK"
      },
      "source": [
        "Below is the code of `MultiHeadSelfAttention`, `PositionWiseFeedForward`, `PositionalEncoding`, and `EncoderLayer`."
      ]
    },
    {
      "cell_type": "code",
      "execution_count": 10,
      "metadata": {
        "id": "PERuLdjTZpAl"
      },
      "outputs": [],
      "source": [
        "class MultiHeadAttention(nn.Module):\n",
        "    def __init__(self, d_model, num_heads):\n",
        "        super(MultiHeadAttention, self).__init__()\n",
        "        # Ensure that the model dimension (d_model) is divisible by the number of heads\n",
        "        assert d_model % num_heads == 0, \"d_model must be divisible by num_heads\"\n",
        "\n",
        "        # Initialize dimensions\n",
        "        self.d_model = d_model # Model's dimension\n",
        "        self.num_heads = num_heads # Number of attention heads\n",
        "        self.d_k = d_model // num_heads # Dimension of each head's key, query, and value\n",
        "\n",
        "        # Linear layers for transforming inputs\n",
        "        self.W_q = nn.Linear(d_model, d_model) # Query transformation\n",
        "        self.W_k = nn.Linear(d_model, d_model) # Key transformation\n",
        "        self.W_v = nn.Linear(d_model, d_model) # Value transformation\n",
        "        self.W_o = nn.Linear(d_model, d_model) # Output transformation\n",
        "\n",
        "    def scaled_dot_product_attention(self, Q, K, V):\n",
        "        # Calculate attention scores\n",
        "        attn_scores = torch.matmul(Q, K.transpose(-2, -1)) / math.sqrt(self.d_k)\n",
        "\n",
        "        # Apply mask if provided (useful for preventing attention to certain parts like padding)\n",
        "        #if mask is not None:\n",
        "            #attn_scores = attn_scores.masked_fill(mask == 0, -1e9)\n",
        "\n",
        "        # Softmax is applied to obtain attention probabilities\n",
        "        attn_probs = torch.softmax(attn_scores, dim=-1)\n",
        "\n",
        "        # Multiply by values to obtain the final output\n",
        "        output = torch.matmul(attn_probs, V)\n",
        "        return output\n",
        "\n",
        "    def split_heads(self, x):\n",
        "        # Reshape the input to have num_heads for multi-head attention\n",
        "        batch_size, seq_length, d_model = x.size()\n",
        "        return x.view(batch_size, seq_length, self.num_heads, self.d_k).transpose(1, 2)\n",
        "\n",
        "    def combine_heads(self, x):\n",
        "        # Combine the multiple heads back to original shape\n",
        "        batch_size, _, seq_length, d_k = x.size()\n",
        "        return x.transpose(1, 2).contiguous().view(batch_size, seq_length, self.d_model)\n",
        "\n",
        "    def forward(self, Q, K, V):\n",
        "        # Apply linear transformations and split heads\n",
        "        Q = self.split_heads(self.W_q(Q))\n",
        "        K = self.split_heads(self.W_k(K))\n",
        "        V = self.split_heads(self.W_v(V))\n",
        "\n",
        "        # Perform scaled dot-product attention\n",
        "        attn_output = self.scaled_dot_product_attention(Q, K, V)\n",
        "\n",
        "        # Combine heads and apply output transformation\n",
        "        output = self.W_o(self.combine_heads(attn_output))\n",
        "        return output"
      ]
    },
    {
      "cell_type": "code",
      "execution_count": 11,
      "metadata": {
        "id": "J4MZuO59pR0T"
      },
      "outputs": [],
      "source": [
        "class PositionWiseFeedForward(nn.Module):\n",
        "    def __init__(self, d_model, d_ff):\n",
        "        super(PositionWiseFeedForward, self).__init__()\n",
        "        self.fc1 = nn.Linear(d_model, d_ff)\n",
        "        self.fc2 = nn.Linear(d_ff, d_model)\n",
        "        self.relu = nn.ReLU()\n",
        "\n",
        "    def forward(self, x):\n",
        "        return self.fc2(self.relu(self.fc1(x)))"
      ]
    },
    {
      "cell_type": "code",
      "execution_count": 12,
      "metadata": {
        "id": "qq15ROA9pV3N"
      },
      "outputs": [],
      "source": [
        "import math\n",
        "\n",
        "class PositionalEncoding(nn.Module):\n",
        "    def __init__(self, d_model, max_seq_length):\n",
        "        super(PositionalEncoding, self).__init__()\n",
        "\n",
        "        pe = torch.zeros(max_seq_length, d_model)\n",
        "        position = torch.arange(0, max_seq_length, dtype=torch.float).unsqueeze(1)\n",
        "        div_term = torch.exp(torch.arange(0, d_model, 2).float() * -(math.log(10000.0) / d_model))\n",
        "\n",
        "        pe[:, 0::2] = torch.sin(position * div_term)\n",
        "        pe[:, 1::2] = torch.cos(position * div_term)\n",
        "\n",
        "        self.register_buffer('pe', pe.unsqueeze(0))\n",
        "\n",
        "    def forward(self, x):\n",
        "        return x + self.pe[:, :x.size(1)]"
      ]
    },
    {
      "cell_type": "code",
      "execution_count": 13,
      "metadata": {
        "id": "HKaj3paKqTmG"
      },
      "outputs": [],
      "source": [
        "class EncoderLayer(nn.Module):\n",
        "    def __init__(self, d_model, num_heads, d_ff, dropout):\n",
        "        super(EncoderLayer, self).__init__()\n",
        "        self.self_attn = MultiHeadAttention(d_model, num_heads)\n",
        "        self.feed_forward = PositionWiseFeedForward(d_model, d_ff)\n",
        "        self.norm1 = nn.LayerNorm(d_model)\n",
        "        self.norm2 = nn.LayerNorm(d_model)\n",
        "        self.dropout = nn.Dropout(dropout)\n",
        "\n",
        "    def forward(self, x):\n",
        "        attn_output = self.self_attn(x, x, x)\n",
        "        x = self.norm1(x + self.dropout(attn_output))\n",
        "        ff_output = self.feed_forward(x)\n",
        "        x = self.norm2(x + self.dropout(ff_output))\n",
        "        return x"
      ]
    },
    {
      "cell_type": "markdown",
      "metadata": {
        "id": "pI9I1Gl1ptq8"
      },
      "source": [
        "Your task is to develop `TransformerClassifier` in which we input the embedding with the shape `[batch_size, seq_len, embed_dim]` to some `EncoderLayer` (i.e., num_layers specifies the number of EncoderLayer) and then compute the average of all token embeddings (i.e., `[batch_size, seq_len, embed_dim]`) across the `seq_len`. Finally, on the top of this average embedding, we build up a linear layer for making predictions."
      ]
    },
    {
      "cell_type": "code",
      "execution_count": 15,
      "metadata": {
        "id": "VwzVfN2dpY_p"
      },
      "outputs": [],
      "source": [
        "class TransformerClassifier(nn.Module):\n",
        "    def __init__(self, embed_dim, num_heads, ff_dim, num_layers, dropout_rate=0.2, data_manager = None):\n",
        "        super(TransformerClassifier, self).__init__()\n",
        "        self.vocab_size = data_manager.vocab_size\n",
        "        self.num_classes = data_manager.num_classes\n",
        "        self.embed_dim = embed_dim\n",
        "        self.max_seq_len = data_manager.max_seq_len\n",
        "        self.num_heads = num_heads\n",
        "        self.ff_dim = ff_dim\n",
        "        self.num_layers = num_layers\n",
        "        self.dropout_rate = dropout_rate\n",
        "\n",
        "    def build(self):\n",
        "        #Insert your code here\n",
        "        self.embedding = nn.Embedding(self.vocab_size, self.embed_dim)\n",
        "\n",
        "        self.positional_encoding = PositionalEncoding(self.embed_dim, self.max_seq_len)\n",
        "\n",
        "        self.encoder_layers = nn.ModuleList([\n",
        "            EncoderLayer(self.embed_dim, self.num_heads, self.ff_dim, self.dropout_rate)\n",
        "            for _ in range(self.num_layers)\n",
        "        ])\n",
        "\n",
        "        self.dropout = nn.Dropout(self.dropout_rate)\n",
        "\n",
        "        self.classifier = nn.Linear(self.embed_dim, self.num_classes)\n",
        "        \n",
        "\n",
        "\n",
        "    def forward(self, x):\n",
        "        #Insert your code here\n",
        "        x = self.embedding(x)\n",
        "        \n",
        "        x = self.positional_encoding(x)\n",
        "        for layer in self.encoder_layers:\n",
        "            x = layer(x)  \n",
        "\n",
        "        x = x.mean(dim=1)  \n",
        "\n",
        "        x = self.dropout(x)\n",
        "\n",
        "        logits = self.classifier(x)\n",
        "        return logits\n",
        "\n"
      ]
    },
    {
      "cell_type": "code",
      "execution_count": 16,
      "metadata": {
        "id": "V4sjIOzQrn3b"
      },
      "outputs": [
        {
          "name": "stdout",
          "output_type": "stream",
          "text": [
            "Epoch 1/30\n",
            "26/26 - train_loss: 2.0070 - train_accuracy: 21.4241%                 - val_loss: 0.7982 - val_accuracy: 12.6263%\n",
            "Epoch 2/30\n",
            "26/26 - train_loss: 1.7222 - train_accuracy: 20.6746%                 - val_loss: 0.8270 - val_accuracy: 12.6263%\n",
            "Epoch 3/30\n",
            "26/26 - train_loss: 1.6789 - train_accuracy: 21.5490%                 - val_loss: 0.8328 - val_accuracy: 14.6465%\n",
            "Epoch 4/30\n",
            "26/26 - train_loss: 1.6838 - train_accuracy: 22.2986%                 - val_loss: 0.7610 - val_accuracy: 27.2727%\n",
            "Epoch 5/30\n",
            "26/26 - train_loss: 1.7043 - train_accuracy: 21.6740%                 - val_loss: 0.7320 - val_accuracy: 27.2727%\n",
            "Epoch 6/30\n",
            "26/26 - train_loss: 1.6868 - train_accuracy: 21.1118%                 - val_loss: 0.7176 - val_accuracy: 27.2727%\n",
            "Epoch 7/30\n",
            "26/26 - train_loss: 1.6661 - train_accuracy: 24.4847%                 - val_loss: 1.2706 - val_accuracy: 31.3131%\n",
            "Epoch 8/30\n",
            "26/26 - train_loss: 1.3172 - train_accuracy: 39.7252%                 - val_loss: 0.7244 - val_accuracy: 37.3737%\n",
            "Epoch 9/30\n",
            "26/26 - train_loss: 1.2338 - train_accuracy: 40.6621%                 - val_loss: 0.6348 - val_accuracy: 52.0202%\n",
            "Epoch 10/30\n",
            "26/26 - train_loss: 1.2333 - train_accuracy: 41.8488%                 - val_loss: 0.6598 - val_accuracy: 52.0202%\n",
            "Epoch 11/30\n",
            "26/26 - train_loss: 1.2155 - train_accuracy: 42.8482%                 - val_loss: 0.6566 - val_accuracy: 52.0202%\n",
            "Epoch 12/30\n",
            "26/26 - train_loss: 1.2549 - train_accuracy: 42.7858%                 - val_loss: 0.6589 - val_accuracy: 52.0202%\n",
            "Epoch 13/30\n",
            "26/26 - train_loss: 1.2202 - train_accuracy: 40.5996%                 - val_loss: 0.6376 - val_accuracy: 52.0202%\n",
            "Epoch 14/30\n",
            "26/26 - train_loss: 1.2358 - train_accuracy: 43.9101%                 - val_loss: 0.6464 - val_accuracy: 52.0202%\n",
            "Epoch 15/30\n",
            "26/26 - train_loss: 1.1698 - train_accuracy: 41.7864%                 - val_loss: 0.6175 - val_accuracy: 52.0202%\n",
            "Epoch 16/30\n",
            "26/26 - train_loss: 1.1983 - train_accuracy: 43.2854%                 - val_loss: 0.6229 - val_accuracy: 52.0202%\n",
            "Epoch 17/30\n",
            "26/26 - train_loss: 1.2424 - train_accuracy: 41.2867%                 - val_loss: 0.6326 - val_accuracy: 52.0202%\n",
            "Epoch 18/30\n",
            "26/26 - train_loss: 1.2242 - train_accuracy: 42.0987%                 - val_loss: 0.6472 - val_accuracy: 42.9293%\n",
            "Epoch 19/30\n",
            "26/26 - train_loss: 1.2414 - train_accuracy: 43.7227%                 - val_loss: 0.6819 - val_accuracy: 52.0202%\n",
            "Epoch 20/30\n",
            "26/26 - train_loss: 1.2213 - train_accuracy: 43.9725%                 - val_loss: 0.6827 - val_accuracy: 52.0202%\n",
            "Epoch 21/30\n",
            "26/26 - train_loss: 1.2290 - train_accuracy: 42.0362%                 - val_loss: 0.6554 - val_accuracy: 52.0202%\n",
            "Epoch 22/30\n",
            "26/26 - train_loss: 1.2415 - train_accuracy: 40.9744%                 - val_loss: 0.6274 - val_accuracy: 52.0202%\n",
            "Epoch 23/30\n",
            "26/26 - train_loss: 1.1672 - train_accuracy: 40.7870%                 - val_loss: 0.6264 - val_accuracy: 52.0202%\n",
            "Epoch 24/30\n",
            "26/26 - train_loss: 1.2258 - train_accuracy: 43.7227%                 - val_loss: 0.6206 - val_accuracy: 52.0202%\n",
            "Epoch 25/30\n",
            "26/26 - train_loss: 1.2208 - train_accuracy: 39.6002%                 - val_loss: 0.6318 - val_accuracy: 42.9293%\n",
            "Epoch 26/30\n",
            "26/26 - train_loss: 1.1578 - train_accuracy: 43.8476%                 - val_loss: 0.6543 - val_accuracy: 52.0202%\n",
            "Epoch 27/30\n",
            "26/26 - train_loss: 1.1592 - train_accuracy: 43.1605%                 - val_loss: 0.6577 - val_accuracy: 52.0202%\n",
            "Epoch 28/30\n",
            "26/26 - train_loss: 1.2052 - train_accuracy: 44.3473%                 - val_loss: 0.6793 - val_accuracy: 52.0202%\n",
            "Epoch 29/30\n",
            "26/26 - train_loss: 1.2848 - train_accuracy: 42.7858%                 - val_loss: 0.4857 - val_accuracy: 61.6162%\n",
            "Epoch 30/30\n",
            "26/26 - train_loss: 1.2110 - train_accuracy: 45.5965%                 - val_loss: 0.6689 - val_accuracy: 52.0202%\n"
          ]
        }
      ],
      "source": [
        "transformer = TransformerClassifier(embed_dim=512, num_heads=8, ff_dim=2048, num_layers=12, dropout_rate=0.1, data_manager= dm)\n",
        "transformer.build()\n",
        "transformer = transformer.to(device)\n",
        "criterion = nn.CrossEntropyLoss()\n",
        "optimizer = torch.optim.Adam(transformer.parameters(), lr=1e-4, betas=(0.9, 0.98), eps=1e-9)\n",
        "trainer = BaseTrainer(model= transformer, criterion=criterion, optimizer=optimizer, train_loader=dm.train_loader, val_loader=dm.valid_loader)\n",
        "trainer.fit(num_epochs=30)"
      ]
    },
    {
      "cell_type": "markdown",
      "metadata": {
        "id": "aMbhi0_d0NL-"
      },
      "source": [
        "#### <font color=\"red\">**Question 4.2**</font>\n",
        "**Prefix prompt-tuning with Transformers: You need to implement the prefix prompt-tuning with Transformers. Basically, we base on a pre-trained Transformer, add prefix prompts, and do fine-tuning for a target dataset.**\n",
        "\n",
        "<div style=\"text-align: right\"><font color=\"red; font-weight:bold\">[Total marks for this part: 10 marks]<span></div>"
      ]
    },
    {
      "cell_type": "markdown",
      "metadata": {
        "id": "UyecWD190TP1"
      },
      "source": [
        "To implement prefix prompt-tuning with pretrained Transformers, we first need to create the Bert dataset."
      ]
    },
    {
      "cell_type": "code",
      "execution_count": 17,
      "metadata": {
        "colab": {
          "base_uri": "https://localhost:8080/",
          "height": 118,
          "referenced_widgets": [
            "f22df25bbdfd4c318046b5881431d8f2",
            "6d4ffe3df6844532aa9924e7ca267315",
            "c92e8fce7d1d4dd7bc168a9a59c01365",
            "565b8a47e6d14cdfa61b4b38d031b938",
            "1afe04a339424689bd06b77f4ad4159b",
            "c5b843c5f713486387857fa7f8cbec64",
            "53fc60f4c298454ba42cb1a403438c90",
            "53992ff696954791ab947ec92a7903a0",
            "f2c08ed9df874b169a421f3b76253bae",
            "ac09d663956c4e6e9fdea5c9af136df4",
            "0bb982e0a7b04448a2cd3d004d4cb15c"
          ]
        },
        "id": "mq3PiV2UrueO",
        "outputId": "88bf9c81-023e-4965-b26c-341e883a818c"
      },
      "outputs": [
        {
          "data": {
            "application/vnd.jupyter.widget-view+json": {
              "model_id": "503316bb02e445b685a9ad5a131b19a0",
              "version_major": 2,
              "version_minor": 0
            },
            "text/plain": [
              "Map:   0%|          | 0/2000 [00:00<?, ? examples/s]"
            ]
          },
          "metadata": {},
          "output_type": "display_data"
        },
        {
          "name": "stdout",
          "output_type": "stream",
          "text": [
            "Dataset({\n",
            "    features: ['text', 'label', 'input_ids', 'token_type_ids', 'attention_mask'],\n",
            "    num_rows: 2000\n",
            "})\n"
          ]
        }
      ],
      "source": [
        "from transformers import AutoModel, AutoTokenizer, AdamW\n",
        "from datasets import Dataset\n",
        "\n",
        "model_name = \"bert-base-uncased\"  # BERT or any similar model\n",
        "\n",
        "# Tokenize input and prepare model inputs\n",
        "tokenizer = AutoTokenizer.from_pretrained(model_name)\n",
        "\n",
        "dataset = Dataset.from_dict({\"text\": dm.str_questions, \"label\": dm.numeral_labels})\n",
        "\n",
        "# Tokenize the dataset\n",
        "def tokenize_function(examples):\n",
        "    return tokenizer(examples[\"text\"], padding=\"max_length\", truncation=True, max_length= 36)\n",
        "\n",
        "dataset = dataset.map(tokenize_function, batched=True)\n",
        "dataset.set_format(type=\"torch\", columns=[\"input_ids\", \"attention_mask\", \"label\"])\n",
        "print(dataset)"
      ]
    },
    {
      "cell_type": "markdown",
      "metadata": {
        "id": "ASKOrO5n1ckY"
      },
      "source": [
        "The following function splits the BERT dataset `dataset` into three BERT datasets for training, valid, and testing."
      ]
    },
    {
      "cell_type": "code",
      "execution_count": 18,
      "metadata": {
        "id": "UDgfnCV70gzG"
      },
      "outputs": [],
      "source": [
        "def train_valid_test_split(dataset, train_ratio=0.8, test_ratio = 0.1):\n",
        "    num_sentences = len(dataset)\n",
        "    train_size = int(num_sentences*train_ratio) +1\n",
        "    test_size = int(num_sentences*test_ratio) +1\n",
        "    valid_size = num_sentences - (train_size + test_size)\n",
        "    train_set = dataset[:train_size]\n",
        "    train_set = Dataset.from_dict(train_set)\n",
        "    train_set.set_format(type=\"torch\", columns=[\"input_ids\", \"attention_mask\", \"label\"])\n",
        "    test_set = dataset[-test_size:]\n",
        "    test_set = Dataset.from_dict(test_set)\n",
        "    test_set.set_format(type=\"torch\", columns=[\"input_ids\", \"attention_mask\", \"label\"])\n",
        "    valid_set = dataset[train_size:-test_size]\n",
        "    valid_set = Dataset.from_dict(valid_set)\n",
        "    valid_set.set_format(type=\"torch\", columns=[\"input_ids\", \"attention_mask\", \"label\"])\n",
        "    train_loader = DataLoader(train_set, batch_size=64, shuffle=True)\n",
        "    test_loader = DataLoader(test_set, batch_size=64, shuffle=False)\n",
        "    valid_loader = DataLoader(valid_set, batch_size=64, shuffle=False)\n",
        "    return train_loader, test_loader, valid_loader\n"
      ]
    },
    {
      "cell_type": "code",
      "execution_count": 19,
      "metadata": {
        "id": "s_sEtXml1lT7"
      },
      "outputs": [],
      "source": [
        "train_loader, test_loader, valid_loader = train_valid_test_split(dataset)"
      ]
    },
    {
      "cell_type": "markdown",
      "metadata": {
        "id": "S3jHATGX2hn4"
      },
      "source": [
        "You need to implement the class `PrefixTuningForClassification` for the prefix prompt fine-tuning. We first load a pre-trained BERT model specified by `model_name`. The parameter `prefix_length` specifies the length of the prefix prompts we add to the pre-trained BERT model. Specifically, given the input batch `[batch_size, seq_len]`, we input to the embedding layer of the pre-trained BERT model to obtain `[batch_size, seq_len, embed_size]`. We create the prefix prompts $P$ of the size `[prefix_length, embed_size]` and concatenate to the embeddings from the pre-trained BERT to obtain `[batch_size, seq_len + prefix_length, embed_size]`. This concatenation tensor will then be fed to the encoder layers of the pre-trained BERT layer to obtain the last `[batch_size, seq_len + prefix_length, embed_size]`."
      ]
    },
    {
      "cell_type": "markdown",
      "metadata": {
        "id": "NXFogDf1jVD0"
      },
      "source": [
        "We then take mean across the seq_len to obtain `[batch_size, embed_size]` on which we can build up a linear layer for making predictions. Please note that **the parameters to tune include the prefix prompts $P$** and **the output linear layer**, and you should freeze the parameters of the BERT pre-trained model. Moreover, your code should cover the edge case when `prefix_length=None`. In this case, we do not insert any prefix prompts and we only do fine-tuning for the output linear layer on top.  "
      ]
    },
    {
      "cell_type": "code",
      "execution_count": 29,
      "metadata": {
        "id": "bZtGBqQV16Kj"
      },
      "outputs": [],
      "source": [
        "class PrefixTuningForClassification(nn.Module):\n",
        "    def __init__(self, model_name, prefix_length=None, data_manager = None):\n",
        "        super(PrefixTuningForClassification, self).__init__()\n",
        "\n",
        "        # Load the pretrained transformer model (BERT-like model)\n",
        "        self.model = AutoModel.from_pretrained(model_name).to(device)\n",
        "        self.hidden_size =  self.model.config.hidden_size\n",
        "        self.prefix_length = prefix_length\n",
        "        self.num_classes = data_manager.num_classes\n",
        "        # Insert your code here\n",
        "\n",
        "        for param in self.model.parameters():\n",
        "            param.requires_grad = False\n",
        "\n",
        "        if self.prefix_length is not None:\n",
        "            self.prefix_embeddings = nn.Parameter(\n",
        "                torch.randn(self.prefix_length, self.hidden_size)\n",
        "            )\n",
        "        else:\n",
        "            self.prefix_embeddings = None\n",
        "\n",
        "        self.classifier = nn.Linear(self.hidden_size, self.num_classes)\n",
        "\n",
        "\n",
        "    def forward(self, input_ids, attention_mask):\n",
        "        # Insert your code here\n",
        "\n",
        "        embeddings = self.model.embeddings(input_ids)  # [batch_size, seq_len, hidden_size]\n",
        "\n",
        "        # If prefix_length is specified, prepend prefix embeddings\n",
        "        if self.prefix_length is not None:\n",
        "            batch_size = embeddings.size(0)\n",
        "\n",
        "\n",
        "            prefix_embeddings = self.prefix_embeddings.unsqueeze(0).expand(\n",
        "                batch_size, -1, -1\n",
        "            )\n",
        "\n",
        "            # Concatenate prefix embeddings with input embeddings\n",
        "            embeddings = torch.cat((prefix_embeddings, embeddings), dim=1)  # [batch_size, seq_len + prefix_length, hidden_size]\n",
        "\n",
        "            # Adjust attention mask to account for prefix tokens\n",
        "            prefix_attention_mask = torch.ones(batch_size, self.prefix_length).to(attention_mask.device)\n",
        "            attention_mask = torch.cat((prefix_attention_mask, attention_mask), dim=1)  # [batch_size, seq_len + prefix_length]\n",
        "\n",
        "        # Pass embeddings through the model using inputs_embeds\n",
        "        outputs = self.model(\n",
        "            inputs_embeds=embeddings,\n",
        "            attention_mask=attention_mask,\n",
        "            return_dict=True\n",
        "        )\n",
        "\n",
        "        # Get the last hidden state\n",
        "        sequence_output = outputs.last_hidden_state  # [batch_size, seq_len + prefix_length, hidden_size]\n",
        "\n",
        "        # Mean pooling over the sequence length dimension\n",
        "        pooled_output = sequence_output.mean(dim=1)  # [batch_size, hidden_size]\n",
        "\n",
        "        # Pass through the classifier to get logits\n",
        "        logits = self.classifier(pooled_output)  # [batch_size, num_classes]\n",
        "\n",
        "        return logits"
      ]
    },
    {
      "cell_type": "markdown",
      "metadata": {
        "id": "RtYVNYXi24Os"
      },
      "source": [
        "You can use the following `FineTunedBaseTrainer` to train the prompt fine-tuning models."
      ]
    },
    {
      "cell_type": "code",
      "execution_count": 27,
      "metadata": {
        "id": "NmRkMqYB24tv"
      },
      "outputs": [],
      "source": [
        "class FineTunedBaseTrainer:\n",
        "    def __init__(self, model, criterion, optimizer, train_loader, val_loader):\n",
        "        self.model = model\n",
        "        self.criterion = criterion  #the loss function\n",
        "        self.optimizer = optimizer  #the optimizer\n",
        "        self.train_loader = train_loader  #the train loader\n",
        "        self.val_loader = val_loader  #the valid loader\n",
        "\n",
        "    #the function to train the model in many epochs\n",
        "    def fit(self, num_epochs):\n",
        "        self.num_batches = len(self.train_loader)\n",
        "\n",
        "        for epoch in range(num_epochs):\n",
        "            print(f'Epoch {epoch + 1}/{num_epochs}')\n",
        "            train_loss, train_accuracy = self.train_one_epoch()\n",
        "            val_loss, val_accuracy = self.validate_one_epoch()\n",
        "            print(\n",
        "                f'{self.num_batches}/{self.num_batches} - train_loss: {train_loss:.4f} - train_accuracy: {train_accuracy*100:.4f}% \\\n",
        "                - val_loss: {val_loss:.4f} - val_accuracy: {val_accuracy*100:.4f}%')\n",
        "\n",
        "    #train in one epoch, return the train_acc, train_loss\n",
        "    def train_one_epoch(self):\n",
        "        self.model.train()\n",
        "        running_loss, correct, total = 0.0, 0, 0\n",
        "        for batch in self.train_loader:\n",
        "            input_ids = batch[\"input_ids\"].to(device)\n",
        "            attention_mask = batch[\"attention_mask\"].to(device)\n",
        "            labels = batch[\"label\"].to(device)\n",
        "            self.optimizer.zero_grad()\n",
        "            outputs = self.model(input_ids= input_ids, attention_mask= attention_mask)\n",
        "            loss = self.criterion(outputs, labels)\n",
        "            loss.backward()\n",
        "            self.optimizer.step()\n",
        "\n",
        "            running_loss += loss.item()\n",
        "            _, predicted = torch.max(outputs.data, 1)\n",
        "            total += labels.size(0)\n",
        "            correct += (predicted == labels).sum().item()\n",
        "        train_accuracy = correct / total\n",
        "        train_loss = running_loss / self.num_batches\n",
        "        return train_loss, train_accuracy\n",
        "\n",
        "    #evaluate on a loader and return the loss and accuracy\n",
        "    def evaluate(self, loader):\n",
        "        self.model.eval()\n",
        "        loss, correct, total = 0.0, 0, 0\n",
        "        with torch.no_grad():\n",
        "            for batch in loader:\n",
        "                input_ids = batch[\"input_ids\"].to(device)\n",
        "                labels = batch[\"label\"].to(device)\n",
        "                attention_mask = batch[\"attention_mask\"].to(device)\n",
        "                outputs = self.model(input_ids= input_ids, attention_mask= attention_mask)\n",
        "                loss = self.criterion(outputs, labels)\n",
        "                loss += loss.item()\n",
        "                _, predicted = torch.max(outputs.data, 1)\n",
        "                total += labels.size(0)\n",
        "                correct += (predicted == labels).sum().item()\n",
        "\n",
        "        accuracy = correct / total\n",
        "        loss = loss / len(self.val_loader)\n",
        "        return loss, accuracy\n",
        "\n",
        "    #return the val_acc, val_loss, be called at the end of each epoch\n",
        "    def validate_one_epoch(self):\n",
        "      val_loss, val_accuracy = self.evaluate(self.val_loader)\n",
        "      return val_loss, val_accuracy"
      ]
    },
    {
      "cell_type": "markdown",
      "metadata": {
        "id": "4KQhBHPe20zo"
      },
      "source": [
        "We declare and train the prefix-prompt tuning model. In addition, you need to be patient with this model because it might converge slowly with many epochs."
      ]
    },
    {
      "cell_type": "code",
      "execution_count": 30,
      "metadata": {
        "colab": {
          "base_uri": "https://localhost:8080/",
          "height": 49,
          "referenced_widgets": [
            "82882b5f60124671a24a441dd69744f0",
            "46b5dadbe28349a0bedd1f29f21fdb1a",
            "22aae80a680146349e893e8b6bf4f1cb",
            "f5749f315a094134bb7c5609cc63ebfa",
            "0b93f82459a947fdbfe51344084430e0",
            "77b75aa87f89451bbab3c1bf144e4086",
            "21ebdfb79e4e4085bc96e41f600b7762",
            "998fe40c1f97456e875b371516d7a76b",
            "3a51a333d82848faa4df9fb4e8ea10ed",
            "17bb0346995d4dfd85685c3fadaccfa3",
            "498990bbfaa84c4582b061384948343b"
          ]
        },
        "id": "qLowEOeg3HWW",
        "outputId": "2c3ac37f-a2ec-4a61-8373-70fd48d37233"
      },
      "outputs": [],
      "source": [
        "prefix_tuning_model = PrefixTuningForClassification(model_name = \"bert-base-uncased\", prefix_length = 5, data_manager = dm).to(device)"
      ]
    },
    {
      "cell_type": "code",
      "execution_count": 31,
      "metadata": {
        "id": "UYMDOjWW3UVk"
      },
      "outputs": [
        {
          "name": "stdout",
          "output_type": "stream",
          "text": [
            "Epoch 1/100\n",
            "26/26 - train_loss: 1.7547 - train_accuracy: 24.6096%                 - val_loss: 0.8270 - val_accuracy: 26.2626%\n",
            "Epoch 2/100\n",
            "26/26 - train_loss: 1.7176 - train_accuracy: 26.8582%                 - val_loss: 0.8180 - val_accuracy: 29.7980%\n",
            "Epoch 3/100\n",
            "26/26 - train_loss: 1.7134 - train_accuracy: 29.3567%                 - val_loss: 0.8107 - val_accuracy: 33.8384%\n",
            "Epoch 4/100\n",
            "26/26 - train_loss: 1.6725 - train_accuracy: 32.3548%                 - val_loss: 0.8052 - val_accuracy: 35.8586%\n",
            "Epoch 5/100\n",
            "26/26 - train_loss: 1.6372 - train_accuracy: 35.5403%                 - val_loss: 0.7985 - val_accuracy: 38.3838%\n",
            "Epoch 6/100\n",
            "26/26 - train_loss: 1.6195 - train_accuracy: 34.5409%                 - val_loss: 0.7865 - val_accuracy: 39.3939%\n",
            "Epoch 7/100\n",
            "26/26 - train_loss: 1.6033 - train_accuracy: 36.9769%                 - val_loss: 0.7770 - val_accuracy: 39.8990%\n",
            "Epoch 8/100\n",
            "26/26 - train_loss: 1.5901 - train_accuracy: 37.8513%                 - val_loss: 0.7677 - val_accuracy: 42.9293%\n",
            "Epoch 9/100\n",
            "26/26 - train_loss: 1.5899 - train_accuracy: 39.3504%                 - val_loss: 0.7660 - val_accuracy: 44.9495%\n",
            "Epoch 10/100\n",
            "26/26 - train_loss: 1.5671 - train_accuracy: 42.4110%                 - val_loss: 0.7641 - val_accuracy: 47.4747%\n",
            "Epoch 11/100\n",
            "26/26 - train_loss: 1.5551 - train_accuracy: 44.2224%                 - val_loss: 0.7550 - val_accuracy: 47.9798%\n",
            "Epoch 12/100\n",
            "26/26 - train_loss: 1.5475 - train_accuracy: 44.9719%                 - val_loss: 0.7470 - val_accuracy: 46.9697%\n",
            "Epoch 13/100\n",
            "26/26 - train_loss: 1.5305 - train_accuracy: 46.7833%                 - val_loss: 0.7450 - val_accuracy: 50.0000%\n",
            "Epoch 14/100\n",
            "26/26 - train_loss: 1.5254 - train_accuracy: 46.3460%                 - val_loss: 0.7418 - val_accuracy: 50.0000%\n",
            "Epoch 15/100\n",
            "26/26 - train_loss: 1.5072 - train_accuracy: 47.7826%                 - val_loss: 0.7363 - val_accuracy: 52.0202%\n",
            "Epoch 16/100\n",
            "26/26 - train_loss: 1.4905 - train_accuracy: 50.8432%                 - val_loss: 0.7325 - val_accuracy: 52.5253%\n",
            "Epoch 17/100\n",
            "26/26 - train_loss: 1.4905 - train_accuracy: 51.4678%                 - val_loss: 0.7290 - val_accuracy: 54.0404%\n",
            "Epoch 18/100\n",
            "26/26 - train_loss: 1.4795 - train_accuracy: 52.1549%                 - val_loss: 0.7211 - val_accuracy: 55.5556%\n",
            "Epoch 19/100\n",
            "26/26 - train_loss: 1.4693 - train_accuracy: 54.5909%                 - val_loss: 0.7098 - val_accuracy: 56.0606%\n",
            "Epoch 20/100\n",
            "26/26 - train_loss: 1.4571 - train_accuracy: 54.9656%                 - val_loss: 0.7013 - val_accuracy: 55.0505%\n",
            "Epoch 21/100\n",
            "26/26 - train_loss: 1.4469 - train_accuracy: 55.0281%                 - val_loss: 0.6971 - val_accuracy: 56.0606%\n",
            "Epoch 22/100\n",
            "26/26 - train_loss: 1.4375 - train_accuracy: 54.0287%                 - val_loss: 0.6947 - val_accuracy: 54.5455%\n",
            "Epoch 23/100\n",
            "26/26 - train_loss: 1.4222 - train_accuracy: 53.9663%                 - val_loss: 0.6906 - val_accuracy: 55.0505%\n",
            "Epoch 24/100\n",
            "26/26 - train_loss: 1.4230 - train_accuracy: 55.2780%                 - val_loss: 0.6823 - val_accuracy: 57.0707%\n",
            "Epoch 25/100\n",
            "26/26 - train_loss: 1.4317 - train_accuracy: 54.9656%                 - val_loss: 0.6780 - val_accuracy: 58.0808%\n",
            "Epoch 26/100\n",
            "26/26 - train_loss: 1.4151 - train_accuracy: 56.4022%                 - val_loss: 0.6734 - val_accuracy: 59.5960%\n",
            "Epoch 27/100\n",
            "26/26 - train_loss: 1.4086 - train_accuracy: 58.1512%                 - val_loss: 0.6679 - val_accuracy: 62.6263%\n",
            "Epoch 28/100\n",
            "26/26 - train_loss: 1.3929 - train_accuracy: 60.4622%                 - val_loss: 0.6646 - val_accuracy: 63.1313%\n",
            "Epoch 29/100\n",
            "26/26 - train_loss: 1.3847 - train_accuracy: 62.2111%                 - val_loss: 0.6643 - val_accuracy: 66.6667%\n",
            "Epoch 30/100\n",
            "26/26 - train_loss: 1.3813 - train_accuracy: 62.5859%                 - val_loss: 0.6645 - val_accuracy: 65.1515%\n",
            "Epoch 31/100\n",
            "26/26 - train_loss: 1.3752 - train_accuracy: 62.8357%                 - val_loss: 0.6615 - val_accuracy: 63.1313%\n",
            "Epoch 32/100\n",
            "26/26 - train_loss: 1.3636 - train_accuracy: 62.5234%                 - val_loss: 0.6582 - val_accuracy: 63.6364%\n",
            "Epoch 33/100\n",
            "26/26 - train_loss: 1.3652 - train_accuracy: 62.8357%                 - val_loss: 0.6476 - val_accuracy: 62.1212%\n",
            "Epoch 34/100\n",
            "26/26 - train_loss: 1.3577 - train_accuracy: 63.7726%                 - val_loss: 0.6420 - val_accuracy: 68.1818%\n",
            "Epoch 35/100\n",
            "26/26 - train_loss: 1.3290 - train_accuracy: 66.0837%                 - val_loss: 0.6367 - val_accuracy: 70.2020%\n",
            "Epoch 36/100\n",
            "26/26 - train_loss: 1.3160 - train_accuracy: 65.5215%                 - val_loss: 0.6328 - val_accuracy: 70.2020%\n",
            "Epoch 37/100\n",
            "26/26 - train_loss: 1.3245 - train_accuracy: 65.5840%                 - val_loss: 0.6249 - val_accuracy: 70.7071%\n",
            "Epoch 38/100\n",
            "26/26 - train_loss: 1.2998 - train_accuracy: 66.1462%                 - val_loss: 0.6202 - val_accuracy: 71.2121%\n",
            "Epoch 39/100\n",
            "26/26 - train_loss: 1.3057 - train_accuracy: 68.5197%                 - val_loss: 0.6131 - val_accuracy: 71.2121%\n",
            "Epoch 40/100\n",
            "26/26 - train_loss: 1.2963 - train_accuracy: 67.1455%                 - val_loss: 0.6108 - val_accuracy: 71.7172%\n",
            "Epoch 41/100\n",
            "26/26 - train_loss: 1.2711 - train_accuracy: 65.9588%                 - val_loss: 0.6081 - val_accuracy: 71.2121%\n",
            "Epoch 42/100\n",
            "26/26 - train_loss: 1.2882 - train_accuracy: 66.7083%                 - val_loss: 0.6006 - val_accuracy: 72.7273%\n",
            "Epoch 43/100\n",
            "26/26 - train_loss: 1.2829 - train_accuracy: 68.9569%                 - val_loss: 0.5970 - val_accuracy: 73.7374%\n",
            "Epoch 44/100\n",
            "26/26 - train_loss: 1.2620 - train_accuracy: 69.0194%                 - val_loss: 0.5980 - val_accuracy: 72.2222%\n",
            "Epoch 45/100\n",
            "26/26 - train_loss: 1.2581 - train_accuracy: 68.8320%                 - val_loss: 0.5947 - val_accuracy: 73.7374%\n",
            "Epoch 46/100\n",
            "26/26 - train_loss: 1.3443 - train_accuracy: 69.9563%                 - val_loss: 0.5911 - val_accuracy: 73.7374%\n",
            "Epoch 47/100\n",
            "26/26 - train_loss: 1.2369 - train_accuracy: 68.3323%                 - val_loss: 0.5871 - val_accuracy: 73.7374%\n",
            "Epoch 48/100\n",
            "26/26 - train_loss: 1.2694 - train_accuracy: 69.0818%                 - val_loss: 0.5790 - val_accuracy: 73.2323%\n",
            "Epoch 49/100\n",
            "26/26 - train_loss: 1.2386 - train_accuracy: 69.4566%                 - val_loss: 0.5771 - val_accuracy: 74.2424%\n",
            "Epoch 50/100\n",
            "26/26 - train_loss: 1.2352 - train_accuracy: 69.4566%                 - val_loss: 0.5731 - val_accuracy: 74.2424%\n",
            "Epoch 51/100\n",
            "26/26 - train_loss: 1.2412 - train_accuracy: 69.9563%                 - val_loss: 0.5706 - val_accuracy: 74.2424%\n",
            "Epoch 52/100\n",
            "26/26 - train_loss: 1.2240 - train_accuracy: 69.5191%                 - val_loss: 0.5694 - val_accuracy: 74.2424%\n",
            "Epoch 53/100\n",
            "26/26 - train_loss: 1.2024 - train_accuracy: 70.5809%                 - val_loss: 0.5675 - val_accuracy: 72.2222%\n",
            "Epoch 54/100\n",
            "26/26 - train_loss: 1.1934 - train_accuracy: 69.7064%                 - val_loss: 0.5588 - val_accuracy: 73.2323%\n",
            "Epoch 55/100\n",
            "26/26 - train_loss: 1.1855 - train_accuracy: 70.7683%                 - val_loss: 0.5501 - val_accuracy: 72.2222%\n",
            "Epoch 56/100\n",
            "26/26 - train_loss: 1.1865 - train_accuracy: 71.5178%                 - val_loss: 0.5473 - val_accuracy: 72.7273%\n",
            "Epoch 57/100\n",
            "26/26 - train_loss: 1.1871 - train_accuracy: 71.5178%                 - val_loss: 0.5448 - val_accuracy: 73.2323%\n",
            "Epoch 58/100\n",
            "26/26 - train_loss: 1.1549 - train_accuracy: 74.2661%                 - val_loss: 0.5463 - val_accuracy: 73.7374%\n",
            "Epoch 59/100\n",
            "26/26 - train_loss: 1.1847 - train_accuracy: 72.4547%                 - val_loss: 0.5458 - val_accuracy: 75.2525%\n",
            "Epoch 60/100\n",
            "26/26 - train_loss: 1.1827 - train_accuracy: 72.6421%                 - val_loss: 0.5408 - val_accuracy: 75.2525%\n",
            "Epoch 61/100\n",
            "26/26 - train_loss: 1.1688 - train_accuracy: 73.4541%                 - val_loss: 0.5401 - val_accuracy: 76.2626%\n",
            "Epoch 62/100\n",
            "26/26 - train_loss: 1.1639 - train_accuracy: 73.5166%                 - val_loss: 0.5397 - val_accuracy: 75.7576%\n",
            "Epoch 63/100\n",
            "26/26 - train_loss: 1.1525 - train_accuracy: 74.8907%                 - val_loss: 0.5348 - val_accuracy: 75.7576%\n",
            "Epoch 64/100\n",
            "26/26 - train_loss: 1.1427 - train_accuracy: 73.5790%                 - val_loss: 0.5327 - val_accuracy: 76.2626%\n",
            "Epoch 65/100\n",
            "26/26 - train_loss: 1.1360 - train_accuracy: 73.0169%                 - val_loss: 0.5283 - val_accuracy: 76.2626%\n",
            "Epoch 66/100\n",
            "26/26 - train_loss: 1.1269 - train_accuracy: 74.5784%                 - val_loss: 0.5233 - val_accuracy: 75.7576%\n",
            "Epoch 67/100\n",
            "26/26 - train_loss: 1.1232 - train_accuracy: 75.0781%                 - val_loss: 0.5169 - val_accuracy: 76.2626%\n",
            "Epoch 68/100\n",
            "26/26 - train_loss: 1.1170 - train_accuracy: 74.4535%                 - val_loss: 0.5083 - val_accuracy: 76.2626%\n",
            "Epoch 69/100\n",
            "26/26 - train_loss: 1.0829 - train_accuracy: 74.7658%                 - val_loss: 0.5049 - val_accuracy: 76.7677%\n",
            "Epoch 70/100\n",
            "26/26 - train_loss: 1.1083 - train_accuracy: 74.3910%                 - val_loss: 0.5008 - val_accuracy: 77.2727%\n",
            "Epoch 71/100\n",
            "26/26 - train_loss: 1.1157 - train_accuracy: 73.8913%                 - val_loss: 0.4965 - val_accuracy: 76.7677%\n",
            "Epoch 72/100\n",
            "26/26 - train_loss: 1.1171 - train_accuracy: 75.0156%                 - val_loss: 0.4967 - val_accuracy: 77.2727%\n",
            "Epoch 73/100\n",
            "26/26 - train_loss: 1.0853 - train_accuracy: 75.3904%                 - val_loss: 0.4986 - val_accuracy: 77.2727%\n",
            "Epoch 74/100\n",
            "26/26 - train_loss: 1.0743 - train_accuracy: 74.5784%                 - val_loss: 0.4950 - val_accuracy: 77.7778%\n",
            "Epoch 75/100\n",
            "26/26 - train_loss: 1.0723 - train_accuracy: 73.4541%                 - val_loss: 0.4932 - val_accuracy: 77.2727%\n",
            "Epoch 76/100\n",
            "26/26 - train_loss: 1.0519 - train_accuracy: 75.2655%                 - val_loss: 0.4847 - val_accuracy: 77.7778%\n",
            "Epoch 77/100\n",
            "26/26 - train_loss: 1.0578 - train_accuracy: 76.2024%                 - val_loss: 0.4821 - val_accuracy: 78.2828%\n",
            "Epoch 78/100\n",
            "26/26 - train_loss: 1.0722 - train_accuracy: 75.0156%                 - val_loss: 0.4792 - val_accuracy: 77.7778%\n",
            "Epoch 79/100\n",
            "26/26 - train_loss: 1.0446 - train_accuracy: 74.7658%                 - val_loss: 0.4761 - val_accuracy: 78.2828%\n",
            "Epoch 80/100\n",
            "26/26 - train_loss: 1.0616 - train_accuracy: 75.2030%                 - val_loss: 0.4709 - val_accuracy: 77.7778%\n",
            "Epoch 81/100\n",
            "26/26 - train_loss: 1.0567 - train_accuracy: 76.4522%                 - val_loss: 0.4732 - val_accuracy: 77.7778%\n",
            "Epoch 82/100\n",
            "26/26 - train_loss: 1.0516 - train_accuracy: 75.2655%                 - val_loss: 0.4690 - val_accuracy: 77.7778%\n",
            "Epoch 83/100\n",
            "26/26 - train_loss: 1.0511 - train_accuracy: 76.7645%                 - val_loss: 0.4666 - val_accuracy: 77.7778%\n",
            "Epoch 84/100\n",
            "26/26 - train_loss: 1.0282 - train_accuracy: 76.6396%                 - val_loss: 0.4643 - val_accuracy: 77.2727%\n",
            "Epoch 85/100\n",
            "26/26 - train_loss: 1.0293 - train_accuracy: 76.5771%                 - val_loss: 0.4617 - val_accuracy: 77.2727%\n",
            "Epoch 86/100\n",
            "26/26 - train_loss: 1.0449 - train_accuracy: 75.8276%                 - val_loss: 0.4596 - val_accuracy: 77.2727%\n",
            "Epoch 87/100\n",
            "26/26 - train_loss: 1.0136 - train_accuracy: 75.5153%                 - val_loss: 0.4562 - val_accuracy: 78.7879%\n",
            "Epoch 88/100\n",
            "26/26 - train_loss: 1.0202 - train_accuracy: 76.4522%                 - val_loss: 0.4519 - val_accuracy: 77.7778%\n",
            "Epoch 89/100\n",
            "26/26 - train_loss: 1.0487 - train_accuracy: 75.7027%                 - val_loss: 0.4467 - val_accuracy: 78.7879%\n",
            "Epoch 90/100\n",
            "26/26 - train_loss: 1.0073 - train_accuracy: 76.7645%                 - val_loss: 0.4474 - val_accuracy: 78.2828%\n",
            "Epoch 91/100\n",
            "26/26 - train_loss: 0.9836 - train_accuracy: 76.2024%                 - val_loss: 0.4402 - val_accuracy: 78.2828%\n",
            "Epoch 92/100\n",
            "26/26 - train_loss: 0.9810 - train_accuracy: 76.8894%                 - val_loss: 0.4361 - val_accuracy: 78.2828%\n",
            "Epoch 93/100\n",
            "26/26 - train_loss: 0.9888 - train_accuracy: 77.8264%                 - val_loss: 0.4341 - val_accuracy: 78.7879%\n",
            "Epoch 94/100\n",
            "26/26 - train_loss: 0.9974 - train_accuracy: 77.0144%                 - val_loss: 0.4325 - val_accuracy: 78.7879%\n",
            "Epoch 95/100\n",
            "26/26 - train_loss: 1.0768 - train_accuracy: 76.6396%                 - val_loss: 0.4270 - val_accuracy: 77.7778%\n",
            "Epoch 96/100\n",
            "26/26 - train_loss: 0.9620 - train_accuracy: 78.3260%                 - val_loss: 0.4252 - val_accuracy: 77.7778%\n",
            "Epoch 97/100\n",
            "26/26 - train_loss: 0.9701 - train_accuracy: 76.7021%                 - val_loss: 0.4237 - val_accuracy: 78.2828%\n",
            "Epoch 98/100\n",
            "26/26 - train_loss: 0.9478 - train_accuracy: 78.0762%                 - val_loss: 0.4227 - val_accuracy: 79.2929%\n",
            "Epoch 99/100\n",
            "26/26 - train_loss: 0.9689 - train_accuracy: 78.0137%                 - val_loss: 0.4187 - val_accuracy: 78.2828%\n",
            "Epoch 100/100\n",
            "26/26 - train_loss: 0.9672 - train_accuracy: 77.9513%                 - val_loss: 0.4138 - val_accuracy: 77.7778%\n"
          ]
        }
      ],
      "source": [
        "if prefix_tuning_model.prefix_length is not None:\n",
        "  optimizer = torch.optim.Adam(list(prefix_tuning_model.classifier.parameters()) + [prefix_tuning_model.prefix_embeddings], lr=5e-5)\n",
        "else:\n",
        "  optimizer = torch.optim.Adam(prefix_tuning_model.classifier.parameters(), lr=1e-4)\n",
        "criterion = nn.CrossEntropyLoss()\n",
        "trainer = FineTunedBaseTrainer(model= prefix_tuning_model, criterion=criterion, optimizer=optimizer, train_loader=train_loader, val_loader=valid_loader)\n",
        "trainer.fit(num_epochs=100)"
      ]
    },
    {
      "cell_type": "markdown",
      "metadata": {
        "id": "xi6PnvdO-Glw"
      },
      "source": [
        "#### <font color=\"red\">**Question 4.3**</font>\n",
        "**For any models defined in the previous questions (of all parts), you are free to fine-tune hyperparameters, e.g., `optimizer`, `learning_rate`, `state_sizes`, such that you get a best model, i.e., the one with the highest accuracy on the test set. You will need to report (i) what is your best model,  (ii) its accuracy on the test set, and (iii) the values of its hyperparameters. Note that you must report your best model's accuracy with rounding to 4 decimal places, i.e., 0.xxxx. You will also need to upload your best model (or provide us with the link to download your best model). The assessment will be based on your best model's accuracy, with up to 9 marks available, specifically:**\n",
        "* The best accuracy $\\ge$ 0.97: 10 marks\n",
        "* 0.97 $>$ The best accuracy $\\ge$ 0.92: 7 marks\n",
        "* 0.92 $>$ The best accuracy $\\ge$ 0.85: 4 marks\n",
        "* The best accuracy $<$ 0.85: 0 mark\n",
        "\n",
        "**For this question, you can put below the code to train the best model. In this case, you need to show your code and the evidence of running regarding the best model. Moreover, if you save the best model, you need to provide the link to download the best model, the code to load the best model, and then evaluate on the test set.**\n",
        "<div style=\"text-align: right\"><font color=\"red\">[10 marks]</font></div>"
      ]
    },
    {
      "cell_type": "markdown",
      "metadata": {
        "id": "EvM2pq3J-K0C"
      },
      "source": [
        "# Give your answer here.\n",
        "\n",
        "(i) GRU RNN model using init-fine-tune embedding matrix\n",
        "\n",
        "(ii) 0.9898989898 recurring\n",
        "\n",
        "(iii) cell_type='gru', embed_size=128, state_sizes=[64, 128], output_type=\"mean\", run_mode='init-fine-tune', epochs=30, lr=0.001\n",
        "\n",
        "(iv) [The link to download your best model](https://drive.google.com/file/d/1vwIoeLcDo-jRj-WtWP28AFKzbwuw3gce/view?usp=sharing)"
      ]
    },
    {
      "cell_type": "markdown",
      "metadata": {
        "id": "evYeSuXm-OkM"
      },
      "source": [
        "---\n",
        "<div style=\"text-align: center\"> <font color=\"green\">GOOD LUCK WITH YOUR ASSIGNMENT 2!</font> </div>\n",
        "<div style=\"text-align: center\"> <font color=\"black\">END OF ASSIGNMENT</font> </div>"
      ]
    }
  ],
  "metadata": {
    "accelerator": "GPU",
    "colab": {
      "gpuType": "T4",
      "provenance": []
    },
    "kernelspec": {
      "display_name": "Python 3",
      "name": "python3"
    },
    "language_info": {
      "name": "python"
    }
  },
  "nbformat": 4,
  "nbformat_minor": 0
}
